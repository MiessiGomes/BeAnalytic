{
 "cells": [
  {
   "cell_type": "markdown",
   "metadata": {},
   "source": [
    "# Importações"
   ]
  },
  {
   "cell_type": "code",
   "execution_count": 80,
   "metadata": {},
   "outputs": [
    {
     "name": "stderr",
     "output_type": "stream",
     "text": [
      "C:\\Users\\joser\\AppData\\Local\\Temp\\ipykernel_14704\\616402949.py:14: DtypeWarning:\n",
      "\n",
      "Columns (5,6,7,8,9,10,11,12,13,14,15,16,17,18,19,20,21,22,23,24,25,26,27,28,29,30,31,32,33,34,35,36,37,38,39,40,41,42,43,44,45,46,47,48,49,50,51,52,53,54,55,56,57,58,59,60,61,62,63,64,65,66,67,68,69,70,71,72,73,74,75) have mixed types. Specify dtype option on import or set low_memory=False.\n",
      "\n"
     ]
    },
    {
     "data": {
      "text/plain": [
       "(                           NC                    NN  \\\n",
       " 0  Nível Territorial (Código)     Nível Territorial   \n",
       " 1                           1                Brasil   \n",
       " 2                           3  Unidade da Federação   \n",
       " 3                           3  Unidade da Federação   \n",
       " 4                           3  Unidade da Federação   \n",
       " \n",
       "                            MC                 MN      V                D1C  \\\n",
       " 0  Unidade de Medida (Código)  Unidade de Medida  Valor  Variável (Código)   \n",
       " 1                        1020           Unidades  96862                630   \n",
       " 2                        1020           Unidades      -                630   \n",
       " 3                        1020           Unidades      -                630   \n",
       " 4                        1020           Unidades      -                630   \n",
       " \n",
       "                   D1N           D2C   D2N  \\\n",
       " 0            Variável  Ano (Código)   Ano   \n",
       " 1  Número de empresas          2007  2007   \n",
       " 2  Número de empresas          2007  2007   \n",
       " 3  Número de empresas          2007  2007   \n",
       " 4  Número de empresas          2007  2007   \n",
       " \n",
       "                                       D3C                            D3N  \\\n",
       " 0  Brasil e Unidade da Federação (Código)  Brasil e Unidade da Federação   \n",
       " 1                                       1                         Brasil   \n",
       " 2                                      11                       Rondônia   \n",
       " 3                                      12                           Acre   \n",
       " 4                                      13                       Amazonas   \n",
       " \n",
       "                                   D4C                        D4N  \n",
       " 0  Faixas de pessoal ocupado (Código)  Faixas de pessoal ocupado  \n",
       " 1                              104029                      Total  \n",
       " 2                              104029                      Total  \n",
       " 3                              104029                      Total  \n",
       " 4                              104029                      Total  ,\n",
       "    IDADE   SEXO  CÓD. SIGLA   LOCAL        2000        2001        2002  \\\n",
       " 0      0  Ambos     0    BR  Brasil  3.423.475   3.347.313   3.274.356    \n",
       " 1      1  Ambos     0    BR  Brasil  3.450.022   3.406.966   3.332.612    \n",
       " 2      2  Ambos     0    BR  Brasil  3.461.038   3.444.450   3.401.900    \n",
       " 3      3  Ambos     0    BR  Brasil  3.469.109   3.458.052   3.441.638    \n",
       " 4      4  Ambos     0    BR  Brasil  3.477.903   3.466.901   3.455.987    \n",
       " \n",
       "          2003        2004  ...        2061        2062        2063  \\\n",
       " 0  3.212.295   3.163.041   ...  1.615.589   1.597.609   1.580.751    \n",
       " 1  3.261.091   3.200.484   ...  1.634.395   1.614.666   1.596.716    \n",
       " 2  3.327.924   3.256.791   ...  1.655.206   1.633.932   1.614.217    \n",
       " 3  3.399.284   3.325.501   ...  1.676.639   1.654.738   1.633.474    \n",
       " 4  3.439.662   3.397.467   ...  1.697.627   1.676.166   1.654.275    \n",
       " \n",
       "          2064        2065        2066        2067        2068        2069  \\\n",
       " 0  1.564.427   1.549.026   1.534.801   1.521.584   1.509.151   1.497.237    \n",
       " 1  1.579.885   1.563.579   1.548.205   1.534.002   1.520.805   1.508.394    \n",
       " 2  1.596.273   1.579.457   1.563.166   1.547.800   1.533.609   1.520.415    \n",
       " 3  1.613.776   1.595.841   1.579.039   1.562.761   1.547.399   1.533.216    \n",
       " 4  1.633.030   1.613.338   1.595.416   1.578.625   1.562.356   1.547.006    \n",
       " \n",
       "          2070  \n",
       " 0  1.485.716   \n",
       " 1  1.496.496   \n",
       " 2  1.508.015   \n",
       " 3  1.520.035   \n",
       " 4  1.532.831   \n",
       " \n",
       " [5 rows x 76 columns])"
      ]
     },
     "execution_count": 80,
     "metadata": {},
     "output_type": "execute_result"
    }
   ],
   "source": [
    "import pandas as pd\n",
    "import seaborn as sns\n",
    "import matplotlib.pyplot as plt\n",
    "import numpy as np\n",
    "from sklearn.linear_model import LinearRegression\n",
    "import plotly.graph_objects as go\n",
    "import plotly.express as px\n",
    "\n",
    "\n",
    "file_sidra = \"dados_sidra_empresas.csv\"\n",
    "file_populacao = \"populacao.csv\"\n",
    "\n",
    "dados_empresas = pd.read_csv(file_sidra, encoding=\"utf-8\")\n",
    "dados_populacao = pd.read_csv(file_populacao, encoding=\"utf-8\")\n",
    "\n",
    "dados_empresas.head(), dados_populacao.head()"
   ]
  },
  {
   "cell_type": "markdown",
   "metadata": {},
   "source": [
    "# Análise Exploratória e Limpeza"
   ]
  },
  {
   "cell_type": "code",
   "execution_count": 2,
   "metadata": {},
   "outputs": [
    {
     "name": "stdout",
     "output_type": "stream",
     "text": [
      "<class 'pandas.core.frame.DataFrame'>\n",
      "RangeIndex: 13329 entries, 0 to 13328\n",
      "Data columns (total 13 columns):\n",
      " #   Column  Non-Null Count  Dtype \n",
      "---  ------  --------------  ----- \n",
      " 0   NC      13329 non-null  object\n",
      " 1   NN      13329 non-null  object\n",
      " 2   MC      12657 non-null  object\n",
      " 3   MN      12657 non-null  object\n",
      " 4   V       13329 non-null  object\n",
      " 5   D1C     13329 non-null  object\n",
      " 6   D1N     13329 non-null  object\n",
      " 7   D2C     13329 non-null  object\n",
      " 8   D2N     13329 non-null  object\n",
      " 9   D3C     13329 non-null  object\n",
      " 10  D3N     13329 non-null  object\n",
      " 11  D4C     13329 non-null  object\n",
      " 12  D4N     13329 non-null  object\n",
      "dtypes: object(13)\n",
      "memory usage: 1.3+ MB\n"
     ]
    }
   ],
   "source": [
    "dados_empresas.info()"
   ]
  },
  {
   "cell_type": "code",
   "execution_count": 3,
   "metadata": {},
   "outputs": [
    {
     "name": "stdout",
     "output_type": "stream",
     "text": [
      "['Valor' '96862' '-' '106733' '...' '100.00' '51591' '56878' '63624'\n",
      " '77509' '93375' '104534' '116720' '127933' '131318' '126943' '126283'\n",
      " '124614' '125066' '131990' '1604331' '1799556' '2069815' '2457809'\n",
      " '2658643' '2858180' '2968136' '2891141' '2439997' '2000884' '1901554'\n",
      " '1873561' '1906174' '1981698' '99846639' '131703584' '157145343'\n",
      " '213392583' '235295223' '278089125' '304670476' '328746477' '298271814'\n",
      " '261351848' '234260991' '240519153' '268149979' '273806386' '29096468'\n",
      " '38438714' '48459062' '63320390' '74506376' '91332366' '103585918'\n",
      " '107960292' '99477154' '84763780' '78323892' '77929266' '82566680'\n",
      " '85418847' '19436202' '25574626' '31974698' '42029910' '49734932'\n",
      " '60890183' '68393186' '74021668' '68388257' '57321049' '53496925'\n",
      " '53360511' '56555949' '58302931' '43948062' '58540902' '67681909'\n",
      " '95918793' '100068479' '118250145' '126449158' '136641735' '113185548'\n",
      " '99335547' '86788148' '93738679' '99644929' '106765492' '25975086'\n",
      " '35029198' '39792256' '56992853' '60887751' '69665782' '74635756'\n",
      " '81418992' '66453373' '58230032' '51527430' '54008199' '56656974'\n",
      " '62902461' '2201778' '2026667' '2406760' '4682352' '5722881' '4643435'\n",
      " '4913439' '4900256' '7166726' '6684127' '6921295' '5926073' '7890703'\n",
      " '8318132' '1249494' '1036259' '1032049' '1858220' '2729611' '2040046'\n",
      " '2848882' '2209901' '2019940' '2009126' '1514623' '1383395' '1587901'\n",
      " '2549596' '24600330' '32697297' '38597614' '49471045' '54997494'\n",
      " '63863176' '69721958' '79244196' '78442385' '70568395' '62227653'\n",
      " '62925563' '78047670' '73303915' '132622506' '165592973' '202173646'\n",
      " '262466086' '285928931' '336411552' '370097535' '401003840' '351063772'\n",
      " '310650865' '280783278' '291096794' '306291025' '345389741' '123512827'\n",
      " '153485444' '187402817' '244458313' '265684796' '313009697' '343155132'\n",
      " '370065903' '322459001' '284950985' '257605364' '267561943' '281450433'\n",
      " '316163548' '129192757' '161859729' '197930127' '257430199' '284114787'\n",
      " '336375644' '363472715' '394475726' '353318553' '310101081' '279967879'\n",
      " '276498706' '293245319' '326896656' '61075996' '79416611' '93397908'\n",
      " '129362874' '136478216' '159672789' '172406687' '184771338' '157975727'\n",
      " '136762009' '121523562' '124105847' '133088493' '146774575' '124291908'\n",
      " '153841560' '188525025' '246113646' '271497246' '319317900' '347192058'\n",
      " '371493630' '330537239' '290022907' '262423489' '258366321' '274055762'\n",
      " '305750523' '63215915' '74424948' '95127120' '116750767' '135019029'\n",
      " '159645108' '174785372' '186722297' '172561512' '153260900' '140899923'\n",
      " '134260477' '140967271' '158975944']\n"
     ]
    }
   ],
   "source": [
    "v_value = dados_empresas['V'].unique()\n",
    "print(v_value)"
   ]
  },
  {
   "cell_type": "code",
   "execution_count": null,
   "metadata": {},
   "outputs": [
    {
     "data": {
      "text/html": [
       "<div>\n",
       "<style scoped>\n",
       "    .dataframe tbody tr th:only-of-type {\n",
       "        vertical-align: middle;\n",
       "    }\n",
       "\n",
       "    .dataframe tbody tr th {\n",
       "        vertical-align: top;\n",
       "    }\n",
       "\n",
       "    .dataframe thead th {\n",
       "        text-align: right;\n",
       "    }\n",
       "</style>\n",
       "<table border=\"1\" class=\"dataframe\">\n",
       "  <thead>\n",
       "    <tr style=\"text-align: right;\">\n",
       "      <th></th>\n",
       "      <th>nivel_territorial(codigo)</th>\n",
       "      <th>nivel_territorial</th>\n",
       "      <th>unidade_medida(codigo)</th>\n",
       "      <th>unidade_medida</th>\n",
       "      <th>variavel(codigo)</th>\n",
       "      <th>variavel</th>\n",
       "      <th>ano(codigo)</th>\n",
       "      <th>ano</th>\n",
       "      <th>brasil_e_unidade_federacao(codigo)</th>\n",
       "      <th>brasil_e_unidade_federacao</th>\n",
       "      <th>faixas_pessoal_ocupado(codigo)</th>\n",
       "      <th>faixas_pessoal_ocupado</th>\n",
       "    </tr>\n",
       "  </thead>\n",
       "  <tbody>\n",
       "    <tr>\n",
       "      <th>1</th>\n",
       "      <td>1</td>\n",
       "      <td>Brasil</td>\n",
       "      <td>1020</td>\n",
       "      <td>Unidades</td>\n",
       "      <td>630</td>\n",
       "      <td>Número de empresas</td>\n",
       "      <td>2007</td>\n",
       "      <td>2007.0</td>\n",
       "      <td>1</td>\n",
       "      <td>Brasil</td>\n",
       "      <td>104029</td>\n",
       "      <td>Total</td>\n",
       "    </tr>\n",
       "    <tr>\n",
       "      <th>2</th>\n",
       "      <td>3</td>\n",
       "      <td>Unidade da Federação</td>\n",
       "      <td>1020</td>\n",
       "      <td>Unidades</td>\n",
       "      <td>630</td>\n",
       "      <td>Número de empresas</td>\n",
       "      <td>2007</td>\n",
       "      <td>2007.0</td>\n",
       "      <td>11</td>\n",
       "      <td>Rondônia</td>\n",
       "      <td>104029</td>\n",
       "      <td>Total</td>\n",
       "    </tr>\n",
       "    <tr>\n",
       "      <th>3</th>\n",
       "      <td>3</td>\n",
       "      <td>Unidade da Federação</td>\n",
       "      <td>1020</td>\n",
       "      <td>Unidades</td>\n",
       "      <td>630</td>\n",
       "      <td>Número de empresas</td>\n",
       "      <td>2007</td>\n",
       "      <td>2007.0</td>\n",
       "      <td>12</td>\n",
       "      <td>Acre</td>\n",
       "      <td>104029</td>\n",
       "      <td>Total</td>\n",
       "    </tr>\n",
       "    <tr>\n",
       "      <th>4</th>\n",
       "      <td>3</td>\n",
       "      <td>Unidade da Federação</td>\n",
       "      <td>1020</td>\n",
       "      <td>Unidades</td>\n",
       "      <td>630</td>\n",
       "      <td>Número de empresas</td>\n",
       "      <td>2007</td>\n",
       "      <td>2007.0</td>\n",
       "      <td>13</td>\n",
       "      <td>Amazonas</td>\n",
       "      <td>104029</td>\n",
       "      <td>Total</td>\n",
       "    </tr>\n",
       "    <tr>\n",
       "      <th>5</th>\n",
       "      <td>3</td>\n",
       "      <td>Unidade da Federação</td>\n",
       "      <td>1020</td>\n",
       "      <td>Unidades</td>\n",
       "      <td>630</td>\n",
       "      <td>Número de empresas</td>\n",
       "      <td>2007</td>\n",
       "      <td>2007.0</td>\n",
       "      <td>14</td>\n",
       "      <td>Roraima</td>\n",
       "      <td>104029</td>\n",
       "      <td>Total</td>\n",
       "    </tr>\n",
       "  </tbody>\n",
       "</table>\n",
       "</div>"
      ],
      "text/plain": [
       "  nivel_territorial(codigo)     nivel_territorial unidade_medida(codigo)  \\\n",
       "1                         1                Brasil                   1020   \n",
       "2                         3  Unidade da Federação                   1020   \n",
       "3                         3  Unidade da Federação                   1020   \n",
       "4                         3  Unidade da Federação                   1020   \n",
       "5                         3  Unidade da Federação                   1020   \n",
       "\n",
       "  unidade_medida variavel(codigo)            variavel ano(codigo)     ano  \\\n",
       "1       Unidades              630  Número de empresas        2007  2007.0   \n",
       "2       Unidades              630  Número de empresas        2007  2007.0   \n",
       "3       Unidades              630  Número de empresas        2007  2007.0   \n",
       "4       Unidades              630  Número de empresas        2007  2007.0   \n",
       "5       Unidades              630  Número de empresas        2007  2007.0   \n",
       "\n",
       "  brasil_e_unidade_federacao(codigo) brasil_e_unidade_federacao  \\\n",
       "1                                  1                     Brasil   \n",
       "2                                 11                   Rondônia   \n",
       "3                                 12                       Acre   \n",
       "4                                 13                   Amazonas   \n",
       "5                                 14                    Roraima   \n",
       "\n",
       "  faixas_pessoal_ocupado(codigo) faixas_pessoal_ocupado  \n",
       "1                         104029                  Total  \n",
       "2                         104029                  Total  \n",
       "3                         104029                  Total  \n",
       "4                         104029                  Total  \n",
       "5                         104029                  Total  "
      ]
     },
     "execution_count": 4,
     "metadata": {},
     "output_type": "execute_result"
    }
   ],
   "source": [
    "# Renomeando as colunas do dataset de empresas para facilitar a manipulação\n",
    "dados_empresas = dados_empresas.rename(\n",
    "    columns={\n",
    "        \"NC\": \"nivel_territorial(codigo)\",\n",
    "        \"NN\": \"nivel_territorial\",\n",
    "        \"MC\": \"unidade_medida(codigo)\",\n",
    "        \"MN\": \"unidade_medida\",\n",
    "        \"V\": \"valor\",\n",
    "        \"D1C\": \"variavel(codigo)\",\n",
    "        \"D1N\": \"variavel\",\n",
    "        \"D2C\": \"ano(codigo)\",\n",
    "        \"D2N\": \"ano\",\n",
    "        \"D3C\": \"brasil_e_unidade_federacao(codigo)\",\n",
    "        \"D3N\": \"brasil_e_unidade_federacao\",\n",
    "        \"D4C\": \"faixas_pessoal_ocupado(codigo)\",\n",
    "        \"D4N\": \"faixas_pessoal_ocupado\",\n",
    "    }\n",
    ")\n",
    "\n",
    "# Removendo a coluna 'valor' pois não contém dados úteis para esta análise\n",
    "if \"valor\" in dados_empresas.columns:\n",
    "    dados_empresas = dados_empresas.drop(columns=[\"valor\"])\n",
    "\n",
    "# Convertendo a coluna 'ano' para numérico\n",
    "dados_empresas[\"ano\"] = pd.to_numeric(dados_empresas[\"ano\"], errors=\"coerce\")\n",
    "\n",
    "# Filtro para os dados entre 2007 e 2022\n",
    "dados_empresas = dados_empresas[\n",
    "    (dados_empresas[\"ano\"] >= 2007) & (dados_empresas[\"ano\"] <= 2022)\n",
    "]\n",
    "\n",
    "\n",
    "dados_empresas.head()"
   ]
  },
  {
   "cell_type": "code",
   "execution_count": 5,
   "metadata": {},
   "outputs": [
    {
     "name": "stderr",
     "output_type": "stream",
     "text": [
      "C:\\Users\\joser\\AppData\\Local\\Temp\\ipykernel_14704\\3153427253.py:8: SettingWithCopyWarning: \n",
      "A value is trying to be set on a copy of a slice from a DataFrame.\n",
      "Try using .loc[row_indexer,col_indexer] = value instead\n",
      "\n",
      "See the caveats in the documentation: https://pandas.pydata.org/pandas-docs/stable/user_guide/indexing.html#returning-a-view-versus-a-copy\n",
      "  dados_populacao_filtrado[str(year)] = pd.to_numeric(\n"
     ]
    },
    {
     "data": {
      "text/html": [
       "<div>\n",
       "<style scoped>\n",
       "    .dataframe tbody tr th:only-of-type {\n",
       "        vertical-align: middle;\n",
       "    }\n",
       "\n",
       "    .dataframe tbody tr th {\n",
       "        vertical-align: top;\n",
       "    }\n",
       "\n",
       "    .dataframe thead th {\n",
       "        text-align: right;\n",
       "    }\n",
       "</style>\n",
       "<table border=\"1\" class=\"dataframe\">\n",
       "  <thead>\n",
       "    <tr style=\"text-align: right;\">\n",
       "      <th>LOCAL</th>\n",
       "      <th>Acre</th>\n",
       "      <th>Alagoas</th>\n",
       "      <th>Amapá</th>\n",
       "      <th>Amazonas</th>\n",
       "      <th>Bahia</th>\n",
       "      <th>Brasil</th>\n",
       "      <th>Ceará</th>\n",
       "      <th>Centro-Oeste</th>\n",
       "      <th>Distrito Federal</th>\n",
       "      <th>Espírito Santo</th>\n",
       "      <th>...</th>\n",
       "      <th>Rio Grande do Sul</th>\n",
       "      <th>Rio de Janeiro</th>\n",
       "      <th>Rondônia</th>\n",
       "      <th>Roraima</th>\n",
       "      <th>Santa Catarina</th>\n",
       "      <th>Sergipe</th>\n",
       "      <th>Sudeste</th>\n",
       "      <th>Sul</th>\n",
       "      <th>São Paulo</th>\n",
       "      <th>Tocantins</th>\n",
       "    </tr>\n",
       "  </thead>\n",
       "  <tbody>\n",
       "    <tr>\n",
       "      <th>2007</th>\n",
       "      <td>118936.0</td>\n",
       "      <td>615767.0</td>\n",
       "      <td>102310.0</td>\n",
       "      <td>574664.0</td>\n",
       "      <td>2972397.0</td>\n",
       "      <td>44637558.0</td>\n",
       "      <td>1749592.0</td>\n",
       "      <td>3159407.0</td>\n",
       "      <td>0.0</td>\n",
       "      <td>863793.0</td>\n",
       "      <td>...</td>\n",
       "      <td>2948384.0</td>\n",
       "      <td>4316520.0</td>\n",
       "      <td>322603.0</td>\n",
       "      <td>75895.0</td>\n",
       "      <td>1590545.0</td>\n",
       "      <td>419398.0</td>\n",
       "      <td>20567210.0</td>\n",
       "      <td>7171436.0</td>\n",
       "      <td>10506732.0</td>\n",
       "      <td>265361.0</td>\n",
       "    </tr>\n",
       "    <tr>\n",
       "      <th>2008</th>\n",
       "      <td>124039.0</td>\n",
       "      <td>631900.0</td>\n",
       "      <td>107901.0</td>\n",
       "      <td>598033.0</td>\n",
       "      <td>3044813.0</td>\n",
       "      <td>45674042.0</td>\n",
       "      <td>1794549.0</td>\n",
       "      <td>3265538.0</td>\n",
       "      <td>0.0</td>\n",
       "      <td>886521.0</td>\n",
       "      <td>...</td>\n",
       "      <td>2980402.0</td>\n",
       "      <td>4379923.0</td>\n",
       "      <td>334255.0</td>\n",
       "      <td>79238.0</td>\n",
       "      <td>1632892.0</td>\n",
       "      <td>433519.0</td>\n",
       "      <td>20980397.0</td>\n",
       "      <td>7308165.0</td>\n",
       "      <td>10735397.0</td>\n",
       "      <td>274204.0</td>\n",
       "    </tr>\n",
       "    <tr>\n",
       "      <th>2009</th>\n",
       "      <td>129247.0</td>\n",
       "      <td>647881.0</td>\n",
       "      <td>113550.0</td>\n",
       "      <td>621932.0</td>\n",
       "      <td>3118052.0</td>\n",
       "      <td>46683528.0</td>\n",
       "      <td>1839495.0</td>\n",
       "      <td>3371072.0</td>\n",
       "      <td>0.0</td>\n",
       "      <td>908213.0</td>\n",
       "      <td>...</td>\n",
       "      <td>3007347.0</td>\n",
       "      <td>4438939.0</td>\n",
       "      <td>345759.0</td>\n",
       "      <td>82573.0</td>\n",
       "      <td>1673663.0</td>\n",
       "      <td>447577.0</td>\n",
       "      <td>21374446.0</td>\n",
       "      <td>7434804.0</td>\n",
       "      <td>10955314.0</td>\n",
       "      <td>283106.0</td>\n",
       "    </tr>\n",
       "    <tr>\n",
       "      <th>2010</th>\n",
       "      <td>134483.0</td>\n",
       "      <td>663541.0</td>\n",
       "      <td>119139.0</td>\n",
       "      <td>646338.0</td>\n",
       "      <td>3191749.0</td>\n",
       "      <td>47658079.0</td>\n",
       "      <td>1884085.0</td>\n",
       "      <td>3474778.0</td>\n",
       "      <td>0.0</td>\n",
       "      <td>928569.0</td>\n",
       "      <td>...</td>\n",
       "      <td>3029420.0</td>\n",
       "      <td>4493667.0</td>\n",
       "      <td>356812.0</td>\n",
       "      <td>86008.0</td>\n",
       "      <td>1713077.0</td>\n",
       "      <td>461422.0</td>\n",
       "      <td>21746054.0</td>\n",
       "      <td>7550779.0</td>\n",
       "      <td>11164534.0</td>\n",
       "      <td>291938.0</td>\n",
       "    </tr>\n",
       "    <tr>\n",
       "      <th>2011</th>\n",
       "      <td>139739.0</td>\n",
       "      <td>678765.0</td>\n",
       "      <td>124639.0</td>\n",
       "      <td>671143.0</td>\n",
       "      <td>3265097.0</td>\n",
       "      <td>48594960.0</td>\n",
       "      <td>1927751.0</td>\n",
       "      <td>3576720.0</td>\n",
       "      <td>0.0</td>\n",
       "      <td>947655.0</td>\n",
       "      <td>...</td>\n",
       "      <td>3046664.0</td>\n",
       "      <td>4544128.0</td>\n",
       "      <td>367414.0</td>\n",
       "      <td>89641.0</td>\n",
       "      <td>1751298.0</td>\n",
       "      <td>474950.0</td>\n",
       "      <td>22095092.0</td>\n",
       "      <td>7656326.0</td>\n",
       "      <td>11362761.0</td>\n",
       "      <td>300777.0</td>\n",
       "    </tr>\n",
       "  </tbody>\n",
       "</table>\n",
       "<p>5 rows × 33 columns</p>\n",
       "</div>"
      ],
      "text/plain": [
       "LOCAL      Acre   Alagoas     Amapá  Amazonas      Bahia      Brasil  \\\n",
       "2007   118936.0  615767.0  102310.0  574664.0  2972397.0  44637558.0   \n",
       "2008   124039.0  631900.0  107901.0  598033.0  3044813.0  45674042.0   \n",
       "2009   129247.0  647881.0  113550.0  621932.0  3118052.0  46683528.0   \n",
       "2010   134483.0  663541.0  119139.0  646338.0  3191749.0  47658079.0   \n",
       "2011   139739.0  678765.0  124639.0  671143.0  3265097.0  48594960.0   \n",
       "\n",
       "LOCAL      Ceará  Centro-Oeste  Distrito Federal  Espírito Santo  ...  \\\n",
       "2007   1749592.0     3159407.0               0.0        863793.0  ...   \n",
       "2008   1794549.0     3265538.0               0.0        886521.0  ...   \n",
       "2009   1839495.0     3371072.0               0.0        908213.0  ...   \n",
       "2010   1884085.0     3474778.0               0.0        928569.0  ...   \n",
       "2011   1927751.0     3576720.0               0.0        947655.0  ...   \n",
       "\n",
       "LOCAL  Rio Grande do Sul  Rio de Janeiro  Rondônia  Roraima  Santa Catarina  \\\n",
       "2007           2948384.0       4316520.0  322603.0  75895.0       1590545.0   \n",
       "2008           2980402.0       4379923.0  334255.0  79238.0       1632892.0   \n",
       "2009           3007347.0       4438939.0  345759.0  82573.0       1673663.0   \n",
       "2010           3029420.0       4493667.0  356812.0  86008.0       1713077.0   \n",
       "2011           3046664.0       4544128.0  367414.0  89641.0       1751298.0   \n",
       "\n",
       "LOCAL   Sergipe     Sudeste        Sul   São Paulo  Tocantins  \n",
       "2007   419398.0  20567210.0  7171436.0  10506732.0   265361.0  \n",
       "2008   433519.0  20980397.0  7308165.0  10735397.0   274204.0  \n",
       "2009   447577.0  21374446.0  7434804.0  10955314.0   283106.0  \n",
       "2010   461422.0  21746054.0  7550779.0  11164534.0   291938.0  \n",
       "2011   474950.0  22095092.0  7656326.0  11362761.0   300777.0  \n",
       "\n",
       "[5 rows x 33 columns]"
      ]
     },
     "execution_count": 5,
     "metadata": {},
     "output_type": "execute_result"
    }
   ],
   "source": [
    "# Filtrando dados de população para idades entre 38 e 58 anos e ambos os sexos\n",
    "dados_populacao_filtrado = dados_populacao[\n",
    "    (dados_populacao[\"IDADE\"].between(38, 58)) & (dados_populacao[\"SEXO\"] == \"Ambos\")\n",
    "]\n",
    "\n",
    "# Convertendo as colunas de população para numérico, removendo pontos nos números e tratando erros\n",
    "for year in range(2000, 2071):\n",
    "    dados_populacao_filtrado[str(year)] = pd.to_numeric(\n",
    "        dados_populacao_filtrado[str(year)].str.replace(\".\", \"\"), errors=\"coerce\"\n",
    "    )\n",
    "\n",
    "# Agrupando a população por ano e somando para obter a população total de 38 a 58 anos por estado\n",
    "populacao_38_58 = (\n",
    "    dados_populacao_filtrado.groupby(\"LOCAL\").sum().loc[:, \"2007\":\"2022\"].transpose()\n",
    ")\n",
    "\n",
    "\n",
    "populacao_38_58.head()"
   ]
  },
  {
   "cell_type": "code",
   "execution_count": null,
   "metadata": {},
   "outputs": [
    {
     "data": {
      "text/html": [
       "<div>\n",
       "<style scoped>\n",
       "    .dataframe tbody tr th:only-of-type {\n",
       "        vertical-align: middle;\n",
       "    }\n",
       "\n",
       "    .dataframe tbody tr th {\n",
       "        vertical-align: top;\n",
       "    }\n",
       "\n",
       "    .dataframe thead th {\n",
       "        text-align: right;\n",
       "    }\n",
       "</style>\n",
       "<table border=\"1\" class=\"dataframe\">\n",
       "  <thead>\n",
       "    <tr style=\"text-align: right;\">\n",
       "      <th>ano</th>\n",
       "      <th>2007</th>\n",
       "      <th>2008</th>\n",
       "      <th>2009</th>\n",
       "      <th>2010</th>\n",
       "      <th>2011</th>\n",
       "      <th>2012</th>\n",
       "      <th>2013</th>\n",
       "      <th>2014</th>\n",
       "      <th>2015</th>\n",
       "      <th>2016</th>\n",
       "      <th>2017</th>\n",
       "      <th>2018</th>\n",
       "      <th>2019</th>\n",
       "      <th>2020</th>\n",
       "    </tr>\n",
       "  </thead>\n",
       "  <tbody>\n",
       "    <tr>\n",
       "      <th>2007</th>\n",
       "      <td>NaN</td>\n",
       "      <td>NaN</td>\n",
       "      <td>NaN</td>\n",
       "      <td>NaN</td>\n",
       "      <td>NaN</td>\n",
       "      <td>NaN</td>\n",
       "      <td>NaN</td>\n",
       "      <td>NaN</td>\n",
       "      <td>NaN</td>\n",
       "      <td>NaN</td>\n",
       "      <td>NaN</td>\n",
       "      <td>NaN</td>\n",
       "      <td>NaN</td>\n",
       "      <td>NaN</td>\n",
       "    </tr>\n",
       "    <tr>\n",
       "      <th>2008</th>\n",
       "      <td>NaN</td>\n",
       "      <td>NaN</td>\n",
       "      <td>NaN</td>\n",
       "      <td>NaN</td>\n",
       "      <td>NaN</td>\n",
       "      <td>NaN</td>\n",
       "      <td>NaN</td>\n",
       "      <td>NaN</td>\n",
       "      <td>NaN</td>\n",
       "      <td>NaN</td>\n",
       "      <td>NaN</td>\n",
       "      <td>NaN</td>\n",
       "      <td>NaN</td>\n",
       "      <td>NaN</td>\n",
       "    </tr>\n",
       "    <tr>\n",
       "      <th>2009</th>\n",
       "      <td>NaN</td>\n",
       "      <td>NaN</td>\n",
       "      <td>NaN</td>\n",
       "      <td>NaN</td>\n",
       "      <td>NaN</td>\n",
       "      <td>NaN</td>\n",
       "      <td>NaN</td>\n",
       "      <td>NaN</td>\n",
       "      <td>NaN</td>\n",
       "      <td>NaN</td>\n",
       "      <td>NaN</td>\n",
       "      <td>NaN</td>\n",
       "      <td>NaN</td>\n",
       "      <td>NaN</td>\n",
       "    </tr>\n",
       "    <tr>\n",
       "      <th>2010</th>\n",
       "      <td>NaN</td>\n",
       "      <td>NaN</td>\n",
       "      <td>NaN</td>\n",
       "      <td>NaN</td>\n",
       "      <td>NaN</td>\n",
       "      <td>NaN</td>\n",
       "      <td>NaN</td>\n",
       "      <td>NaN</td>\n",
       "      <td>NaN</td>\n",
       "      <td>NaN</td>\n",
       "      <td>NaN</td>\n",
       "      <td>NaN</td>\n",
       "      <td>NaN</td>\n",
       "      <td>NaN</td>\n",
       "    </tr>\n",
       "    <tr>\n",
       "      <th>2011</th>\n",
       "      <td>NaN</td>\n",
       "      <td>NaN</td>\n",
       "      <td>NaN</td>\n",
       "      <td>NaN</td>\n",
       "      <td>NaN</td>\n",
       "      <td>NaN</td>\n",
       "      <td>NaN</td>\n",
       "      <td>NaN</td>\n",
       "      <td>NaN</td>\n",
       "      <td>NaN</td>\n",
       "      <td>NaN</td>\n",
       "      <td>NaN</td>\n",
       "      <td>NaN</td>\n",
       "      <td>NaN</td>\n",
       "    </tr>\n",
       "  </tbody>\n",
       "</table>\n",
       "</div>"
      ],
      "text/plain": [
       "ano   2007  2008  2009  2010  2011  2012  2013  2014  2015  2016  2017  2018  \\\n",
       "2007   NaN   NaN   NaN   NaN   NaN   NaN   NaN   NaN   NaN   NaN   NaN   NaN   \n",
       "2008   NaN   NaN   NaN   NaN   NaN   NaN   NaN   NaN   NaN   NaN   NaN   NaN   \n",
       "2009   NaN   NaN   NaN   NaN   NaN   NaN   NaN   NaN   NaN   NaN   NaN   NaN   \n",
       "2010   NaN   NaN   NaN   NaN   NaN   NaN   NaN   NaN   NaN   NaN   NaN   NaN   \n",
       "2011   NaN   NaN   NaN   NaN   NaN   NaN   NaN   NaN   NaN   NaN   NaN   NaN   \n",
       "\n",
       "ano   2019  2020  \n",
       "2007   NaN   NaN  \n",
       "2008   NaN   NaN  \n",
       "2009   NaN   NaN  \n",
       "2010   NaN   NaN  \n",
       "2011   NaN   NaN  "
      ]
     },
     "execution_count": 6,
     "metadata": {},
     "output_type": "execute_result"
    }
   ],
   "source": [
    "# Calculando o número de empresas por estado para cada ano\n",
    "empresas_por_estado = dados_empresas[\n",
    "    dados_empresas[\"faixas_pessoal_ocupado\"] == \"Total\"\n",
    "]\n",
    "empresas_por_estado = (\n",
    "    empresas_por_estado.groupby([\"brasil_e_unidade_federacao\", \"ano\"])\n",
    "    .size()\n",
    "    .unstack(fill_value=0)\n",
    ")\n",
    "\n",
    "# Garantindo que os índices de ambos os dataframes sejam do mesmo tipo\n",
    "empresas_por_estado.columns = empresas_por_estado.columns.astype(int)\n",
    "populacao_38_58.index = populacao_38_58.index.astype(int)\n",
    "\n",
    "# Calculo da razão entre a população de 38 a 58 anos e o número de empresas por estado\n",
    "populacao_alinhada = populacao_38_58.loc[\n",
    "    :, empresas_por_estado.columns.intersection(populacao_38_58.columns)\n",
    "]\n",
    "razao_populacao_empresa = populacao_alinhada.div(empresas_por_estado, axis=0)\n",
    "\n",
    "\n",
    "razao_populacao_empresa.head()"
   ]
  },
  {
   "cell_type": "code",
   "execution_count": 7,
   "metadata": {},
   "outputs": [
    {
     "data": {
      "text/plain": [
       "{'Acre',\n",
       " 'Alagoas',\n",
       " 'Amapá',\n",
       " 'Amazonas',\n",
       " 'Bahia',\n",
       " 'Brasil',\n",
       " 'Ceará',\n",
       " 'Distrito Federal',\n",
       " 'Espírito Santo',\n",
       " 'Goiás',\n",
       " 'Maranhão',\n",
       " 'Mato Grosso',\n",
       " 'Mato Grosso do Sul',\n",
       " 'Minas Gerais',\n",
       " 'Paraná',\n",
       " 'Paraíba',\n",
       " 'Pará',\n",
       " 'Pernambuco',\n",
       " 'Piauí',\n",
       " 'Rio Grande do Norte',\n",
       " 'Rio Grande do Sul',\n",
       " 'Rio de Janeiro',\n",
       " 'Rondônia',\n",
       " 'Roraima',\n",
       " 'Santa Catarina',\n",
       " 'Sergipe',\n",
       " 'São Paulo',\n",
       " 'Tocantins'}"
      ]
     },
     "execution_count": 7,
     "metadata": {},
     "output_type": "execute_result"
    }
   ],
   "source": [
    "# Verificando a interseção entre os estados presentes em ambos os dataframes\n",
    "estados_populacao = set(populacao_38_58.columns)\n",
    "estados_empresas = set(empresas_por_estado.index)\n",
    "\n",
    "# Estados que estão em ambos os dataframes\n",
    "estados_comuns = estados_populacao.intersection(estados_empresas)\n",
    "\n",
    "\n",
    "estados_comuns"
   ]
  },
  {
   "cell_type": "code",
   "execution_count": 8,
   "metadata": {},
   "outputs": [
    {
     "data": {
      "text/html": [
       "<div>\n",
       "<style scoped>\n",
       "    .dataframe tbody tr th:only-of-type {\n",
       "        vertical-align: middle;\n",
       "    }\n",
       "\n",
       "    .dataframe tbody tr th {\n",
       "        vertical-align: top;\n",
       "    }\n",
       "\n",
       "    .dataframe thead th {\n",
       "        text-align: right;\n",
       "    }\n",
       "</style>\n",
       "<table border=\"1\" class=\"dataframe\">\n",
       "  <thead>\n",
       "    <tr style=\"text-align: right;\">\n",
       "      <th></th>\n",
       "      <th>2007</th>\n",
       "      <th>2008</th>\n",
       "      <th>2009</th>\n",
       "      <th>2010</th>\n",
       "      <th>2011</th>\n",
       "      <th>2012</th>\n",
       "      <th>2013</th>\n",
       "      <th>2014</th>\n",
       "      <th>2015</th>\n",
       "      <th>2016</th>\n",
       "      <th>...</th>\n",
       "      <th>Piauí</th>\n",
       "      <th>Rio Grande do Norte</th>\n",
       "      <th>Rio Grande do Sul</th>\n",
       "      <th>Rio de Janeiro</th>\n",
       "      <th>Rondônia</th>\n",
       "      <th>Roraima</th>\n",
       "      <th>Santa Catarina</th>\n",
       "      <th>Sergipe</th>\n",
       "      <th>São Paulo</th>\n",
       "      <th>Tocantins</th>\n",
       "    </tr>\n",
       "  </thead>\n",
       "  <tbody>\n",
       "    <tr>\n",
       "      <th>2007</th>\n",
       "      <td>NaN</td>\n",
       "      <td>NaN</td>\n",
       "      <td>NaN</td>\n",
       "      <td>NaN</td>\n",
       "      <td>NaN</td>\n",
       "      <td>NaN</td>\n",
       "      <td>NaN</td>\n",
       "      <td>NaN</td>\n",
       "      <td>NaN</td>\n",
       "      <td>NaN</td>\n",
       "      <td>...</td>\n",
       "      <td>NaN</td>\n",
       "      <td>NaN</td>\n",
       "      <td>NaN</td>\n",
       "      <td>NaN</td>\n",
       "      <td>NaN</td>\n",
       "      <td>NaN</td>\n",
       "      <td>NaN</td>\n",
       "      <td>NaN</td>\n",
       "      <td>NaN</td>\n",
       "      <td>NaN</td>\n",
       "    </tr>\n",
       "    <tr>\n",
       "      <th>2008</th>\n",
       "      <td>NaN</td>\n",
       "      <td>NaN</td>\n",
       "      <td>NaN</td>\n",
       "      <td>NaN</td>\n",
       "      <td>NaN</td>\n",
       "      <td>NaN</td>\n",
       "      <td>NaN</td>\n",
       "      <td>NaN</td>\n",
       "      <td>NaN</td>\n",
       "      <td>NaN</td>\n",
       "      <td>...</td>\n",
       "      <td>NaN</td>\n",
       "      <td>NaN</td>\n",
       "      <td>NaN</td>\n",
       "      <td>NaN</td>\n",
       "      <td>NaN</td>\n",
       "      <td>NaN</td>\n",
       "      <td>NaN</td>\n",
       "      <td>NaN</td>\n",
       "      <td>NaN</td>\n",
       "      <td>NaN</td>\n",
       "    </tr>\n",
       "    <tr>\n",
       "      <th>2009</th>\n",
       "      <td>NaN</td>\n",
       "      <td>NaN</td>\n",
       "      <td>NaN</td>\n",
       "      <td>NaN</td>\n",
       "      <td>NaN</td>\n",
       "      <td>NaN</td>\n",
       "      <td>NaN</td>\n",
       "      <td>NaN</td>\n",
       "      <td>NaN</td>\n",
       "      <td>NaN</td>\n",
       "      <td>...</td>\n",
       "      <td>NaN</td>\n",
       "      <td>NaN</td>\n",
       "      <td>NaN</td>\n",
       "      <td>NaN</td>\n",
       "      <td>NaN</td>\n",
       "      <td>NaN</td>\n",
       "      <td>NaN</td>\n",
       "      <td>NaN</td>\n",
       "      <td>NaN</td>\n",
       "      <td>NaN</td>\n",
       "    </tr>\n",
       "    <tr>\n",
       "      <th>2010</th>\n",
       "      <td>NaN</td>\n",
       "      <td>NaN</td>\n",
       "      <td>NaN</td>\n",
       "      <td>NaN</td>\n",
       "      <td>NaN</td>\n",
       "      <td>NaN</td>\n",
       "      <td>NaN</td>\n",
       "      <td>NaN</td>\n",
       "      <td>NaN</td>\n",
       "      <td>NaN</td>\n",
       "      <td>...</td>\n",
       "      <td>NaN</td>\n",
       "      <td>NaN</td>\n",
       "      <td>NaN</td>\n",
       "      <td>NaN</td>\n",
       "      <td>NaN</td>\n",
       "      <td>NaN</td>\n",
       "      <td>NaN</td>\n",
       "      <td>NaN</td>\n",
       "      <td>NaN</td>\n",
       "      <td>NaN</td>\n",
       "    </tr>\n",
       "    <tr>\n",
       "      <th>2011</th>\n",
       "      <td>NaN</td>\n",
       "      <td>NaN</td>\n",
       "      <td>NaN</td>\n",
       "      <td>NaN</td>\n",
       "      <td>NaN</td>\n",
       "      <td>NaN</td>\n",
       "      <td>NaN</td>\n",
       "      <td>NaN</td>\n",
       "      <td>NaN</td>\n",
       "      <td>NaN</td>\n",
       "      <td>...</td>\n",
       "      <td>NaN</td>\n",
       "      <td>NaN</td>\n",
       "      <td>NaN</td>\n",
       "      <td>NaN</td>\n",
       "      <td>NaN</td>\n",
       "      <td>NaN</td>\n",
       "      <td>NaN</td>\n",
       "      <td>NaN</td>\n",
       "      <td>NaN</td>\n",
       "      <td>NaN</td>\n",
       "    </tr>\n",
       "  </tbody>\n",
       "</table>\n",
       "<p>5 rows × 42 columns</p>\n",
       "</div>"
      ],
      "text/plain": [
       "      2007  2008  2009  2010  2011  2012  2013  2014  2015  2016  ...  Piauí  \\\n",
       "2007   NaN   NaN   NaN   NaN   NaN   NaN   NaN   NaN   NaN   NaN  ...    NaN   \n",
       "2008   NaN   NaN   NaN   NaN   NaN   NaN   NaN   NaN   NaN   NaN  ...    NaN   \n",
       "2009   NaN   NaN   NaN   NaN   NaN   NaN   NaN   NaN   NaN   NaN  ...    NaN   \n",
       "2010   NaN   NaN   NaN   NaN   NaN   NaN   NaN   NaN   NaN   NaN  ...    NaN   \n",
       "2011   NaN   NaN   NaN   NaN   NaN   NaN   NaN   NaN   NaN   NaN  ...    NaN   \n",
       "\n",
       "      Rio Grande do Norte  Rio Grande do Sul  Rio de Janeiro  Rondônia  \\\n",
       "2007                  NaN                NaN             NaN       NaN   \n",
       "2008                  NaN                NaN             NaN       NaN   \n",
       "2009                  NaN                NaN             NaN       NaN   \n",
       "2010                  NaN                NaN             NaN       NaN   \n",
       "2011                  NaN                NaN             NaN       NaN   \n",
       "\n",
       "      Roraima  Santa Catarina  Sergipe  São Paulo  Tocantins  \n",
       "2007      NaN             NaN      NaN        NaN        NaN  \n",
       "2008      NaN             NaN      NaN        NaN        NaN  \n",
       "2009      NaN             NaN      NaN        NaN        NaN  \n",
       "2010      NaN             NaN      NaN        NaN        NaN  \n",
       "2011      NaN             NaN      NaN        NaN        NaN  \n",
       "\n",
       "[5 rows x 42 columns]"
      ]
     },
     "execution_count": 8,
     "metadata": {},
     "output_type": "execute_result"
    }
   ],
   "source": [
    "# Convertendo estados_comuns para lista para evitar o erro\n",
    "populacao_filtrada = populacao_38_58[list(estados_comuns)]\n",
    "empresas_filtradas = empresas_por_estado.loc[list(estados_comuns)]\n",
    "\n",
    "# Calculando a razão entre a população de 38 a 58 anos e o número de empresas por estado\n",
    "razao_populacao_empresa = populacao_filtrada.div(empresas_filtradas, axis=0)\n",
    "\n",
    "\n",
    "razao_populacao_empresa.head()"
   ]
  },
  {
   "cell_type": "code",
   "execution_count": 9,
   "metadata": {},
   "outputs": [
    {
     "data": {
      "text/plain": [
       "Series([], dtype: int64)"
      ]
     },
     "execution_count": 9,
     "metadata": {},
     "output_type": "execute_result"
    }
   ],
   "source": [
    "# Verificando se há zeros no número de empresas por estado e ano\n",
    "zero_counts = (empresas_filtradas == 0).sum()\n",
    "zero_counts[zero_counts > 0]"
   ]
  },
  {
   "cell_type": "code",
   "execution_count": 10,
   "metadata": {},
   "outputs": [
    {
     "data": {
      "text/plain": [
       "(Index([2007, 2008, 2009, 2010, 2011, 2012, 2013, 2014, 2015, 2016, 2017, 2018,\n",
       "        2019, 2020, 2021, 2022],\n",
       "       dtype='int64'),\n",
       " Index([2007, 2008, 2009, 2010, 2011, 2012, 2013, 2014, 2015, 2016, 2017, 2018,\n",
       "        2019, 2020],\n",
       "       dtype='int64', name='ano'))"
      ]
     },
     "execution_count": 10,
     "metadata": {},
     "output_type": "execute_result"
    }
   ],
   "source": [
    "# Verificando a correspondência dos índices de anos entre os dois DataFrames\n",
    "anos_populacao = populacao_filtrada.index\n",
    "anos_empresas = empresas_filtradas.columns\n",
    "\n",
    "# Exibindo os índices de ambos os DataFrames para comparação\n",
    "anos_populacao, anos_empresas"
   ]
  },
  {
   "cell_type": "code",
   "execution_count": 11,
   "metadata": {},
   "outputs": [
    {
     "data": {
      "text/html": [
       "<div>\n",
       "<style scoped>\n",
       "    .dataframe tbody tr th:only-of-type {\n",
       "        vertical-align: middle;\n",
       "    }\n",
       "\n",
       "    .dataframe tbody tr th {\n",
       "        vertical-align: top;\n",
       "    }\n",
       "\n",
       "    .dataframe thead th {\n",
       "        text-align: right;\n",
       "    }\n",
       "</style>\n",
       "<table border=\"1\" class=\"dataframe\">\n",
       "  <thead>\n",
       "    <tr style=\"text-align: right;\">\n",
       "      <th></th>\n",
       "      <th>2007</th>\n",
       "      <th>2008</th>\n",
       "      <th>2009</th>\n",
       "      <th>2010</th>\n",
       "      <th>2011</th>\n",
       "      <th>2012</th>\n",
       "      <th>2013</th>\n",
       "      <th>2014</th>\n",
       "      <th>2015</th>\n",
       "      <th>2016</th>\n",
       "      <th>...</th>\n",
       "      <th>Piauí</th>\n",
       "      <th>Rio Grande do Norte</th>\n",
       "      <th>Rio Grande do Sul</th>\n",
       "      <th>Rio de Janeiro</th>\n",
       "      <th>Rondônia</th>\n",
       "      <th>Roraima</th>\n",
       "      <th>Santa Catarina</th>\n",
       "      <th>Sergipe</th>\n",
       "      <th>São Paulo</th>\n",
       "      <th>Tocantins</th>\n",
       "    </tr>\n",
       "  </thead>\n",
       "  <tbody>\n",
       "    <tr>\n",
       "      <th>2007</th>\n",
       "      <td>NaN</td>\n",
       "      <td>NaN</td>\n",
       "      <td>NaN</td>\n",
       "      <td>NaN</td>\n",
       "      <td>NaN</td>\n",
       "      <td>NaN</td>\n",
       "      <td>NaN</td>\n",
       "      <td>NaN</td>\n",
       "      <td>NaN</td>\n",
       "      <td>NaN</td>\n",
       "      <td>...</td>\n",
       "      <td>NaN</td>\n",
       "      <td>NaN</td>\n",
       "      <td>NaN</td>\n",
       "      <td>NaN</td>\n",
       "      <td>NaN</td>\n",
       "      <td>NaN</td>\n",
       "      <td>NaN</td>\n",
       "      <td>NaN</td>\n",
       "      <td>NaN</td>\n",
       "      <td>NaN</td>\n",
       "    </tr>\n",
       "    <tr>\n",
       "      <th>2008</th>\n",
       "      <td>NaN</td>\n",
       "      <td>NaN</td>\n",
       "      <td>NaN</td>\n",
       "      <td>NaN</td>\n",
       "      <td>NaN</td>\n",
       "      <td>NaN</td>\n",
       "      <td>NaN</td>\n",
       "      <td>NaN</td>\n",
       "      <td>NaN</td>\n",
       "      <td>NaN</td>\n",
       "      <td>...</td>\n",
       "      <td>NaN</td>\n",
       "      <td>NaN</td>\n",
       "      <td>NaN</td>\n",
       "      <td>NaN</td>\n",
       "      <td>NaN</td>\n",
       "      <td>NaN</td>\n",
       "      <td>NaN</td>\n",
       "      <td>NaN</td>\n",
       "      <td>NaN</td>\n",
       "      <td>NaN</td>\n",
       "    </tr>\n",
       "    <tr>\n",
       "      <th>2009</th>\n",
       "      <td>NaN</td>\n",
       "      <td>NaN</td>\n",
       "      <td>NaN</td>\n",
       "      <td>NaN</td>\n",
       "      <td>NaN</td>\n",
       "      <td>NaN</td>\n",
       "      <td>NaN</td>\n",
       "      <td>NaN</td>\n",
       "      <td>NaN</td>\n",
       "      <td>NaN</td>\n",
       "      <td>...</td>\n",
       "      <td>NaN</td>\n",
       "      <td>NaN</td>\n",
       "      <td>NaN</td>\n",
       "      <td>NaN</td>\n",
       "      <td>NaN</td>\n",
       "      <td>NaN</td>\n",
       "      <td>NaN</td>\n",
       "      <td>NaN</td>\n",
       "      <td>NaN</td>\n",
       "      <td>NaN</td>\n",
       "    </tr>\n",
       "    <tr>\n",
       "      <th>2010</th>\n",
       "      <td>NaN</td>\n",
       "      <td>NaN</td>\n",
       "      <td>NaN</td>\n",
       "      <td>NaN</td>\n",
       "      <td>NaN</td>\n",
       "      <td>NaN</td>\n",
       "      <td>NaN</td>\n",
       "      <td>NaN</td>\n",
       "      <td>NaN</td>\n",
       "      <td>NaN</td>\n",
       "      <td>...</td>\n",
       "      <td>NaN</td>\n",
       "      <td>NaN</td>\n",
       "      <td>NaN</td>\n",
       "      <td>NaN</td>\n",
       "      <td>NaN</td>\n",
       "      <td>NaN</td>\n",
       "      <td>NaN</td>\n",
       "      <td>NaN</td>\n",
       "      <td>NaN</td>\n",
       "      <td>NaN</td>\n",
       "    </tr>\n",
       "    <tr>\n",
       "      <th>2011</th>\n",
       "      <td>NaN</td>\n",
       "      <td>NaN</td>\n",
       "      <td>NaN</td>\n",
       "      <td>NaN</td>\n",
       "      <td>NaN</td>\n",
       "      <td>NaN</td>\n",
       "      <td>NaN</td>\n",
       "      <td>NaN</td>\n",
       "      <td>NaN</td>\n",
       "      <td>NaN</td>\n",
       "      <td>...</td>\n",
       "      <td>NaN</td>\n",
       "      <td>NaN</td>\n",
       "      <td>NaN</td>\n",
       "      <td>NaN</td>\n",
       "      <td>NaN</td>\n",
       "      <td>NaN</td>\n",
       "      <td>NaN</td>\n",
       "      <td>NaN</td>\n",
       "      <td>NaN</td>\n",
       "      <td>NaN</td>\n",
       "    </tr>\n",
       "  </tbody>\n",
       "</table>\n",
       "<p>5 rows × 42 columns</p>\n",
       "</div>"
      ],
      "text/plain": [
       "      2007  2008  2009  2010  2011  2012  2013  2014  2015  2016  ...  Piauí  \\\n",
       "2007   NaN   NaN   NaN   NaN   NaN   NaN   NaN   NaN   NaN   NaN  ...    NaN   \n",
       "2008   NaN   NaN   NaN   NaN   NaN   NaN   NaN   NaN   NaN   NaN  ...    NaN   \n",
       "2009   NaN   NaN   NaN   NaN   NaN   NaN   NaN   NaN   NaN   NaN  ...    NaN   \n",
       "2010   NaN   NaN   NaN   NaN   NaN   NaN   NaN   NaN   NaN   NaN  ...    NaN   \n",
       "2011   NaN   NaN   NaN   NaN   NaN   NaN   NaN   NaN   NaN   NaN  ...    NaN   \n",
       "\n",
       "      Rio Grande do Norte  Rio Grande do Sul  Rio de Janeiro  Rondônia  \\\n",
       "2007                  NaN                NaN             NaN       NaN   \n",
       "2008                  NaN                NaN             NaN       NaN   \n",
       "2009                  NaN                NaN             NaN       NaN   \n",
       "2010                  NaN                NaN             NaN       NaN   \n",
       "2011                  NaN                NaN             NaN       NaN   \n",
       "\n",
       "      Roraima  Santa Catarina  Sergipe  São Paulo  Tocantins  \n",
       "2007      NaN             NaN      NaN        NaN        NaN  \n",
       "2008      NaN             NaN      NaN        NaN        NaN  \n",
       "2009      NaN             NaN      NaN        NaN        NaN  \n",
       "2010      NaN             NaN      NaN        NaN        NaN  \n",
       "2011      NaN             NaN      NaN        NaN        NaN  \n",
       "\n",
       "[5 rows x 42 columns]"
      ]
     },
     "execution_count": 11,
     "metadata": {},
     "output_type": "execute_result"
    }
   ],
   "source": [
    "# Filtrando a população para o intervalo de anos 2007 a 2020\n",
    "populacao_filtrada = populacao_filtrada.loc[2007:2020]\n",
    "\n",
    "# Recalculando a razão entre a população de 38 a 58 anos e o número de empresas por estado\n",
    "razao_populacao_empresa = populacao_filtrada.div(empresas_filtradas, axis=0)\n",
    "\n",
    "\n",
    "razao_populacao_empresa.head()"
   ]
  },
  {
   "cell_type": "code",
   "execution_count": 12,
   "metadata": {},
   "outputs": [
    {
     "data": {
      "text/plain": [
       "set()"
      ]
     },
     "execution_count": 12,
     "metadata": {},
     "output_type": "execute_result"
    }
   ],
   "source": [
    "# Verificando a interseção direta entre os nomes das colunas de estados\n",
    "colunas_populacao = set(populacao_filtrada.columns)\n",
    "colunas_empresas = set(empresas_filtradas.index)\n",
    "\n",
    "# Comparando as colunas\n",
    "colunas_nao_correspondentes = colunas_populacao.symmetric_difference(colunas_empresas)\n",
    "\n",
    "colunas_nao_correspondentes"
   ]
  },
  {
   "cell_type": "code",
   "execution_count": 13,
   "metadata": {},
   "outputs": [
    {
     "data": {
      "text/plain": [
       "(LOCAL\n",
       " Rio de Janeiro         float64\n",
       " Espírito Santo         float64\n",
       " Piauí                  float64\n",
       " Mato Grosso do Sul     float64\n",
       " Pernambuco             float64\n",
       " Tocantins              float64\n",
       " Bahia                  float64\n",
       " Pará                   float64\n",
       " Distrito Federal       float64\n",
       " Rio Grande do Sul      float64\n",
       " Rio Grande do Norte    float64\n",
       " Brasil                 float64\n",
       " Minas Gerais           float64\n",
       " Acre                   float64\n",
       " São Paulo              float64\n",
       " Ceará                  float64\n",
       " Santa Catarina         float64\n",
       " Alagoas                float64\n",
       " Paraíba                float64\n",
       " Maranhão               float64\n",
       " Roraima                float64\n",
       " Sergipe                float64\n",
       " Amazonas               float64\n",
       " Amapá                  float64\n",
       " Mato Grosso            float64\n",
       " Rondônia               float64\n",
       " Paraná                 float64\n",
       " Goiás                  float64\n",
       " dtype: object,\n",
       " ano\n",
       " 2007    int64\n",
       " 2008    int64\n",
       " 2009    int64\n",
       " 2010    int64\n",
       " 2011    int64\n",
       " 2012    int64\n",
       " 2013    int64\n",
       " 2014    int64\n",
       " 2015    int64\n",
       " 2016    int64\n",
       " 2017    int64\n",
       " 2018    int64\n",
       " 2019    int64\n",
       " 2020    int64\n",
       " dtype: object,\n",
       " np.int64(0),\n",
       " np.int64(0))"
      ]
     },
     "execution_count": 13,
     "metadata": {},
     "output_type": "execute_result"
    }
   ],
   "source": [
    "# Verificando tipos de dados e presença de valores NaN em ambos os DataFrames\n",
    "tipos_populacao = populacao_filtrada.dtypes\n",
    "tipos_empresas = empresas_filtradas.dtypes\n",
    "\n",
    "valores_nulos_populacao = populacao_filtrada.isnull().sum().sum()\n",
    "valores_nulos_empresas = empresas_filtradas.isnull().sum().sum()\n",
    "\n",
    "tipos_populacao, tipos_empresas, valores_nulos_populacao, valores_nulos_empresas"
   ]
  },
  {
   "cell_type": "code",
   "execution_count": null,
   "metadata": {},
   "outputs": [
    {
     "data": {
      "text/html": [
       "<div>\n",
       "<style scoped>\n",
       "    .dataframe tbody tr th:only-of-type {\n",
       "        vertical-align: middle;\n",
       "    }\n",
       "\n",
       "    .dataframe tbody tr th {\n",
       "        vertical-align: top;\n",
       "    }\n",
       "\n",
       "    .dataframe thead th {\n",
       "        text-align: right;\n",
       "    }\n",
       "</style>\n",
       "<table border=\"1\" class=\"dataframe\">\n",
       "  <thead>\n",
       "    <tr style=\"text-align: right;\">\n",
       "      <th></th>\n",
       "      <th>2007</th>\n",
       "      <th>2008</th>\n",
       "      <th>2009</th>\n",
       "      <th>2010</th>\n",
       "      <th>2011</th>\n",
       "      <th>2012</th>\n",
       "      <th>2013</th>\n",
       "      <th>2014</th>\n",
       "      <th>2015</th>\n",
       "      <th>2016</th>\n",
       "      <th>...</th>\n",
       "      <th>Piauí</th>\n",
       "      <th>Rio Grande do Norte</th>\n",
       "      <th>Rio Grande do Sul</th>\n",
       "      <th>Rio de Janeiro</th>\n",
       "      <th>Rondônia</th>\n",
       "      <th>Roraima</th>\n",
       "      <th>Santa Catarina</th>\n",
       "      <th>Sergipe</th>\n",
       "      <th>São Paulo</th>\n",
       "      <th>Tocantins</th>\n",
       "    </tr>\n",
       "  </thead>\n",
       "  <tbody>\n",
       "    <tr>\n",
       "      <th>2007</th>\n",
       "      <td>NaN</td>\n",
       "      <td>NaN</td>\n",
       "      <td>NaN</td>\n",
       "      <td>NaN</td>\n",
       "      <td>NaN</td>\n",
       "      <td>NaN</td>\n",
       "      <td>NaN</td>\n",
       "      <td>NaN</td>\n",
       "      <td>NaN</td>\n",
       "      <td>NaN</td>\n",
       "      <td>...</td>\n",
       "      <td>NaN</td>\n",
       "      <td>NaN</td>\n",
       "      <td>NaN</td>\n",
       "      <td>NaN</td>\n",
       "      <td>NaN</td>\n",
       "      <td>NaN</td>\n",
       "      <td>NaN</td>\n",
       "      <td>NaN</td>\n",
       "      <td>NaN</td>\n",
       "      <td>NaN</td>\n",
       "    </tr>\n",
       "    <tr>\n",
       "      <th>2008</th>\n",
       "      <td>NaN</td>\n",
       "      <td>NaN</td>\n",
       "      <td>NaN</td>\n",
       "      <td>NaN</td>\n",
       "      <td>NaN</td>\n",
       "      <td>NaN</td>\n",
       "      <td>NaN</td>\n",
       "      <td>NaN</td>\n",
       "      <td>NaN</td>\n",
       "      <td>NaN</td>\n",
       "      <td>...</td>\n",
       "      <td>NaN</td>\n",
       "      <td>NaN</td>\n",
       "      <td>NaN</td>\n",
       "      <td>NaN</td>\n",
       "      <td>NaN</td>\n",
       "      <td>NaN</td>\n",
       "      <td>NaN</td>\n",
       "      <td>NaN</td>\n",
       "      <td>NaN</td>\n",
       "      <td>NaN</td>\n",
       "    </tr>\n",
       "    <tr>\n",
       "      <th>2009</th>\n",
       "      <td>NaN</td>\n",
       "      <td>NaN</td>\n",
       "      <td>NaN</td>\n",
       "      <td>NaN</td>\n",
       "      <td>NaN</td>\n",
       "      <td>NaN</td>\n",
       "      <td>NaN</td>\n",
       "      <td>NaN</td>\n",
       "      <td>NaN</td>\n",
       "      <td>NaN</td>\n",
       "      <td>...</td>\n",
       "      <td>NaN</td>\n",
       "      <td>NaN</td>\n",
       "      <td>NaN</td>\n",
       "      <td>NaN</td>\n",
       "      <td>NaN</td>\n",
       "      <td>NaN</td>\n",
       "      <td>NaN</td>\n",
       "      <td>NaN</td>\n",
       "      <td>NaN</td>\n",
       "      <td>NaN</td>\n",
       "    </tr>\n",
       "    <tr>\n",
       "      <th>2010</th>\n",
       "      <td>NaN</td>\n",
       "      <td>NaN</td>\n",
       "      <td>NaN</td>\n",
       "      <td>NaN</td>\n",
       "      <td>NaN</td>\n",
       "      <td>NaN</td>\n",
       "      <td>NaN</td>\n",
       "      <td>NaN</td>\n",
       "      <td>NaN</td>\n",
       "      <td>NaN</td>\n",
       "      <td>...</td>\n",
       "      <td>NaN</td>\n",
       "      <td>NaN</td>\n",
       "      <td>NaN</td>\n",
       "      <td>NaN</td>\n",
       "      <td>NaN</td>\n",
       "      <td>NaN</td>\n",
       "      <td>NaN</td>\n",
       "      <td>NaN</td>\n",
       "      <td>NaN</td>\n",
       "      <td>NaN</td>\n",
       "    </tr>\n",
       "    <tr>\n",
       "      <th>2011</th>\n",
       "      <td>NaN</td>\n",
       "      <td>NaN</td>\n",
       "      <td>NaN</td>\n",
       "      <td>NaN</td>\n",
       "      <td>NaN</td>\n",
       "      <td>NaN</td>\n",
       "      <td>NaN</td>\n",
       "      <td>NaN</td>\n",
       "      <td>NaN</td>\n",
       "      <td>NaN</td>\n",
       "      <td>...</td>\n",
       "      <td>NaN</td>\n",
       "      <td>NaN</td>\n",
       "      <td>NaN</td>\n",
       "      <td>NaN</td>\n",
       "      <td>NaN</td>\n",
       "      <td>NaN</td>\n",
       "      <td>NaN</td>\n",
       "      <td>NaN</td>\n",
       "      <td>NaN</td>\n",
       "      <td>NaN</td>\n",
       "    </tr>\n",
       "  </tbody>\n",
       "</table>\n",
       "<p>5 rows × 42 columns</p>\n",
       "</div>"
      ],
      "text/plain": [
       "      2007  2008  2009  2010  2011  2012  2013  2014  2015  2016  ...  Piauí  \\\n",
       "2007   NaN   NaN   NaN   NaN   NaN   NaN   NaN   NaN   NaN   NaN  ...    NaN   \n",
       "2008   NaN   NaN   NaN   NaN   NaN   NaN   NaN   NaN   NaN   NaN  ...    NaN   \n",
       "2009   NaN   NaN   NaN   NaN   NaN   NaN   NaN   NaN   NaN   NaN  ...    NaN   \n",
       "2010   NaN   NaN   NaN   NaN   NaN   NaN   NaN   NaN   NaN   NaN  ...    NaN   \n",
       "2011   NaN   NaN   NaN   NaN   NaN   NaN   NaN   NaN   NaN   NaN  ...    NaN   \n",
       "\n",
       "      Rio Grande do Norte  Rio Grande do Sul  Rio de Janeiro  Rondônia  \\\n",
       "2007                  NaN                NaN             NaN       NaN   \n",
       "2008                  NaN                NaN             NaN       NaN   \n",
       "2009                  NaN                NaN             NaN       NaN   \n",
       "2010                  NaN                NaN             NaN       NaN   \n",
       "2011                  NaN                NaN             NaN       NaN   \n",
       "\n",
       "      Roraima  Santa Catarina  Sergipe  São Paulo  Tocantins  \n",
       "2007      NaN             NaN      NaN        NaN        NaN  \n",
       "2008      NaN             NaN      NaN        NaN        NaN  \n",
       "2009      NaN             NaN      NaN        NaN        NaN  \n",
       "2010      NaN             NaN      NaN        NaN        NaN  \n",
       "2011      NaN             NaN      NaN        NaN        NaN  \n",
       "\n",
       "[5 rows x 42 columns]"
      ]
     },
     "execution_count": 14,
     "metadata": {},
     "output_type": "execute_result"
    }
   ],
   "source": [
    "# Convertendo as colunas de empresas para float64 para garantir compatibilidade\n",
    "empresas_filtradas = empresas_filtradas.astype(float)\n",
    "\n",
    "# Recalculando a razão entre a população de 38 a 58 anos e o número de empresas por estado\n",
    "razao_populacao_empresa = populacao_filtrada.div(empresas_filtradas, axis=0)\n",
    "\n",
    "\n",
    "razao_populacao_empresa.head()"
   ]
  },
  {
   "cell_type": "code",
   "execution_count": 59,
   "metadata": {},
   "outputs": [
    {
     "data": {
      "text/html": [
       "<div>\n",
       "<style scoped>\n",
       "    .dataframe tbody tr th:only-of-type {\n",
       "        vertical-align: middle;\n",
       "    }\n",
       "\n",
       "    .dataframe tbody tr th {\n",
       "        vertical-align: top;\n",
       "    }\n",
       "\n",
       "    .dataframe thead th {\n",
       "        text-align: right;\n",
       "    }\n",
       "</style>\n",
       "<table border=\"1\" class=\"dataframe\">\n",
       "  <thead>\n",
       "    <tr style=\"text-align: right;\">\n",
       "      <th>LOCAL</th>\n",
       "      <th>Rio de Janeiro</th>\n",
       "      <th>Espírito Santo</th>\n",
       "      <th>Piauí</th>\n",
       "      <th>Mato Grosso do Sul</th>\n",
       "      <th>Pernambuco</th>\n",
       "      <th>Tocantins</th>\n",
       "      <th>Bahia</th>\n",
       "      <th>Pará</th>\n",
       "      <th>Distrito Federal</th>\n",
       "      <th>Rio Grande do Sul</th>\n",
       "      <th>...</th>\n",
       "      <th>Paraíba</th>\n",
       "      <th>Maranhão</th>\n",
       "      <th>Roraima</th>\n",
       "      <th>Sergipe</th>\n",
       "      <th>Amazonas</th>\n",
       "      <th>Amapá</th>\n",
       "      <th>Mato Grosso</th>\n",
       "      <th>Rondônia</th>\n",
       "      <th>Paraná</th>\n",
       "      <th>Goiás</th>\n",
       "    </tr>\n",
       "  </thead>\n",
       "  <tbody>\n",
       "    <tr>\n",
       "      <th>2007</th>\n",
       "      <td>126956.470588</td>\n",
       "      <td>25405.676471</td>\n",
       "      <td>19082.000000</td>\n",
       "      <td>16550.205882</td>\n",
       "      <td>55696.470588</td>\n",
       "      <td>7804.735294</td>\n",
       "      <td>87423.441176</td>\n",
       "      <td>39290.529412</td>\n",
       "      <td>0.0</td>\n",
       "      <td>86717.176471</td>\n",
       "      <td>...</td>\n",
       "      <td>23639.500000</td>\n",
       "      <td>34175.911765</td>\n",
       "      <td>2232.205882</td>\n",
       "      <td>12335.235294</td>\n",
       "      <td>16901.882353</td>\n",
       "      <td>3009.117647</td>\n",
       "      <td>0.0</td>\n",
       "      <td>9488.323529</td>\n",
       "      <td>77426.676471</td>\n",
       "      <td>0.0</td>\n",
       "    </tr>\n",
       "    <tr>\n",
       "      <th>2008</th>\n",
       "      <td>128821.264706</td>\n",
       "      <td>26074.147059</td>\n",
       "      <td>19501.970588</td>\n",
       "      <td>17011.970588</td>\n",
       "      <td>57044.705882</td>\n",
       "      <td>8064.823529</td>\n",
       "      <td>89553.323529</td>\n",
       "      <td>40669.470588</td>\n",
       "      <td>0.0</td>\n",
       "      <td>87658.882353</td>\n",
       "      <td>...</td>\n",
       "      <td>24193.970588</td>\n",
       "      <td>35062.441176</td>\n",
       "      <td>2330.529412</td>\n",
       "      <td>12750.558824</td>\n",
       "      <td>17589.205882</td>\n",
       "      <td>3173.558824</td>\n",
       "      <td>0.0</td>\n",
       "      <td>9831.029412</td>\n",
       "      <td>79260.911765</td>\n",
       "      <td>0.0</td>\n",
       "    </tr>\n",
       "    <tr>\n",
       "      <th>2009</th>\n",
       "      <td>130557.029412</td>\n",
       "      <td>26712.147059</td>\n",
       "      <td>19925.147059</td>\n",
       "      <td>17456.735294</td>\n",
       "      <td>58413.441176</td>\n",
       "      <td>8326.647059</td>\n",
       "      <td>91707.411765</td>\n",
       "      <td>42067.970588</td>\n",
       "      <td>0.0</td>\n",
       "      <td>88451.382353</td>\n",
       "      <td>...</td>\n",
       "      <td>24752.294118</td>\n",
       "      <td>35947.764706</td>\n",
       "      <td>2428.617647</td>\n",
       "      <td>13164.029412</td>\n",
       "      <td>18292.117647</td>\n",
       "      <td>3339.705882</td>\n",
       "      <td>0.0</td>\n",
       "      <td>10169.382353</td>\n",
       "      <td>80993.941176</td>\n",
       "      <td>0.0</td>\n",
       "    </tr>\n",
       "    <tr>\n",
       "      <th>2010</th>\n",
       "      <td>132166.676471</td>\n",
       "      <td>27310.852941</td>\n",
       "      <td>20355.323529</td>\n",
       "      <td>17879.235294</td>\n",
       "      <td>59793.058824</td>\n",
       "      <td>8586.411765</td>\n",
       "      <td>93874.970588</td>\n",
       "      <td>43466.794118</td>\n",
       "      <td>0.0</td>\n",
       "      <td>89100.588235</td>\n",
       "      <td>...</td>\n",
       "      <td>25317.676471</td>\n",
       "      <td>36818.382353</td>\n",
       "      <td>2529.647059</td>\n",
       "      <td>13571.235294</td>\n",
       "      <td>19009.941176</td>\n",
       "      <td>3504.088235</td>\n",
       "      <td>0.0</td>\n",
       "      <td>10494.470588</td>\n",
       "      <td>82596.529412</td>\n",
       "      <td>0.0</td>\n",
       "    </tr>\n",
       "    <tr>\n",
       "      <th>2011</th>\n",
       "      <td>133650.823529</td>\n",
       "      <td>27872.205882</td>\n",
       "      <td>20789.058824</td>\n",
       "      <td>18280.676471</td>\n",
       "      <td>61170.735294</td>\n",
       "      <td>8846.382353</td>\n",
       "      <td>96032.264706</td>\n",
       "      <td>44861.823529</td>\n",
       "      <td>0.0</td>\n",
       "      <td>89607.764706</td>\n",
       "      <td>...</td>\n",
       "      <td>25886.941176</td>\n",
       "      <td>37667.029412</td>\n",
       "      <td>2636.500000</td>\n",
       "      <td>13969.117647</td>\n",
       "      <td>19739.500000</td>\n",
       "      <td>3665.852941</td>\n",
       "      <td>0.0</td>\n",
       "      <td>10806.294118</td>\n",
       "      <td>84069.529412</td>\n",
       "      <td>0.0</td>\n",
       "    </tr>\n",
       "  </tbody>\n",
       "</table>\n",
       "<p>5 rows × 28 columns</p>\n",
       "</div>"
      ],
      "text/plain": [
       "LOCAL  Rio de Janeiro  Espírito Santo         Piauí  Mato Grosso do Sul  \\\n",
       "2007    126956.470588    25405.676471  19082.000000        16550.205882   \n",
       "2008    128821.264706    26074.147059  19501.970588        17011.970588   \n",
       "2009    130557.029412    26712.147059  19925.147059        17456.735294   \n",
       "2010    132166.676471    27310.852941  20355.323529        17879.235294   \n",
       "2011    133650.823529    27872.205882  20789.058824        18280.676471   \n",
       "\n",
       "LOCAL    Pernambuco    Tocantins         Bahia          Pará  \\\n",
       "2007   55696.470588  7804.735294  87423.441176  39290.529412   \n",
       "2008   57044.705882  8064.823529  89553.323529  40669.470588   \n",
       "2009   58413.441176  8326.647059  91707.411765  42067.970588   \n",
       "2010   59793.058824  8586.411765  93874.970588  43466.794118   \n",
       "2011   61170.735294  8846.382353  96032.264706  44861.823529   \n",
       "\n",
       "LOCAL  Distrito Federal  Rio Grande do Sul  ...       Paraíba      Maranhão  \\\n",
       "2007                0.0       86717.176471  ...  23639.500000  34175.911765   \n",
       "2008                0.0       87658.882353  ...  24193.970588  35062.441176   \n",
       "2009                0.0       88451.382353  ...  24752.294118  35947.764706   \n",
       "2010                0.0       89100.588235  ...  25317.676471  36818.382353   \n",
       "2011                0.0       89607.764706  ...  25886.941176  37667.029412   \n",
       "\n",
       "LOCAL      Roraima       Sergipe      Amazonas        Amapá  Mato Grosso  \\\n",
       "2007   2232.205882  12335.235294  16901.882353  3009.117647          0.0   \n",
       "2008   2330.529412  12750.558824  17589.205882  3173.558824          0.0   \n",
       "2009   2428.617647  13164.029412  18292.117647  3339.705882          0.0   \n",
       "2010   2529.647059  13571.235294  19009.941176  3504.088235          0.0   \n",
       "2011   2636.500000  13969.117647  19739.500000  3665.852941          0.0   \n",
       "\n",
       "LOCAL      Rondônia        Paraná  Goiás  \n",
       "2007    9488.323529  77426.676471    0.0  \n",
       "2008    9831.029412  79260.911765    0.0  \n",
       "2009   10169.382353  80993.941176    0.0  \n",
       "2010   10494.470588  82596.529412    0.0  \n",
       "2011   10806.294118  84069.529412    0.0  \n",
       "\n",
       "[5 rows x 28 columns]"
      ]
     },
     "execution_count": 59,
     "metadata": {},
     "output_type": "execute_result"
    }
   ],
   "source": [
    "# Calculando a razão de forma direta usando um loop para maior controle\n",
    "razao_populacao_empresa_corrigida = pd.DataFrame(\n",
    "    index=populacao_filtrada.index, columns=populacao_filtrada.columns\n",
    ")\n",
    "\n",
    "for estado in populacao_filtrada.columns:\n",
    "    for ano in populacao_filtrada.index:\n",
    "        try:\n",
    "            razao_populacao_empresa_corrigida.loc[ano, estado] = (\n",
    "                populacao_filtrada.loc[ano, estado]\n",
    "                / empresas_filtradas.loc[estado, ano]\n",
    "            )\n",
    "        except ZeroDivisionError:\n",
    "            razao_populacao_empresa_corrigida.loc[ano, estado] = np.nan\n",
    "\n",
    "# Conversão para float\n",
    "razao_populacao_empresa_corrigida = razao_populacao_empresa_corrigida.astype(float)\n",
    "\n",
    "\n",
    "razao_populacao_empresa_corrigida.head()"
   ]
  },
  {
   "cell_type": "code",
   "execution_count": 16,
   "metadata": {},
   "outputs": [
    {
     "data": {
      "text/plain": [
       "Index(['Rio de Janeiro', 'Espírito Santo', 'Piauí', 'Mato Grosso do Sul',\n",
       "       'Pernambuco', 'Tocantins', 'Bahia', 'Pará', 'Distrito Federal',\n",
       "       'Rio Grande do Sul', 'Rio Grande do Norte', 'Brasil', 'Minas Gerais',\n",
       "       'Acre', 'São Paulo', 'Ceará', 'Santa Catarina', 'Alagoas', 'Paraíba',\n",
       "       'Maranhão', 'Roraima', 'Sergipe', 'Amazonas', 'Amapá', 'Mato Grosso',\n",
       "       'Rondônia', 'Paraná', 'Goiás'],\n",
       "      dtype='object', name='LOCAL')"
      ]
     },
     "execution_count": 16,
     "metadata": {},
     "output_type": "execute_result"
    }
   ],
   "source": [
    "razao_populacao_empresa_corrigida.columns"
   ]
  },
  {
   "cell_type": "code",
   "execution_count": 17,
   "metadata": {},
   "outputs": [],
   "source": [
    "# Lista de estados\n",
    "estados = ['Pernambuco', 'Bahia', 'Minas Gerais', 'Acre', 'Rondônia', 'Amazonas',\n",
    "       'Rio de Janeiro', 'Maranhão', 'Rio Grande do Sul', 'Espírito Santo',\n",
    "       'Ceará', 'Amapá', 'Sergipe', 'Mato Grosso do Sul', 'Alagoas',\n",
    "       'Mato Grosso', 'Roraima', 'Brasil', 'Paraíba', 'Santa Catarina',\n",
    "       'Distrito Federal', 'Goiás', 'Piauí', 'Tocantins', 'Paraná',\n",
    "       'São Paulo', 'Pará', 'Rio Grande do Norte']\n",
    "\n",
    "estados2 = ['Bahia', 'São Paulo']"
   ]
  },
  {
   "cell_type": "code",
   "execution_count": 64,
   "metadata": {},
   "outputs": [
    {
     "data": {
      "application/vnd.plotly.v1+json": {
       "config": {
        "plotlyServerURL": "https://plot.ly"
       },
       "data": [
        {
         "hovertemplate": "Estado: Rio de Janeiro<br>Ano: %{x}<br>Razão: %{y:.2f}<extra></extra>",
         "mode": "lines+markers",
         "name": "Rio de Janeiro",
         "type": "scatter",
         "x": {
          "bdata": "1wfYB9kH2gfbB9wH3QfeB98H4AfhB+IH4wfkBw==",
          "dtype": "i2"
         },
         "y": {
          "bdata": "iIeHh8f+/kA8PDw8VHP/QHh4eHjQ3/9AaWlpaTUiAEGXlpaWllAAQdPS0tK2fABBiIeHh8+nAEGIh4eHB9MAQVpaWlrG/gBBpqWlpaErAUFaWlpaJlkBQbW0tLTAhQFBiIeHhyuwAUG1tLS0BNQBQQ==",
          "dtype": "f8"
         }
        },
        {
         "hovertemplate": "Estado: Espírito Santo<br>Ano: %{x}<br>Razão: %{y:.2f}<extra></extra>",
         "mode": "lines+markers",
         "name": "Espírito Santo",
         "type": "scatter",
         "x": {
          "bdata": "1wfYB9kH2gfbB9wH3QfeB98H4AfhB+IH4wfkBw==",
          "dtype": "i2"
         },
         "y": {
          "bdata": "S0tLS2vP2EBpaWlpiXbZQGlpaWkJFtpAl5aWlrar2kAtLS0tDTjbQA8PDw8PwNtAeHh4eJhG3EAPDw8Pj8/cQA8PDw/PXN1Al5aWlvbu3UAeHh4eXoXeQLW0tLQUHd9A4uHh4eG030Dx8PDwUCPgQA==",
          "dtype": "f8"
         }
        },
        {
         "hovertemplate": "Estado: Piauí<br>Ano: %{x}<br>Razão: %{y:.2f}<extra></extra>",
         "mode": "lines+markers",
         "name": "Piauí",
         "type": "scatter",
         "x": {
          "bdata": "1wfYB9kH2gfbB9wH3QfeB98H4AfhB+IH4wfkBw==",
          "dtype": "i2"
         },
         "y": {
          "bdata": "AAAAAICi0kAeHh4efgvTQGlpaWlJddNAtbS0tNTg00DEw8PDQ03UQPHw8PCwu9RAHh4eHl4u1UBpaWlpaafVQJeWlpZWKNZA4uHh4UGx1kDx8PDwkD/XQLW0tLT0z9dA8fDw8LBf2EAPDw8Pr+nYQA==",
          "dtype": "f8"
         }
        },
        {
         "hovertemplate": "Estado: Mato Grosso do Sul<br>Ano: %{x}<br>Razão: %{y:.2f}<extra></extra>",
         "mode": "lines+markers",
         "name": "Mato Grosso do Sul",
         "type": "scatter",
         "x": {
          "bdata": "1wfYB9kH2gfbB9wH3QfeB98H4AfhB+IH4wfkBw==",
          "dtype": "i2"
         },
         "y": {
          "bdata": "LS0tLY0p0EAeHh4e/pzQQA8PDw8vDNFADw8PD8910UBLS0tLK9rRQHh4eHi4O9JAHh4eHl6c0kAeHh4efv7SQA8PDw9PY9NAxMPDw6PL00AeHh4enjbUQAAAAABAotRAHh4eHp4M1UAeHh4evnHVQA==",
          "dtype": "f8"
         }
        },
        {
         "hovertemplate": "Estado: Pernambuco<br>Ano: %{x}<br>Razão: %{y:.2f}<extra></extra>",
         "mode": "lines+markers",
         "name": "Pernambuco",
         "type": "scatter",
         "x": {
          "bdata": "1wfYB9kH2gfbB9wH3QfeB98H4AfhB+IH4wfkBw==",
          "dtype": "i2"
         },
         "y": {
          "bdata": "Dw8PDw8y60CXlpaWltrrQB4eHh6uhexA4uHh4SEy7UCIh4eHV97tQDw8PDy8jO5AeHh4eIg+70BpaWlpKfTvQIiHh4evVvBAiIeHhw+18EBLS0tLGxTxQNPS0tL6cfFA8fDw8JDN8UC1tLS0DCPyQA==",
          "dtype": "f8"
         }
        },
        {
         "hovertemplate": "Estado: Tocantins<br>Ano: %{x}<br>Razão: %{y:.2f}<extra></extra>",
         "mode": "lines+markers",
         "name": "Tocantins",
         "type": "scatter",
         "x": {
          "bdata": "1wfYB9kH2gfbB9wH3QfeB98H4AfhB+IH4wfkBw==",
          "dtype": "i2"
         },
         "y": {
          "bdata": "PDw8PLx8vkDT0tLS0oC/QNPS0tJSQ8BAtbS0tDTFwEDx8PDwMEfBQMTDw8ODzMFALS0tLe1VwkCXlpaWVuTCQFpaWlrad8NAiIeHhwcQxEDi4eHhYavEQPHw8PDwRsVAiIeHhwfhxUCXlpaWFnbGQA==",
          "dtype": "f8"
         }
        },
        {
         "hovertemplate": "Estado: Bahia<br>Ano: %{x}<br>Razão: %{y:.2f}<extra></extra>",
         "mode": "lines+markers",
         "name": "Bahia",
         "type": "scatter",
         "x": {
          "bdata": "1wfYB9kH2gfbB9wH3QfeB98H4AfhB+IH4wfkBw==",
          "dtype": "i2"
         },
         "y": {
          "bdata": "Dw8PD/dX9UAtLS0tFd31QJeWlpa2Y/ZAiIeHhy/r9kA8PDw8BHL3QB4eHh6W+vdAAAAAAFCH+EDEw8PDAxv5QAAAAABYt/lAiIeHh9dc+kAPDw8Pdwn7QC0tLS1tuftAWlpaWgJp/EDEw8PD8xD9QA==",
          "dtype": "f8"
         }
        },
        {
         "hovertemplate": "Estado: Pará<br>Ano: %{x}<br>Razão: %{y:.2f}<extra></extra>",
         "mode": "lines+markers",
         "name": "Pará",
         "type": "scatter",
         "x": {
          "bdata": "1wfYB9kH2gfbB9wH3QfeB98H4AfhB+IH4wfkBw==",
          "dtype": "i2"
         },
         "y": {
          "bdata": "8fDw8FAv40APDw8Pr9vjQA8PDw9/iuRAaWlpaVk55UBaWlpauuflQKalpaVVmeZAWlpaWnpQ50DT0tLSMg7oQA8PDw9v0uhApqWlpSWd6UDx8PDwUG3qQFpaWlqaQOtApqWlpSUX7EAAAAAAUOzsQA==",
          "dtype": "f8"
         }
        },
        {
         "hovertemplate": "Estado: Distrito Federal<br>Ano: %{x}<br>Razão: %{y:.2f}<extra></extra>",
         "mode": "lines+markers",
         "name": "Distrito Federal",
         "type": "scatter",
         "x": {
          "bdata": "1wfYB9kH2gfbB9wH3QfeB98H4AfhB+IH4wfkBw==",
          "dtype": "i2"
         },
         "y": {
          "bdata": "AAAAAAAAAAAAAAAAAAAAAAAAAAAAAAAAAAAAAAAAAAAAAAAAAAAAAAAAAAAAAAAAAAAAAAAAAAAAAAAAAAAAAAAAAAAAAAAAAAAAAAAAAAAAAAAAAAAAAAAAAAAAAAAAAAAAAAAAAAAAAAAAAAAAAA==",
          "dtype": "f8"
         }
        },
        {
         "hovertemplate": "Estado: Rio Grande do Sul<br>Ano: %{x}<br>Razão: %{y:.2f}<extra></extra>",
         "mode": "lines+markers",
         "name": "Rio Grande do Sul",
         "type": "scatter",
         "x": {
          "bdata": "1wfYB9kH2gfbB9wH3QfeB98H4AfhB+IH4wfkBw==",
          "dtype": "i2"
         },
         "y": {
          "bdata": "09LS0tIr9UAeHh4ermb1QB4eHh42mPVAaWlpacnA9UA8PDw8fOD1QPHw8PDA+fVALS0tLVUP9kAAAAAAkCT2QPHw8PDIO/ZAiIeHhw9W9kCIh4eHh3L2QOLh4eFBj/ZAxMPDw+Oq9kA8PDw8lML2QA==",
          "dtype": "f8"
         }
        },
        {
         "hovertemplate": "Estado: Rio Grande do Norte<br>Ano: %{x}<br>Razão: %{y:.2f}<extra></extra>",
         "mode": "lines+markers",
         "name": "Rio Grande do Norte",
         "type": "scatter",
         "x": {
          "bdata": "1wfYB9kH2gfbB9wH3QfeB98H4AfhB+IH4wfkBw==",
          "dtype": "i2"
         },
         "y": {
          "bdata": "Dw8PDw9900AeHh4eHgjUQJeWlpa2k9RADw8PD28f1UAeHh4eHqnVQMTDw8PjMdZA8fDw8NC61kBaWlpaOkXXQJeWlpa20tdA4uHh4WFj2EDi4eHhYfTYQKalpaVlgdlAl5aWlrYI2kBaWlpa2obaQA==",
          "dtype": "f8"
         }
        },
        {
         "hovertemplate": "Estado: Brasil<br>Ano: %{x}<br>Razão: %{y:.2f}<extra></extra>",
         "mode": "lines+markers",
         "name": "Brasil",
         "type": "scatter",
         "x": {
          "bdata": "1wfYB9kH2gfbB9wH3QfeB98H4AfhB+IH4wfkBw==",
          "dtype": "i2"
         },
         "y": {
          "bdata": "WlpaWmUINEEtLS0ten80QfHw8PB08zRBtbS0NGxjNUGIh4eHD881QbW0tDQXOTZB4uHh4WejNkGIh4cHKBA3QaalpaWPgDdBxMPDQzX1N0HT0tJS5mw4QbW0tDRB5ThBxMPDw2pcOUEPDw+P/Mw5QQ==",
          "dtype": "f8"
         }
        },
        {
         "hovertemplate": "Estado: Minas Gerais<br>Ano: %{x}<br>Razão: %{y:.2f}<extra></extra>",
         "mode": "lines+markers",
         "name": "Minas Gerais",
         "type": "scatter",
         "x": {
          "bdata": "1wfYB9kH2gfbB9wH3QfeB98H4AfhB+IH4wfkBw==",
          "dtype": "i2"
         },
         "y": {
          "bdata": "Hh4eHnKFAUHx8PDw4N8BQQ8PDw+/NQJBLS0tLf2FAkEeHh4ertACQdPS0tICGQNB09LS0nZgA0EPDw8Py6gDQaalpaX58gNBHh4eHqY/BEEtLS0tJY4EQeLh4eEB3QRBiIeHh8cqBUE8PDw8GHQFQQ==",
          "dtype": "f8"
         }
        },
        {
         "hovertemplate": "Estado: Acre<br>Ano: %{x}<br>Razão: %{y:.2f}<extra></extra>",
         "mode": "lines+markers",
         "name": "Acre",
         "type": "scatter",
         "x": {
          "bdata": "1wfYB9kH2gfbB9wH3QfeB98H4AfhB+IH4wfkBw==",
          "dtype": "i2"
         },
         "y": {
          "bdata": "PDw8PDxUq0BpaWlpaYCsQMTDw8PDsq1AxMPDw8PmrkB4eHh4+A2wQGlpaWnpqrBAHh4eHp5LsUDEw8PDQ/GxQOLh4eFhm7JAHh4eHp5Ks0APDw8Pj/yzQGlpaWnpq7RADw8PDw9YtUCXlpaWFgC2QA==",
          "dtype": "f8"
         }
        },
        {
         "hovertemplate": "Estado: São Paulo<br>Ano: %{x}<br>Razão: %{y:.2f}<extra></extra>",
         "mode": "lines+markers",
         "name": "São Paulo",
         "type": "scatter",
         "x": {
          "bdata": "1wfYB9kH2gfbB9wH3QfeB98H4AfhB+IH4wfkBw==",
          "dtype": "i2"
         },
         "y": {
          "bdata": "Hh4eHnbcEkHi4eHhi0UTQXh4eHicqhNBl5aWlsIKFEFpaWlp22UUQTw8PDwAvhRBLS0tLakUFUHi4eHh+WsVQWlpaWknxRVBDw8PD/cgFkHx8PDwoH4WQR4eHh7y2xZBHh4eHo43F0Hx8PDwpI0XQQ==",
          "dtype": "f8"
         }
        },
        {
         "hovertemplate": "Estado: Ceará<br>Ano: %{x}<br>Razão: %{y:.2f}<extra></extra>",
         "mode": "lines+markers",
         "name": "Ceará",
         "type": "scatter",
         "x": {
          "bdata": "1wfYB9kH2gfbB9wH3QfeB98H4AfhB+IH4wfkBw==",
          "dtype": "i2"
         },
         "y": {
          "bdata": "09LS0lIg6UBLS0tLm8XpQGlpaWnZaupAeHh4eMgO60Di4eHhUa/rQJeWlpaWT+xA09LS0jLz7EDi4eHh4ZztQMTDw8NDT+5AeHh4eBgK70BaWlpaCsnvQLW0tLSUQ/BAHh4eHvag8EBLS0tLK/nwQA==",
          "dtype": "f8"
         }
        },
        {
         "hovertemplate": "Estado: Santa Catarina<br>Ano: %{x}<br>Razão: %{y:.2f}<extra></extra>",
         "mode": "lines+markers",
         "name": "Santa Catarina",
         "type": "scatter",
         "x": {
          "bdata": "1wfYB9kH2gfbB9wH3QfeB98H4AfhB+IH4wfkBw==",
          "dtype": "i2"
         },
         "y": {
          "bdata": "iIeHh5fX5kCIh4eHR3PnQDw8PDwsCehAxMPDwxOa6EB4eHh4mCbpQAAAAADwselALS0tLZ0+6kDT0tLSMtDqQEtLS0traetAaWlpaSkL7EDx8PDwULTsQDw8PDyMZO1APDw8PHwZ7kAeHh4evszuQA==",
          "dtype": "f8"
         }
        },
        {
         "hovertemplate": "Estado: Alagoas<br>Ano: %{x}<br>Razão: %{y:.2f}<extra></extra>",
         "mode": "lines+markers",
         "name": "Alagoas",
         "type": "scatter",
         "x": {
          "bdata": "1wfYB9kH2gfbB9wH3QfeB98H4AfhB+IH4wfkBw==",
          "dtype": "i2"
         },
         "y": {
          "bdata": "09LS0rKv0UDT0tLSUibSQLW0tLTUm9JAWlpaWvoO00BLS0tL637TQPHw8PAw7tNApqWlpUVf1ECXlpaWFtTUQB4eHh5eTdVAiIeHhwfL1UBpaWlpqUvWQAAAAACgy9ZAeHh4eFhI10CIh4eHB7zXQA==",
          "dtype": "f8"
         }
        },
        {
         "hovertemplate": "Estado: Paraíba<br>Ano: %{x}<br>Razão: %{y:.2f}<extra></extra>",
         "mode": "lines+markers",
         "name": "Paraíba",
         "type": "scatter",
         "x": {
          "bdata": "1wfYB9kH2gfbB9wH3QfeB98H4AfhB+IH4wfkBw==",
          "dtype": "i2"
         },
         "y": {
          "bdata": "AAAAAOAV10AeHh4efqDXQNPS0tISLNhAS0tLS2u52EA8PDw8vEfZQLW0tLT02NlA09LS0lJv2kAAAAAAgAzbQDw8PDx8sdtA8fDw8LBe3EB4eHh4+BDdQKalpaUlw91AeHh4eFhx3kCXlpaWdhTfQA==",
          "dtype": "f8"
         }
        },
        {
         "hovertemplate": "Estado: Maranhão<br>Ano: %{x}<br>Razão: %{y:.2f}<extra></extra>",
         "mode": "lines+markers",
         "name": "Maranhão",
         "type": "scatter",
         "x": {
          "bdata": "1wfYB9kH2gfbB9wH3QfeB98H4AfhB+IH4wfkBw==",
          "dtype": "i2"
         },
         "y": {
          "bdata": "LS0tLf2v4EAeHh4ezh7hQHh4eHh4jeFAPDw8PEz64UDx8PDwYGTiQA8PDw+Pz+JAl5aWluY/40BLS0tL27jjQHh4eHiIPORApqWlpUXL5ECIh4eHN2PlQKalpaVFAeZAeHh4eMij5kB4eHh4yEXnQA==",
          "dtype": "f8"
         }
        },
        {
         "hovertemplate": "Estado: Roraima<br>Ano: %{x}<br>Razão: %{y:.2f}<extra></extra>",
         "mode": "lines+markers",
         "name": "Roraima",
         "type": "scatter",
         "x": {
          "bdata": "1wfYB9kH2gfbB9wH3QfeB98H4AfhB+IH4wfkBw==",
          "dtype": "i2"
         },
         "y": {
          "bdata": "aWlpaWlwoUAPDw8PDzWiQDw8PDw8+aJAS0tLS0vDo0AAAAAAAJmkQPHw8PDweKVAWlpaWlplpkBLS0tLS2CnQC0tLS0tbKhA8fDw8PCIqUB4eHh4eMmqQEtLS0tLbKxA4uHh4eFjrkDT0tLSUgSwQA==",
          "dtype": "f8"
         }
        },
        {
         "hovertemplate": "Estado: Sergipe<br>Ano: %{x}<br>Razão: %{y:.2f}<extra></extra>",
         "mode": "lines+markers",
         "name": "Sergipe",
         "type": "scatter",
         "x": {
          "bdata": "1wfYB9kH2gfbB9wH3QfeB98H4AfhB+IH4wfkBw==",
          "dtype": "i2"
         },
         "y": {
          "bdata": "Hh4eHp4XyECIh4eHR+fIQMTDw8MDtslAHh4eHp6BykAPDw8Pj0jLQA8PDw/PDMxAaWlpaWnSzEDT0tLSUpzNQC0tLS1tbM5ADw8PDw9Dz0BaWlpa2g7QQB4eHh6ee9BALS0tLS3m0EC1tLS01ErRQA==",
          "dtype": "f8"
         }
        },
        {
         "hovertemplate": "Estado: Amazonas<br>Ano: %{x}<br>Razão: %{y:.2f}<extra></extra>",
         "mode": "lines+markers",
         "name": "Amazonas",
         "type": "scatter",
         "x": {
          "bdata": "1wfYB9kH2gfbB9wH3QfeB98H4AfhB+IH4wfkBw==",
          "dtype": "i2"
         },
         "y": {
          "bdata": "eHh4eHiB0EAtLS0tTS3RQIiHh4cH3dFAPDw8PHyQ0kAAAAAA4EbTQKalpaWFAdRA4uHh4WHC1ECIh4eHx4nVQDw8PDy8V9ZAS0tLS2ss10Dx8PDw0AfYQC0tLS3t6dhAxMPDw+PQ2UB4eHh4mKvaQA==",
          "dtype": "f8"
         }
        },
        {
         "hovertemplate": "Estado: Amapá<br>Ano: %{x}<br>Razão: %{y:.2f}<extra></extra>",
         "mode": "lines+markers",
         "name": "Amapá",
         "type": "scatter",
         "x": {
          "bdata": "1wfYB9kH2gfbB9wH3QfeB98H4AfhB+IH4wfkBw==",
          "dtype": "i2"
         },
         "y": {
          "bdata": "PDw8PDyCp0AeHh4eHsuoQGlpaWlpF6pALS0tLS1gq0C1tLS0tKOsQPHw8PDw6K1ADw8PDw8yr0Di4eHhYT+wQMTDw8ND5rBAxMPDw0ONsUDEw8PDQzSyQPHw8PDw17JAiIeHh4d5s0Di4eHhYRe0QA==",
          "dtype": "f8"
         }
        },
        {
         "hovertemplate": "Estado: Mato Grosso<br>Ano: %{x}<br>Razão: %{y:.2f}<extra></extra>",
         "mode": "lines+markers",
         "name": "Mato Grosso",
         "type": "scatter",
         "x": {
          "bdata": "1wfYB9kH2gfbB9wH3QfeB98H4AfhB+IH4wfkBw==",
          "dtype": "i2"
         },
         "y": {
          "bdata": "AAAAAAAAAAAAAAAAAAAAAAAAAAAAAAAAAAAAAAAAAAAAAAAAAAAAAAAAAAAAAAAAAAAAAAAAAAAAAAAAAAAAAAAAAAAAAAAAAAAAAAAAAAAAAAAAAAAAAAAAAAAAAAAAAAAAAAAAAAAAAAAAAAAAAA==",
          "dtype": "f8"
         }
        },
        {
         "hovertemplate": "Estado: Rondônia<br>Ano: %{x}<br>Razão: %{y:.2f}<extra></extra>",
         "mode": "lines+markers",
         "name": "Rondônia",
         "type": "scatter",
         "x": {
          "bdata": "1wfYB9kH2gfbB9wH3QfeB98H4AfhB+IH4wfkBw==",
          "dtype": "i2"
         },
         "y": {
          "bdata": "aWlpaSmIwkDEw8PDgzPDQPHw8PCw3MNAPDw8PDx/xECmpaWlJRvFQPHw8PAwtsVAPDw8PHxQxkDi4eHh4erGQEtLS0uLhcdAaWlpaekfyEDi4eHhYbjIQB4eHh7eSslAeHh4eHjYyUBLS0tLi17KQA==",
          "dtype": "f8"
         }
        },
        {
         "hovertemplate": "Estado: Paraná<br>Ano: %{x}<br>Razão: %{y:.2f}<extra></extra>",
         "mode": "lines+markers",
         "name": "Paraná",
         "type": "scatter",
         "x": {
          "bdata": "1wfYB9kH2gfbB9wH3QfeB98H4AfhB+IH4wfkBw==",
          "dtype": "i2"
         },
         "y": {
          "bdata": "09LS0irn8kCXlpaWzlnzQA8PDw8fxvNAeHh4eEgq9EB4eHh4WIb0QJeWlpZ23fRA4uHh4XEx9UDT0tLSKoX1QMTDw8Mr2vVAaWlpaXkx9kCIh4eH/4n2QC0tLS2l4fZAPDw8PCw290APDw8P/4L3QA==",
          "dtype": "f8"
         }
        },
        {
         "hovertemplate": "Estado: Goiás<br>Ano: %{x}<br>Razão: %{y:.2f}<extra></extra>",
         "mode": "lines+markers",
         "name": "Goiás",
         "type": "scatter",
         "x": {
          "bdata": "1wfYB9kH2gfbB9wH3QfeB98H4AfhB+IH4wfkBw==",
          "dtype": "i2"
         },
         "y": {
          "bdata": "AAAAAAAAAAAAAAAAAAAAAAAAAAAAAAAAAAAAAAAAAAAAAAAAAAAAAAAAAAAAAAAAAAAAAAAAAAAAAAAAAAAAAAAAAAAAAAAAAAAAAAAAAAAAAAAAAAAAAAAAAAAAAAAAAAAAAAAAAAAAAAAAAAAAAA==",
          "dtype": "f8"
         }
        }
       ],
       "layout": {
        "height": 600,
        "hovermode": "closest",
        "legend": {
         "title": {
          "text": "Estados"
         }
        },
        "template": {
         "data": {
          "bar": [
           {
            "error_x": {
             "color": "#2a3f5f"
            },
            "error_y": {
             "color": "#2a3f5f"
            },
            "marker": {
             "line": {
              "color": "white",
              "width": 0.5
             },
             "pattern": {
              "fillmode": "overlay",
              "size": 10,
              "solidity": 0.2
             }
            },
            "type": "bar"
           }
          ],
          "barpolar": [
           {
            "marker": {
             "line": {
              "color": "white",
              "width": 0.5
             },
             "pattern": {
              "fillmode": "overlay",
              "size": 10,
              "solidity": 0.2
             }
            },
            "type": "barpolar"
           }
          ],
          "carpet": [
           {
            "aaxis": {
             "endlinecolor": "#2a3f5f",
             "gridcolor": "#C8D4E3",
             "linecolor": "#C8D4E3",
             "minorgridcolor": "#C8D4E3",
             "startlinecolor": "#2a3f5f"
            },
            "baxis": {
             "endlinecolor": "#2a3f5f",
             "gridcolor": "#C8D4E3",
             "linecolor": "#C8D4E3",
             "minorgridcolor": "#C8D4E3",
             "startlinecolor": "#2a3f5f"
            },
            "type": "carpet"
           }
          ],
          "choropleth": [
           {
            "colorbar": {
             "outlinewidth": 0,
             "ticks": ""
            },
            "type": "choropleth"
           }
          ],
          "contour": [
           {
            "colorbar": {
             "outlinewidth": 0,
             "ticks": ""
            },
            "colorscale": [
             [
              0,
              "#0d0887"
             ],
             [
              0.1111111111111111,
              "#46039f"
             ],
             [
              0.2222222222222222,
              "#7201a8"
             ],
             [
              0.3333333333333333,
              "#9c179e"
             ],
             [
              0.4444444444444444,
              "#bd3786"
             ],
             [
              0.5555555555555556,
              "#d8576b"
             ],
             [
              0.6666666666666666,
              "#ed7953"
             ],
             [
              0.7777777777777778,
              "#fb9f3a"
             ],
             [
              0.8888888888888888,
              "#fdca26"
             ],
             [
              1,
              "#f0f921"
             ]
            ],
            "type": "contour"
           }
          ],
          "contourcarpet": [
           {
            "colorbar": {
             "outlinewidth": 0,
             "ticks": ""
            },
            "type": "contourcarpet"
           }
          ],
          "heatmap": [
           {
            "colorbar": {
             "outlinewidth": 0,
             "ticks": ""
            },
            "colorscale": [
             [
              0,
              "#0d0887"
             ],
             [
              0.1111111111111111,
              "#46039f"
             ],
             [
              0.2222222222222222,
              "#7201a8"
             ],
             [
              0.3333333333333333,
              "#9c179e"
             ],
             [
              0.4444444444444444,
              "#bd3786"
             ],
             [
              0.5555555555555556,
              "#d8576b"
             ],
             [
              0.6666666666666666,
              "#ed7953"
             ],
             [
              0.7777777777777778,
              "#fb9f3a"
             ],
             [
              0.8888888888888888,
              "#fdca26"
             ],
             [
              1,
              "#f0f921"
             ]
            ],
            "type": "heatmap"
           }
          ],
          "histogram": [
           {
            "marker": {
             "pattern": {
              "fillmode": "overlay",
              "size": 10,
              "solidity": 0.2
             }
            },
            "type": "histogram"
           }
          ],
          "histogram2d": [
           {
            "colorbar": {
             "outlinewidth": 0,
             "ticks": ""
            },
            "colorscale": [
             [
              0,
              "#0d0887"
             ],
             [
              0.1111111111111111,
              "#46039f"
             ],
             [
              0.2222222222222222,
              "#7201a8"
             ],
             [
              0.3333333333333333,
              "#9c179e"
             ],
             [
              0.4444444444444444,
              "#bd3786"
             ],
             [
              0.5555555555555556,
              "#d8576b"
             ],
             [
              0.6666666666666666,
              "#ed7953"
             ],
             [
              0.7777777777777778,
              "#fb9f3a"
             ],
             [
              0.8888888888888888,
              "#fdca26"
             ],
             [
              1,
              "#f0f921"
             ]
            ],
            "type": "histogram2d"
           }
          ],
          "histogram2dcontour": [
           {
            "colorbar": {
             "outlinewidth": 0,
             "ticks": ""
            },
            "colorscale": [
             [
              0,
              "#0d0887"
             ],
             [
              0.1111111111111111,
              "#46039f"
             ],
             [
              0.2222222222222222,
              "#7201a8"
             ],
             [
              0.3333333333333333,
              "#9c179e"
             ],
             [
              0.4444444444444444,
              "#bd3786"
             ],
             [
              0.5555555555555556,
              "#d8576b"
             ],
             [
              0.6666666666666666,
              "#ed7953"
             ],
             [
              0.7777777777777778,
              "#fb9f3a"
             ],
             [
              0.8888888888888888,
              "#fdca26"
             ],
             [
              1,
              "#f0f921"
             ]
            ],
            "type": "histogram2dcontour"
           }
          ],
          "mesh3d": [
           {
            "colorbar": {
             "outlinewidth": 0,
             "ticks": ""
            },
            "type": "mesh3d"
           }
          ],
          "parcoords": [
           {
            "line": {
             "colorbar": {
              "outlinewidth": 0,
              "ticks": ""
             }
            },
            "type": "parcoords"
           }
          ],
          "pie": [
           {
            "automargin": true,
            "type": "pie"
           }
          ],
          "scatter": [
           {
            "fillpattern": {
             "fillmode": "overlay",
             "size": 10,
             "solidity": 0.2
            },
            "type": "scatter"
           }
          ],
          "scatter3d": [
           {
            "line": {
             "colorbar": {
              "outlinewidth": 0,
              "ticks": ""
             }
            },
            "marker": {
             "colorbar": {
              "outlinewidth": 0,
              "ticks": ""
             }
            },
            "type": "scatter3d"
           }
          ],
          "scattercarpet": [
           {
            "marker": {
             "colorbar": {
              "outlinewidth": 0,
              "ticks": ""
             }
            },
            "type": "scattercarpet"
           }
          ],
          "scattergeo": [
           {
            "marker": {
             "colorbar": {
              "outlinewidth": 0,
              "ticks": ""
             }
            },
            "type": "scattergeo"
           }
          ],
          "scattergl": [
           {
            "marker": {
             "colorbar": {
              "outlinewidth": 0,
              "ticks": ""
             }
            },
            "type": "scattergl"
           }
          ],
          "scattermap": [
           {
            "marker": {
             "colorbar": {
              "outlinewidth": 0,
              "ticks": ""
             }
            },
            "type": "scattermap"
           }
          ],
          "scattermapbox": [
           {
            "marker": {
             "colorbar": {
              "outlinewidth": 0,
              "ticks": ""
             }
            },
            "type": "scattermapbox"
           }
          ],
          "scatterpolar": [
           {
            "marker": {
             "colorbar": {
              "outlinewidth": 0,
              "ticks": ""
             }
            },
            "type": "scatterpolar"
           }
          ],
          "scatterpolargl": [
           {
            "marker": {
             "colorbar": {
              "outlinewidth": 0,
              "ticks": ""
             }
            },
            "type": "scatterpolargl"
           }
          ],
          "scatterternary": [
           {
            "marker": {
             "colorbar": {
              "outlinewidth": 0,
              "ticks": ""
             }
            },
            "type": "scatterternary"
           }
          ],
          "surface": [
           {
            "colorbar": {
             "outlinewidth": 0,
             "ticks": ""
            },
            "colorscale": [
             [
              0,
              "#0d0887"
             ],
             [
              0.1111111111111111,
              "#46039f"
             ],
             [
              0.2222222222222222,
              "#7201a8"
             ],
             [
              0.3333333333333333,
              "#9c179e"
             ],
             [
              0.4444444444444444,
              "#bd3786"
             ],
             [
              0.5555555555555556,
              "#d8576b"
             ],
             [
              0.6666666666666666,
              "#ed7953"
             ],
             [
              0.7777777777777778,
              "#fb9f3a"
             ],
             [
              0.8888888888888888,
              "#fdca26"
             ],
             [
              1,
              "#f0f921"
             ]
            ],
            "type": "surface"
           }
          ],
          "table": [
           {
            "cells": {
             "fill": {
              "color": "#EBF0F8"
             },
             "line": {
              "color": "white"
             }
            },
            "header": {
             "fill": {
              "color": "#C8D4E3"
             },
             "line": {
              "color": "white"
             }
            },
            "type": "table"
           }
          ]
         },
         "layout": {
          "annotationdefaults": {
           "arrowcolor": "#2a3f5f",
           "arrowhead": 0,
           "arrowwidth": 1
          },
          "autotypenumbers": "strict",
          "coloraxis": {
           "colorbar": {
            "outlinewidth": 0,
            "ticks": ""
           }
          },
          "colorscale": {
           "diverging": [
            [
             0,
             "#8e0152"
            ],
            [
             0.1,
             "#c51b7d"
            ],
            [
             0.2,
             "#de77ae"
            ],
            [
             0.3,
             "#f1b6da"
            ],
            [
             0.4,
             "#fde0ef"
            ],
            [
             0.5,
             "#f7f7f7"
            ],
            [
             0.6,
             "#e6f5d0"
            ],
            [
             0.7,
             "#b8e186"
            ],
            [
             0.8,
             "#7fbc41"
            ],
            [
             0.9,
             "#4d9221"
            ],
            [
             1,
             "#276419"
            ]
           ],
           "sequential": [
            [
             0,
             "#0d0887"
            ],
            [
             0.1111111111111111,
             "#46039f"
            ],
            [
             0.2222222222222222,
             "#7201a8"
            ],
            [
             0.3333333333333333,
             "#9c179e"
            ],
            [
             0.4444444444444444,
             "#bd3786"
            ],
            [
             0.5555555555555556,
             "#d8576b"
            ],
            [
             0.6666666666666666,
             "#ed7953"
            ],
            [
             0.7777777777777778,
             "#fb9f3a"
            ],
            [
             0.8888888888888888,
             "#fdca26"
            ],
            [
             1,
             "#f0f921"
            ]
           ],
           "sequentialminus": [
            [
             0,
             "#0d0887"
            ],
            [
             0.1111111111111111,
             "#46039f"
            ],
            [
             0.2222222222222222,
             "#7201a8"
            ],
            [
             0.3333333333333333,
             "#9c179e"
            ],
            [
             0.4444444444444444,
             "#bd3786"
            ],
            [
             0.5555555555555556,
             "#d8576b"
            ],
            [
             0.6666666666666666,
             "#ed7953"
            ],
            [
             0.7777777777777778,
             "#fb9f3a"
            ],
            [
             0.8888888888888888,
             "#fdca26"
            ],
            [
             1,
             "#f0f921"
            ]
           ]
          },
          "colorway": [
           "#636efa",
           "#EF553B",
           "#00cc96",
           "#ab63fa",
           "#FFA15A",
           "#19d3f3",
           "#FF6692",
           "#B6E880",
           "#FF97FF",
           "#FECB52"
          ],
          "font": {
           "color": "#2a3f5f"
          },
          "geo": {
           "bgcolor": "white",
           "lakecolor": "white",
           "landcolor": "white",
           "showlakes": true,
           "showland": true,
           "subunitcolor": "#C8D4E3"
          },
          "hoverlabel": {
           "align": "left"
          },
          "hovermode": "closest",
          "mapbox": {
           "style": "light"
          },
          "paper_bgcolor": "white",
          "plot_bgcolor": "white",
          "polar": {
           "angularaxis": {
            "gridcolor": "#EBF0F8",
            "linecolor": "#EBF0F8",
            "ticks": ""
           },
           "bgcolor": "white",
           "radialaxis": {
            "gridcolor": "#EBF0F8",
            "linecolor": "#EBF0F8",
            "ticks": ""
           }
          },
          "scene": {
           "xaxis": {
            "backgroundcolor": "white",
            "gridcolor": "#DFE8F3",
            "gridwidth": 2,
            "linecolor": "#EBF0F8",
            "showbackground": true,
            "ticks": "",
            "zerolinecolor": "#EBF0F8"
           },
           "yaxis": {
            "backgroundcolor": "white",
            "gridcolor": "#DFE8F3",
            "gridwidth": 2,
            "linecolor": "#EBF0F8",
            "showbackground": true,
            "ticks": "",
            "zerolinecolor": "#EBF0F8"
           },
           "zaxis": {
            "backgroundcolor": "white",
            "gridcolor": "#DFE8F3",
            "gridwidth": 2,
            "linecolor": "#EBF0F8",
            "showbackground": true,
            "ticks": "",
            "zerolinecolor": "#EBF0F8"
           }
          },
          "shapedefaults": {
           "line": {
            "color": "#2a3f5f"
           }
          },
          "ternary": {
           "aaxis": {
            "gridcolor": "#DFE8F3",
            "linecolor": "#A2B1C6",
            "ticks": ""
           },
           "baxis": {
            "gridcolor": "#DFE8F3",
            "linecolor": "#A2B1C6",
            "ticks": ""
           },
           "bgcolor": "white",
           "caxis": {
            "gridcolor": "#DFE8F3",
            "linecolor": "#A2B1C6",
            "ticks": ""
           }
          },
          "title": {
           "x": 0.05
          },
          "xaxis": {
           "automargin": true,
           "gridcolor": "#EBF0F8",
           "linecolor": "#EBF0F8",
           "ticks": "",
           "title": {
            "standoff": 15
           },
           "zerolinecolor": "#EBF0F8",
           "zerolinewidth": 2
          },
          "yaxis": {
           "automargin": true,
           "gridcolor": "#EBF0F8",
           "linecolor": "#EBF0F8",
           "ticks": "",
           "title": {
            "standoff": 15
           },
           "zerolinecolor": "#EBF0F8",
           "zerolinewidth": 2
          }
         }
        },
        "title": {
         "text": "Evolução Temporal da Razão População (38-58 anos) / Empresas por Estado (2007-2020)"
        },
        "xaxis": {
         "title": {
          "text": "Ano"
         }
        },
        "yaxis": {
         "title": {
          "text": "Razão População/Empresas"
         }
        }
       }
      }
     },
     "metadata": {},
     "output_type": "display_data"
    }
   ],
   "source": [
    "fig = go.Figure()\n",
    "\n",
    "# Adicionando as linhas para cada estado\n",
    "for estado in razao_populacao_empresa_corrigida.columns:\n",
    "    fig.add_trace(\n",
    "        go.Scatter(\n",
    "            x=razao_populacao_empresa_corrigida.index,\n",
    "            y=razao_populacao_empresa_corrigida[estado],\n",
    "            mode=\"lines+markers\",\n",
    "            name=estado,\n",
    "            hovertemplate=\"Estado: \"\n",
    "            + estado\n",
    "            + \"<br>Ano: %{x}<br>Razão: %{y:.2f}<extra></extra>\",\n",
    "        )\n",
    "    )\n",
    "\n",
    "# Configurando o layout\n",
    "fig.update_layout(\n",
    "    title=\"Evolução Temporal da Razão População (38-58 anos) / Empresas por Estado (2007-2020)\",\n",
    "    xaxis_title=\"Ano\",\n",
    "    yaxis_title=\"Razão População/Empresas\",\n",
    "    legend_title=\"Estados\",\n",
    "    hovermode=\"closest\",\n",
    "    template=\"plotly_white\",\n",
    "    height=600,\n",
    ")\n",
    "\n",
    "fig.show()"
   ]
  },
  {
   "cell_type": "code",
   "execution_count": null,
   "metadata": {},
   "outputs": [
    {
     "data": {
      "application/vnd.plotly.v1+json": {
       "config": {
        "plotlyServerURL": "https://plot.ly"
       },
       "data": [
        {
         "hovertemplate": "Estado: Acre<br>Ano: %{x}<br>Razão: %{y:.2f}<extra></extra>",
         "mode": "lines+markers",
         "name": "Acre",
         "type": "scatter",
         "x": {
          "bdata": "1wfYB9kH2gfbB9wH3QfeB98H4AfhB+IH4wfkBw==",
          "dtype": "i2"
         },
         "y": {
          "bdata": "PDw8PDxUq0BpaWlpaYCsQMTDw8PDsq1AxMPDw8PmrkB4eHh4+A2wQGlpaWnpqrBAHh4eHp5LsUDEw8PDQ/GxQOLh4eFhm7JAHh4eHp5Ks0APDw8Pj/yzQGlpaWnpq7RADw8PDw9YtUCXlpaWFgC2QA==",
          "dtype": "f8"
         }
        },
        {
         "hovertemplate": "Estado: Bahia<br>Ano: %{x}<br>Razão: %{y:.2f}<extra></extra>",
         "mode": "lines+markers",
         "name": "Bahia",
         "type": "scatter",
         "x": {
          "bdata": "1wfYB9kH2gfbB9wH3QfeB98H4AfhB+IH4wfkBw==",
          "dtype": "i2"
         },
         "y": {
          "bdata": "Dw8PD/dX9UAtLS0tFd31QJeWlpa2Y/ZAiIeHhy/r9kA8PDw8BHL3QB4eHh6W+vdAAAAAAFCH+EDEw8PDAxv5QAAAAABYt/lAiIeHh9dc+kAPDw8Pdwn7QC0tLS1tuftAWlpaWgJp/EDEw8PD8xD9QA==",
          "dtype": "f8"
         }
        },
        {
         "hovertemplate": "Estado: São Paulo<br>Ano: %{x}<br>Razão: %{y:.2f}<extra></extra>",
         "mode": "lines+markers",
         "name": "São Paulo",
         "type": "scatter",
         "x": {
          "bdata": "1wfYB9kH2gfbB9wH3QfeB98H4AfhB+IH4wfkBw==",
          "dtype": "i2"
         },
         "y": {
          "bdata": "Hh4eHnbcEkHi4eHhi0UTQXh4eHicqhNBl5aWlsIKFEFpaWlp22UUQTw8PDwAvhRBLS0tLakUFUHi4eHh+WsVQWlpaWknxRVBDw8PD/cgFkHx8PDwoH4WQR4eHh7y2xZBHh4eHo43F0Hx8PDwpI0XQQ==",
          "dtype": "f8"
         }
        },
        {
         "hovertemplate": "Estado: Amazonas<br>Ano: %{x}<br>Razão: %{y:.2f}<extra></extra>",
         "mode": "lines+markers",
         "name": "Amazonas",
         "type": "scatter",
         "x": {
          "bdata": "1wfYB9kH2gfbB9wH3QfeB98H4AfhB+IH4wfkBw==",
          "dtype": "i2"
         },
         "y": {
          "bdata": "eHh4eHiB0EAtLS0tTS3RQIiHh4cH3dFAPDw8PHyQ0kAAAAAA4EbTQKalpaWFAdRA4uHh4WHC1ECIh4eHx4nVQDw8PDy8V9ZAS0tLS2ss10Dx8PDw0AfYQC0tLS3t6dhAxMPDw+PQ2UB4eHh4mKvaQA==",
          "dtype": "f8"
         }
        },
        {
         "hovertemplate": "Estado: Rio de Janeiro<br>Ano: %{x}<br>Razão: %{y:.2f}<extra></extra>",
         "mode": "lines+markers",
         "name": "Rio de Janeiro",
         "type": "scatter",
         "x": {
          "bdata": "1wfYB9kH2gfbB9wH3QfeB98H4AfhB+IH4wfkBw==",
          "dtype": "i2"
         },
         "y": {
          "bdata": "iIeHh8f+/kA8PDw8VHP/QHh4eHjQ3/9AaWlpaTUiAEGXlpaWllAAQdPS0tK2fABBiIeHh8+nAEGIh4eHB9MAQVpaWlrG/gBBpqWlpaErAUFaWlpaJlkBQbW0tLTAhQFBiIeHhyuwAUG1tLS0BNQBQQ==",
          "dtype": "f8"
         }
        }
       ],
       "layout": {
        "height": 600,
        "hovermode": "closest",
        "legend": {
         "title": {
          "text": "Estados"
         }
        },
        "template": {
         "data": {
          "bar": [
           {
            "error_x": {
             "color": "#2a3f5f"
            },
            "error_y": {
             "color": "#2a3f5f"
            },
            "marker": {
             "line": {
              "color": "white",
              "width": 0.5
             },
             "pattern": {
              "fillmode": "overlay",
              "size": 10,
              "solidity": 0.2
             }
            },
            "type": "bar"
           }
          ],
          "barpolar": [
           {
            "marker": {
             "line": {
              "color": "white",
              "width": 0.5
             },
             "pattern": {
              "fillmode": "overlay",
              "size": 10,
              "solidity": 0.2
             }
            },
            "type": "barpolar"
           }
          ],
          "carpet": [
           {
            "aaxis": {
             "endlinecolor": "#2a3f5f",
             "gridcolor": "#C8D4E3",
             "linecolor": "#C8D4E3",
             "minorgridcolor": "#C8D4E3",
             "startlinecolor": "#2a3f5f"
            },
            "baxis": {
             "endlinecolor": "#2a3f5f",
             "gridcolor": "#C8D4E3",
             "linecolor": "#C8D4E3",
             "minorgridcolor": "#C8D4E3",
             "startlinecolor": "#2a3f5f"
            },
            "type": "carpet"
           }
          ],
          "choropleth": [
           {
            "colorbar": {
             "outlinewidth": 0,
             "ticks": ""
            },
            "type": "choropleth"
           }
          ],
          "contour": [
           {
            "colorbar": {
             "outlinewidth": 0,
             "ticks": ""
            },
            "colorscale": [
             [
              0,
              "#0d0887"
             ],
             [
              0.1111111111111111,
              "#46039f"
             ],
             [
              0.2222222222222222,
              "#7201a8"
             ],
             [
              0.3333333333333333,
              "#9c179e"
             ],
             [
              0.4444444444444444,
              "#bd3786"
             ],
             [
              0.5555555555555556,
              "#d8576b"
             ],
             [
              0.6666666666666666,
              "#ed7953"
             ],
             [
              0.7777777777777778,
              "#fb9f3a"
             ],
             [
              0.8888888888888888,
              "#fdca26"
             ],
             [
              1,
              "#f0f921"
             ]
            ],
            "type": "contour"
           }
          ],
          "contourcarpet": [
           {
            "colorbar": {
             "outlinewidth": 0,
             "ticks": ""
            },
            "type": "contourcarpet"
           }
          ],
          "heatmap": [
           {
            "colorbar": {
             "outlinewidth": 0,
             "ticks": ""
            },
            "colorscale": [
             [
              0,
              "#0d0887"
             ],
             [
              0.1111111111111111,
              "#46039f"
             ],
             [
              0.2222222222222222,
              "#7201a8"
             ],
             [
              0.3333333333333333,
              "#9c179e"
             ],
             [
              0.4444444444444444,
              "#bd3786"
             ],
             [
              0.5555555555555556,
              "#d8576b"
             ],
             [
              0.6666666666666666,
              "#ed7953"
             ],
             [
              0.7777777777777778,
              "#fb9f3a"
             ],
             [
              0.8888888888888888,
              "#fdca26"
             ],
             [
              1,
              "#f0f921"
             ]
            ],
            "type": "heatmap"
           }
          ],
          "histogram": [
           {
            "marker": {
             "pattern": {
              "fillmode": "overlay",
              "size": 10,
              "solidity": 0.2
             }
            },
            "type": "histogram"
           }
          ],
          "histogram2d": [
           {
            "colorbar": {
             "outlinewidth": 0,
             "ticks": ""
            },
            "colorscale": [
             [
              0,
              "#0d0887"
             ],
             [
              0.1111111111111111,
              "#46039f"
             ],
             [
              0.2222222222222222,
              "#7201a8"
             ],
             [
              0.3333333333333333,
              "#9c179e"
             ],
             [
              0.4444444444444444,
              "#bd3786"
             ],
             [
              0.5555555555555556,
              "#d8576b"
             ],
             [
              0.6666666666666666,
              "#ed7953"
             ],
             [
              0.7777777777777778,
              "#fb9f3a"
             ],
             [
              0.8888888888888888,
              "#fdca26"
             ],
             [
              1,
              "#f0f921"
             ]
            ],
            "type": "histogram2d"
           }
          ],
          "histogram2dcontour": [
           {
            "colorbar": {
             "outlinewidth": 0,
             "ticks": ""
            },
            "colorscale": [
             [
              0,
              "#0d0887"
             ],
             [
              0.1111111111111111,
              "#46039f"
             ],
             [
              0.2222222222222222,
              "#7201a8"
             ],
             [
              0.3333333333333333,
              "#9c179e"
             ],
             [
              0.4444444444444444,
              "#bd3786"
             ],
             [
              0.5555555555555556,
              "#d8576b"
             ],
             [
              0.6666666666666666,
              "#ed7953"
             ],
             [
              0.7777777777777778,
              "#fb9f3a"
             ],
             [
              0.8888888888888888,
              "#fdca26"
             ],
             [
              1,
              "#f0f921"
             ]
            ],
            "type": "histogram2dcontour"
           }
          ],
          "mesh3d": [
           {
            "colorbar": {
             "outlinewidth": 0,
             "ticks": ""
            },
            "type": "mesh3d"
           }
          ],
          "parcoords": [
           {
            "line": {
             "colorbar": {
              "outlinewidth": 0,
              "ticks": ""
             }
            },
            "type": "parcoords"
           }
          ],
          "pie": [
           {
            "automargin": true,
            "type": "pie"
           }
          ],
          "scatter": [
           {
            "fillpattern": {
             "fillmode": "overlay",
             "size": 10,
             "solidity": 0.2
            },
            "type": "scatter"
           }
          ],
          "scatter3d": [
           {
            "line": {
             "colorbar": {
              "outlinewidth": 0,
              "ticks": ""
             }
            },
            "marker": {
             "colorbar": {
              "outlinewidth": 0,
              "ticks": ""
             }
            },
            "type": "scatter3d"
           }
          ],
          "scattercarpet": [
           {
            "marker": {
             "colorbar": {
              "outlinewidth": 0,
              "ticks": ""
             }
            },
            "type": "scattercarpet"
           }
          ],
          "scattergeo": [
           {
            "marker": {
             "colorbar": {
              "outlinewidth": 0,
              "ticks": ""
             }
            },
            "type": "scattergeo"
           }
          ],
          "scattergl": [
           {
            "marker": {
             "colorbar": {
              "outlinewidth": 0,
              "ticks": ""
             }
            },
            "type": "scattergl"
           }
          ],
          "scattermap": [
           {
            "marker": {
             "colorbar": {
              "outlinewidth": 0,
              "ticks": ""
             }
            },
            "type": "scattermap"
           }
          ],
          "scattermapbox": [
           {
            "marker": {
             "colorbar": {
              "outlinewidth": 0,
              "ticks": ""
             }
            },
            "type": "scattermapbox"
           }
          ],
          "scatterpolar": [
           {
            "marker": {
             "colorbar": {
              "outlinewidth": 0,
              "ticks": ""
             }
            },
            "type": "scatterpolar"
           }
          ],
          "scatterpolargl": [
           {
            "marker": {
             "colorbar": {
              "outlinewidth": 0,
              "ticks": ""
             }
            },
            "type": "scatterpolargl"
           }
          ],
          "scatterternary": [
           {
            "marker": {
             "colorbar": {
              "outlinewidth": 0,
              "ticks": ""
             }
            },
            "type": "scatterternary"
           }
          ],
          "surface": [
           {
            "colorbar": {
             "outlinewidth": 0,
             "ticks": ""
            },
            "colorscale": [
             [
              0,
              "#0d0887"
             ],
             [
              0.1111111111111111,
              "#46039f"
             ],
             [
              0.2222222222222222,
              "#7201a8"
             ],
             [
              0.3333333333333333,
              "#9c179e"
             ],
             [
              0.4444444444444444,
              "#bd3786"
             ],
             [
              0.5555555555555556,
              "#d8576b"
             ],
             [
              0.6666666666666666,
              "#ed7953"
             ],
             [
              0.7777777777777778,
              "#fb9f3a"
             ],
             [
              0.8888888888888888,
              "#fdca26"
             ],
             [
              1,
              "#f0f921"
             ]
            ],
            "type": "surface"
           }
          ],
          "table": [
           {
            "cells": {
             "fill": {
              "color": "#EBF0F8"
             },
             "line": {
              "color": "white"
             }
            },
            "header": {
             "fill": {
              "color": "#C8D4E3"
             },
             "line": {
              "color": "white"
             }
            },
            "type": "table"
           }
          ]
         },
         "layout": {
          "annotationdefaults": {
           "arrowcolor": "#2a3f5f",
           "arrowhead": 0,
           "arrowwidth": 1
          },
          "autotypenumbers": "strict",
          "coloraxis": {
           "colorbar": {
            "outlinewidth": 0,
            "ticks": ""
           }
          },
          "colorscale": {
           "diverging": [
            [
             0,
             "#8e0152"
            ],
            [
             0.1,
             "#c51b7d"
            ],
            [
             0.2,
             "#de77ae"
            ],
            [
             0.3,
             "#f1b6da"
            ],
            [
             0.4,
             "#fde0ef"
            ],
            [
             0.5,
             "#f7f7f7"
            ],
            [
             0.6,
             "#e6f5d0"
            ],
            [
             0.7,
             "#b8e186"
            ],
            [
             0.8,
             "#7fbc41"
            ],
            [
             0.9,
             "#4d9221"
            ],
            [
             1,
             "#276419"
            ]
           ],
           "sequential": [
            [
             0,
             "#0d0887"
            ],
            [
             0.1111111111111111,
             "#46039f"
            ],
            [
             0.2222222222222222,
             "#7201a8"
            ],
            [
             0.3333333333333333,
             "#9c179e"
            ],
            [
             0.4444444444444444,
             "#bd3786"
            ],
            [
             0.5555555555555556,
             "#d8576b"
            ],
            [
             0.6666666666666666,
             "#ed7953"
            ],
            [
             0.7777777777777778,
             "#fb9f3a"
            ],
            [
             0.8888888888888888,
             "#fdca26"
            ],
            [
             1,
             "#f0f921"
            ]
           ],
           "sequentialminus": [
            [
             0,
             "#0d0887"
            ],
            [
             0.1111111111111111,
             "#46039f"
            ],
            [
             0.2222222222222222,
             "#7201a8"
            ],
            [
             0.3333333333333333,
             "#9c179e"
            ],
            [
             0.4444444444444444,
             "#bd3786"
            ],
            [
             0.5555555555555556,
             "#d8576b"
            ],
            [
             0.6666666666666666,
             "#ed7953"
            ],
            [
             0.7777777777777778,
             "#fb9f3a"
            ],
            [
             0.8888888888888888,
             "#fdca26"
            ],
            [
             1,
             "#f0f921"
            ]
           ]
          },
          "colorway": [
           "#636efa",
           "#EF553B",
           "#00cc96",
           "#ab63fa",
           "#FFA15A",
           "#19d3f3",
           "#FF6692",
           "#B6E880",
           "#FF97FF",
           "#FECB52"
          ],
          "font": {
           "color": "#2a3f5f"
          },
          "geo": {
           "bgcolor": "white",
           "lakecolor": "white",
           "landcolor": "white",
           "showlakes": true,
           "showland": true,
           "subunitcolor": "#C8D4E3"
          },
          "hoverlabel": {
           "align": "left"
          },
          "hovermode": "closest",
          "mapbox": {
           "style": "light"
          },
          "paper_bgcolor": "white",
          "plot_bgcolor": "white",
          "polar": {
           "angularaxis": {
            "gridcolor": "#EBF0F8",
            "linecolor": "#EBF0F8",
            "ticks": ""
           },
           "bgcolor": "white",
           "radialaxis": {
            "gridcolor": "#EBF0F8",
            "linecolor": "#EBF0F8",
            "ticks": ""
           }
          },
          "scene": {
           "xaxis": {
            "backgroundcolor": "white",
            "gridcolor": "#DFE8F3",
            "gridwidth": 2,
            "linecolor": "#EBF0F8",
            "showbackground": true,
            "ticks": "",
            "zerolinecolor": "#EBF0F8"
           },
           "yaxis": {
            "backgroundcolor": "white",
            "gridcolor": "#DFE8F3",
            "gridwidth": 2,
            "linecolor": "#EBF0F8",
            "showbackground": true,
            "ticks": "",
            "zerolinecolor": "#EBF0F8"
           },
           "zaxis": {
            "backgroundcolor": "white",
            "gridcolor": "#DFE8F3",
            "gridwidth": 2,
            "linecolor": "#EBF0F8",
            "showbackground": true,
            "ticks": "",
            "zerolinecolor": "#EBF0F8"
           }
          },
          "shapedefaults": {
           "line": {
            "color": "#2a3f5f"
           }
          },
          "ternary": {
           "aaxis": {
            "gridcolor": "#DFE8F3",
            "linecolor": "#A2B1C6",
            "ticks": ""
           },
           "baxis": {
            "gridcolor": "#DFE8F3",
            "linecolor": "#A2B1C6",
            "ticks": ""
           },
           "bgcolor": "white",
           "caxis": {
            "gridcolor": "#DFE8F3",
            "linecolor": "#A2B1C6",
            "ticks": ""
           }
          },
          "title": {
           "x": 0.05
          },
          "xaxis": {
           "automargin": true,
           "gridcolor": "#EBF0F8",
           "linecolor": "#EBF0F8",
           "ticks": "",
           "title": {
            "standoff": 15
           },
           "zerolinecolor": "#EBF0F8",
           "zerolinewidth": 2
          },
          "yaxis": {
           "automargin": true,
           "gridcolor": "#EBF0F8",
           "linecolor": "#EBF0F8",
           "ticks": "",
           "title": {
            "standoff": 15
           },
           "zerolinecolor": "#EBF0F8",
           "zerolinewidth": 2
          }
         }
        },
        "title": {
         "text": "Evolução Temporal da Razão População (38-58 anos) / Empresas por Estado (2007-2020)"
        },
        "xaxis": {
         "title": {
          "text": "Ano"
         }
        },
        "yaxis": {
         "title": {
          "text": "Razão População/Empresas"
         }
        }
       }
      }
     },
     "metadata": {},
     "output_type": "display_data"
    }
   ],
   "source": [
    "fig = go.Figure()\n",
    "\n",
    "# Adicionando as linhas para os estados de exemplo\n",
    "estados_exemplo = [\"Acre\", \"Bahia\", \"São Paulo\", \"Amazonas\", \"Rio de Janeiro\"]\n",
    "\n",
    "for estado in estados_exemplo:\n",
    "    fig.add_trace(\n",
    "        go.Scatter(\n",
    "            x=razao_populacao_empresa_corrigida.index,\n",
    "            y=razao_populacao_empresa_corrigida[estado],\n",
    "            mode=\"lines+markers\",\n",
    "            name=estado,\n",
    "            hovertemplate=\"Estado: \"\n",
    "            + estado\n",
    "            + \"<br>Ano: %{x}<br>Razão: %{y:.2f}<extra></extra>\",\n",
    "        )\n",
    "    )\n",
    "\n",
    "# Configurando o layout\n",
    "fig.update_layout(\n",
    "    title=\"Evolução Temporal da Razão População (38-58 anos) / Empresas por Estado (2007-2020)\",\n",
    "    xaxis_title=\"Ano\",\n",
    "    yaxis_title=\"Razão População/Empresas\",\n",
    "    legend_title=\"Estados\",\n",
    "    hovermode=\"closest\",\n",
    "    template=\"plotly_white\",\n",
    "    height=600,\n",
    ")\n",
    "\n",
    "fig.show()"
   ]
  },
  {
   "cell_type": "markdown",
   "metadata": {},
   "source": [
    "Observações:\n",
    "* O líder absoluto na evolução temporal é São Paulo \n",
    "* Bahia e Rio de Janeiro têm uma razão mais alta se comparado a Acre e Amazonas, sugerindo um mercado mais saturado.\n",
    "* Acre e Amazonas mostram razões menores, o que pode indicar maior potencial de crescimento futuro."
   ]
  },
  {
   "cell_type": "markdown",
   "metadata": {},
   "source": [
    "# Previsão dos anos 2021 e 2022"
   ]
  },
  {
   "cell_type": "code",
   "execution_count": null,
   "metadata": {},
   "outputs": [
    {
     "data": {
      "text/html": [
       "<div>\n",
       "<style scoped>\n",
       "    .dataframe tbody tr th:only-of-type {\n",
       "        vertical-align: middle;\n",
       "    }\n",
       "\n",
       "    .dataframe tbody tr th {\n",
       "        vertical-align: top;\n",
       "    }\n",
       "\n",
       "    .dataframe thead th {\n",
       "        text-align: right;\n",
       "    }\n",
       "</style>\n",
       "<table border=\"1\" class=\"dataframe\">\n",
       "  <thead>\n",
       "    <tr style=\"text-align: right;\">\n",
       "      <th>LOCAL</th>\n",
       "      <th>Rio de Janeiro</th>\n",
       "      <th>Espírito Santo</th>\n",
       "      <th>Piauí</th>\n",
       "      <th>Mato Grosso do Sul</th>\n",
       "      <th>Pernambuco</th>\n",
       "      <th>Tocantins</th>\n",
       "      <th>Bahia</th>\n",
       "      <th>Pará</th>\n",
       "      <th>Distrito Federal</th>\n",
       "      <th>Rio Grande do Sul</th>\n",
       "      <th>...</th>\n",
       "      <th>Paraíba</th>\n",
       "      <th>Maranhão</th>\n",
       "      <th>Roraima</th>\n",
       "      <th>Sergipe</th>\n",
       "      <th>Amazonas</th>\n",
       "      <th>Amapá</th>\n",
       "      <th>Mato Grosso</th>\n",
       "      <th>Rondônia</th>\n",
       "      <th>Paraná</th>\n",
       "      <th>Goiás</th>\n",
       "    </tr>\n",
       "  </thead>\n",
       "  <tbody>\n",
       "    <tr>\n",
       "      <th>2021</th>\n",
       "      <td>147886.272140</td>\n",
       "      <td>33592.904331</td>\n",
       "      <td>25803.746606</td>\n",
       "      <td>22354.672592</td>\n",
       "      <td>75671.417582</td>\n",
       "      <td>11723.610537</td>\n",
       "      <td>120571.903361</td>\n",
       "      <td>60307.153523</td>\n",
       "      <td>0.0</td>\n",
       "      <td>93861.134131</td>\n",
       "      <td>...</td>\n",
       "      <td>32294.67033</td>\n",
       "      <td>48016.428571</td>\n",
       "      <td>4054.529412</td>\n",
       "      <td>18093.007757</td>\n",
       "      <td>27854.828378</td>\n",
       "      <td>5314.021332</td>\n",
       "      <td>0.0</td>\n",
       "      <td>13874.115708</td>\n",
       "      <td>98036.253070</td>\n",
       "      <td>0.0</td>\n",
       "    </tr>\n",
       "    <tr>\n",
       "      <th>2022</th>\n",
       "      <td>149337.985456</td>\n",
       "      <td>34171.017065</td>\n",
       "      <td>26298.214221</td>\n",
       "      <td>22765.563672</td>\n",
       "      <td>77112.472980</td>\n",
       "      <td>12008.461409</td>\n",
       "      <td>122999.103361</td>\n",
       "      <td>61837.208727</td>\n",
       "      <td>0.0</td>\n",
       "      <td>94322.811118</td>\n",
       "      <td>...</td>\n",
       "      <td>32927.54150</td>\n",
       "      <td>49038.267227</td>\n",
       "      <td>4193.071429</td>\n",
       "      <td>18505.540724</td>\n",
       "      <td>28656.377763</td>\n",
       "      <td>5478.692243</td>\n",
       "      <td>0.0</td>\n",
       "      <td>14183.044861</td>\n",
       "      <td>99463.980931</td>\n",
       "      <td>0.0</td>\n",
       "    </tr>\n",
       "  </tbody>\n",
       "</table>\n",
       "<p>2 rows × 28 columns</p>\n",
       "</div>"
      ],
      "text/plain": [
       "LOCAL  Rio de Janeiro  Espírito Santo         Piauí  Mato Grosso do Sul  \\\n",
       "2021    147886.272140    33592.904331  25803.746606        22354.672592   \n",
       "2022    149337.985456    34171.017065  26298.214221        22765.563672   \n",
       "\n",
       "LOCAL    Pernambuco     Tocantins          Bahia          Pará  \\\n",
       "2021   75671.417582  11723.610537  120571.903361  60307.153523   \n",
       "2022   77112.472980  12008.461409  122999.103361  61837.208727   \n",
       "\n",
       "LOCAL  Distrito Federal  Rio Grande do Sul  ...      Paraíba      Maranhão  \\\n",
       "2021                0.0       93861.134131  ...  32294.67033  48016.428571   \n",
       "2022                0.0       94322.811118  ...  32927.54150  49038.267227   \n",
       "\n",
       "LOCAL      Roraima       Sergipe      Amazonas        Amapá  Mato Grosso  \\\n",
       "2021   4054.529412  18093.007757  27854.828378  5314.021332          0.0   \n",
       "2022   4193.071429  18505.540724  28656.377763  5478.692243          0.0   \n",
       "\n",
       "LOCAL      Rondônia        Paraná  Goiás  \n",
       "2021   13874.115708  98036.253070    0.0  \n",
       "2022   14183.044861  99463.980931    0.0  \n",
       "\n",
       "[2 rows x 28 columns]"
      ]
     },
     "execution_count": 66,
     "metadata": {},
     "output_type": "execute_result"
    }
   ],
   "source": [
    "# Preparando o dataframe para armazenar as previsões\n",
    "previsao_2021_2022 = pd.DataFrame(\n",
    "    index=[2021, 2022], columns=razao_populacao_empresa_corrigida.columns\n",
    ")\n",
    "\n",
    "# Realizando a previsão para cada estado usando regressão linear\n",
    "for estado in razao_populacao_empresa_corrigida.columns:\n",
    "    # Preparando os dados de treino (anos como X e razão como y)\n",
    "    X = np.array(razao_populacao_empresa_corrigida.index).reshape(-1, 1)\n",
    "    y = razao_populacao_empresa_corrigida[estado].values\n",
    "\n",
    "    # Criando e ajustando o modelo de regressão linear\n",
    "    modelo = LinearRegression()\n",
    "    modelo.fit(X, y)\n",
    "\n",
    "    # Prevendo para 2021 e 2022\n",
    "    previsao = modelo.predict(np.array([2021, 2022]).reshape(-1, 1))\n",
    "    previsao_2021_2022[estado] = previsao\n",
    "\n",
    "\n",
    "previsao_2021_2022"
   ]
  },
  {
   "cell_type": "code",
   "execution_count": 72,
   "metadata": {},
   "outputs": [
    {
     "data": {
      "application/vnd.plotly.v1+json": {
       "config": {
        "plotlyServerURL": "https://plot.ly"
       },
       "data": [
        {
         "hovertemplate": "Estado: Rio de Janeiro<br>Ano: %{x}<br>Razão: %{y:.2f}<extra></extra>",
         "mode": "lines+markers",
         "name": "Rio de Janeiro (Histórico)",
         "type": "scatter",
         "x": {
          "bdata": "1wfYB9kH2gfbB9wH3QfeB98H4AfhB+IH4wfkBw==",
          "dtype": "i2"
         },
         "y": {
          "bdata": "iIeHh8f+/kA8PDw8VHP/QHh4eHjQ3/9AaWlpaTUiAEGXlpaWllAAQdPS0tK2fABBiIeHh8+nAEGIh4eHB9MAQVpaWlrG/gBBpqWlpaErAUFaWlpaJlkBQbW0tLTAhQFBiIeHhyuwAUG1tLS0BNQBQQ==",
          "dtype": "f8"
         }
        },
        {
         "hovertemplate": "Estado: Rio de Janeiro<br>Ano: %{x}<br>Razão: %{y:.2f}<extra></extra>",
         "line": {
          "dash": "dash"
         },
         "mode": "lines+markers",
         "name": "Rio de Janeiro (Previsão)",
         "type": "scatter",
         "x": {
          "bdata": "5QfmBw==",
          "dtype": "i2"
         },
         "y": {
          "bdata": "MIpXLXINAkHgmzbizzoCQQ==",
          "dtype": "f8"
         }
        },
        {
         "hovertemplate": "Estado: Espírito Santo<br>Ano: %{x}<br>Razão: %{y:.2f}<extra></extra>",
         "mode": "lines+markers",
         "name": "Espírito Santo (Histórico)",
         "type": "scatter",
         "x": {
          "bdata": "1wfYB9kH2gfbB9wH3QfeB98H4AfhB+IH4wfkBw==",
          "dtype": "i2"
         },
         "y": {
          "bdata": "S0tLS2vP2EBpaWlpiXbZQGlpaWkJFtpAl5aWlrar2kAtLS0tDTjbQA8PDw8PwNtAeHh4eJhG3EAPDw8Pj8/cQA8PDw/PXN1Al5aWlvbu3UAeHh4eXoXeQLW0tLQUHd9A4uHh4eG030Dx8PDwUCPgQA==",
          "dtype": "f8"
         }
        },
        {
         "hovertemplate": "Estado: Espírito Santo<br>Ano: %{x}<br>Razão: %{y:.2f}<extra></extra>",
         "line": {
          "dash": "dash"
         },
         "mode": "lines+markers",
         "name": "Espírito Santo (Previsão)",
         "type": "scatter",
         "x": {
          "bdata": "5QfmBw==",
          "dtype": "i2"
         },
         "y": {
          "bdata": "AH1H8Bxn4ECggMyLYK/gQA==",
          "dtype": "f8"
         }
        },
        {
         "hovertemplate": "Estado: Piauí<br>Ano: %{x}<br>Razão: %{y:.2f}<extra></extra>",
         "mode": "lines+markers",
         "name": "Piauí (Histórico)",
         "type": "scatter",
         "x": {
          "bdata": "1wfYB9kH2gfbB9wH3QfeB98H4AfhB+IH4wfkBw==",
          "dtype": "i2"
         },
         "y": {
          "bdata": "AAAAAICi0kAeHh4efgvTQGlpaWlJddNAtbS0tNTg00DEw8PDQ03UQPHw8PCwu9RAHh4eHl4u1UBpaWlpaafVQJeWlpZWKNZA4uHh4UGx1kDx8PDwkD/XQLW0tLT0z9dA8fDw8LBf2EAPDw8Pr+nYQA==",
          "dtype": "f8"
         }
        },
        {
         "hovertemplate": "Estado: Piauí<br>Ano: %{x}<br>Razão: %{y:.2f}<extra></extra>",
         "line": {
          "dash": "dash"
         },
         "mode": "lines+markers",
         "name": "Piauí (Previsão)",
         "type": "scatter",
         "x": {
          "bdata": "5QfmBw==",
          "dtype": "i2"
         },
         "y": {
          "bdata": "4O9lyO8y2UDATcy1ja7ZQA==",
          "dtype": "f8"
         }
        },
        {
         "hovertemplate": "Estado: Mato Grosso do Sul<br>Ano: %{x}<br>Razão: %{y:.2f}<extra></extra>",
         "mode": "lines+markers",
         "name": "Mato Grosso do Sul (Histórico)",
         "type": "scatter",
         "x": {
          "bdata": "1wfYB9kH2gfbB9wH3QfeB98H4AfhB+IH4wfkBw==",
          "dtype": "i2"
         },
         "y": {
          "bdata": "LS0tLY0p0EAeHh4e/pzQQA8PDw8vDNFADw8PD8910UBLS0tLK9rRQHh4eHi4O9JAHh4eHl6c0kAeHh4efv7SQA8PDw9PY9NAxMPDw6PL00AeHh4enjbUQAAAAABAotRAHh4eHp4M1UAeHh4evnHVQA==",
          "dtype": "f8"
         }
        },
        {
         "hovertemplate": "Estado: Mato Grosso do Sul<br>Ano: %{x}<br>Razão: %{y:.2f}<extra></extra>",
         "line": {
          "dash": "dash"
         },
         "mode": "lines+markers",
         "name": "Mato Grosso do Sul (Previsão)",
         "type": "scatter",
         "x": {
          "bdata": "5QfmBw==",
          "dtype": "i2"
         },
         "y": {
          "bdata": "IMu/C6vU1UAgJDITZDvWQA==",
          "dtype": "f8"
         }
        },
        {
         "hovertemplate": "Estado: Pernambuco<br>Ano: %{x}<br>Razão: %{y:.2f}<extra></extra>",
         "mode": "lines+markers",
         "name": "Pernambuco (Histórico)",
         "type": "scatter",
         "x": {
          "bdata": "1wfYB9kH2gfbB9wH3QfeB98H4AfhB+IH4wfkBw==",
          "dtype": "i2"
         },
         "y": {
          "bdata": "Dw8PDw8y60CXlpaWltrrQB4eHh6uhexA4uHh4SEy7UCIh4eHV97tQDw8PDy8jO5AeHh4eIg+70BpaWlpKfTvQIiHh4evVvBAiIeHhw+18EBLS0tLGxTxQNPS0tL6cfFA8fDw8JDN8UC1tLS0DCPyQA==",
          "dtype": "f8"
         }
        },
        {
         "hovertemplate": "Estado: Pernambuco<br>Ano: %{x}<br>Razão: %{y:.2f}<extra></extra>",
         "line": {
          "dash": "dash"
         },
         "mode": "lines+markers",
         "name": "Pernambuco (Previsão)",
         "type": "scatter",
         "x": {
          "bdata": "5QfmBw==",
          "dtype": "i2"
         },
         "y": {
          "bdata": "wOZqrnZ58kCgb1ORh9PyQA==",
          "dtype": "f8"
         }
        },
        {
         "hovertemplate": "Estado: Tocantins<br>Ano: %{x}<br>Razão: %{y:.2f}<extra></extra>",
         "mode": "lines+markers",
         "name": "Tocantins (Histórico)",
         "type": "scatter",
         "x": {
          "bdata": "1wfYB9kH2gfbB9wH3QfeB98H4AfhB+IH4wfkBw==",
          "dtype": "i2"
         },
         "y": {
          "bdata": "PDw8PLx8vkDT0tLS0oC/QNPS0tJSQ8BAtbS0tDTFwEDx8PDwMEfBQMTDw8ODzMFALS0tLe1VwkCXlpaWVuTCQFpaWlrad8NAiIeHhwcQxEDi4eHhYavEQPHw8PDwRsVAiIeHhwfhxUCXlpaWFnbGQA==",
          "dtype": "f8"
         }
        },
        {
         "hovertemplate": "Estado: Tocantins<br>Ano: %{x}<br>Razão: %{y:.2f}<extra></extra>",
         "line": {
          "dash": "dash"
         },
         "mode": "lines+markers",
         "name": "Tocantins (Previsão)",
         "type": "scatter",
         "x": {
          "bdata": "5QfmBw==",
          "dtype": "i2"
         },
         "y": {
          "bdata": "QI4PJs7lxkAAu3QPO3THQA==",
          "dtype": "f8"
         }
        },
        {
         "hovertemplate": "Estado: Bahia<br>Ano: %{x}<br>Razão: %{y:.2f}<extra></extra>",
         "mode": "lines+markers",
         "name": "Bahia (Histórico)",
         "type": "scatter",
         "x": {
          "bdata": "1wfYB9kH2gfbB9wH3QfeB98H4AfhB+IH4wfkBw==",
          "dtype": "i2"
         },
         "y": {
          "bdata": "Dw8PD/dX9UAtLS0tFd31QJeWlpa2Y/ZAiIeHhy/r9kA8PDw8BHL3QB4eHh6W+vdAAAAAAFCH+EDEw8PDAxv5QAAAAABYt/lAiIeHh9dc+kAPDw8Pdwn7QC0tLS1tuftAWlpaWgJp/EDEw8PD8xD9QA==",
          "dtype": "f8"
         }
        },
        {
         "hovertemplate": "Estado: Bahia<br>Ano: %{x}<br>Razão: %{y:.2f}<extra></extra>",
         "line": {
          "dash": "dash"
         },
         "mode": "lines+markers",
         "name": "Bahia (Previsão)",
         "type": "scatter",
         "x": {
          "bdata": "5QfmBw==",
          "dtype": "i2"
         },
         "y": {
          "bdata": "gAYrdL5v/UDAOV6ncQf+QA==",
          "dtype": "f8"
         }
        },
        {
         "hovertemplate": "Estado: Pará<br>Ano: %{x}<br>Razão: %{y:.2f}<extra></extra>",
         "mode": "lines+markers",
         "name": "Pará (Histórico)",
         "type": "scatter",
         "x": {
          "bdata": "1wfYB9kH2gfbB9wH3QfeB98H4AfhB+IH4wfkBw==",
          "dtype": "i2"
         },
         "y": {
          "bdata": "8fDw8FAv40APDw8Pr9vjQA8PDw9/iuRAaWlpaVk55UBaWlpauuflQKalpaVVmeZAWlpaWnpQ50DT0tLSMg7oQA8PDw9v0uhApqWlpSWd6UDx8PDwUG3qQFpaWlqaQOtApqWlpSUX7EAAAAAAUOzsQA==",
          "dtype": "f8"
         }
        },
        {
         "hovertemplate": "Estado: Pará<br>Ano: %{x}<br>Razão: %{y:.2f}<extra></extra>",
         "line": {
          "dash": "dash"
         },
         "mode": "lines+markers",
         "name": "Pará (Previsão)",
         "type": "scatter",
         "x": {
          "bdata": "5QfmBw==",
          "dtype": "i2"
         },
         "y": {
          "bdata": "APWo6WRy7UDAVuOtpjHuQA==",
          "dtype": "f8"
         }
        },
        {
         "hovertemplate": "Estado: Distrito Federal<br>Ano: %{x}<br>Razão: %{y:.2f}<extra></extra>",
         "mode": "lines+markers",
         "name": "Distrito Federal (Histórico)",
         "type": "scatter",
         "x": {
          "bdata": "1wfYB9kH2gfbB9wH3QfeB98H4AfhB+IH4wfkBw==",
          "dtype": "i2"
         },
         "y": {
          "bdata": "AAAAAAAAAAAAAAAAAAAAAAAAAAAAAAAAAAAAAAAAAAAAAAAAAAAAAAAAAAAAAAAAAAAAAAAAAAAAAAAAAAAAAAAAAAAAAAAAAAAAAAAAAAAAAAAAAAAAAAAAAAAAAAAAAAAAAAAAAAAAAAAAAAAAAA==",
          "dtype": "f8"
         }
        },
        {
         "hovertemplate": "Estado: Distrito Federal<br>Ano: %{x}<br>Razão: %{y:.2f}<extra></extra>",
         "line": {
          "dash": "dash"
         },
         "mode": "lines+markers",
         "name": "Distrito Federal (Previsão)",
         "type": "scatter",
         "x": {
          "bdata": "5QfmBw==",
          "dtype": "i2"
         },
         "y": {
          "bdata": "AAAAAAAAAAAAAAAAAAAAAA==",
          "dtype": "f8"
         }
        },
        {
         "hovertemplate": "Estado: Rio Grande do Sul<br>Ano: %{x}<br>Razão: %{y:.2f}<extra></extra>",
         "mode": "lines+markers",
         "name": "Rio Grande do Sul (Histórico)",
         "type": "scatter",
         "x": {
          "bdata": "1wfYB9kH2gfbB9wH3QfeB98H4AfhB+IH4wfkBw==",
          "dtype": "i2"
         },
         "y": {
          "bdata": "09LS0tIr9UAeHh4ermb1QB4eHh42mPVAaWlpacnA9UA8PDw8fOD1QPHw8PDA+fVALS0tLVUP9kAAAAAAkCT2QPHw8PDIO/ZAiIeHhw9W9kCIh4eHh3L2QOLh4eFBj/ZAxMPDw+Oq9kA8PDw8lML2QA==",
          "dtype": "f8"
         }
        },
        {
         "hovertemplate": "Estado: Rio Grande do Sul<br>Ano: %{x}<br>Razão: %{y:.2f}<extra></extra>",
         "line": {
          "dash": "dash"
         },
         "mode": "lines+markers",
         "name": "Rio Grande do Sul (Previsão)",
         "type": "scatter",
         "x": {
          "bdata": "5QfmBw==",
          "dtype": "i2"
         },
         "y": {
          "bdata": "IBpmJVLq9kD4LFf6LAf3QA==",
          "dtype": "f8"
         }
        },
        {
         "hovertemplate": "Estado: Rio Grande do Norte<br>Ano: %{x}<br>Razão: %{y:.2f}<extra></extra>",
         "mode": "lines+markers",
         "name": "Rio Grande do Norte (Histórico)",
         "type": "scatter",
         "x": {
          "bdata": "1wfYB9kH2gfbB9wH3QfeB98H4AfhB+IH4wfkBw==",
          "dtype": "i2"
         },
         "y": {
          "bdata": "Dw8PDw9900AeHh4eHgjUQJeWlpa2k9RADw8PD28f1UAeHh4eHqnVQMTDw8PjMdZA8fDw8NC61kBaWlpaOkXXQJeWlpa20tdA4uHh4WFj2EDi4eHhYfTYQKalpaVlgdlAl5aWlrYI2kBaWlpa2obaQA==",
          "dtype": "f8"
         }
        },
        {
         "hovertemplate": "Estado: Rio Grande do Norte<br>Ano: %{x}<br>Razão: %{y:.2f}<extra></extra>",
         "line": {
          "dash": "dash"
         },
         "mode": "lines+markers",
         "name": "Rio Grande do Norte (Previsão)",
         "type": "scatter",
         "x": {
          "bdata": "5QfmBw==",
          "dtype": "i2"
         },
         "y": {
          "bdata": "ACUD5yQb20DAa3HLi6bbQA==",
          "dtype": "f8"
         }
        },
        {
         "hovertemplate": "Estado: Brasil<br>Ano: %{x}<br>Razão: %{y:.2f}<extra></extra>",
         "mode": "lines+markers",
         "name": "Brasil (Histórico)",
         "type": "scatter",
         "x": {
          "bdata": "1wfYB9kH2gfbB9wH3QfeB98H4AfhB+IH4wfkBw==",
          "dtype": "i2"
         },
         "y": {
          "bdata": "WlpaWmUINEEtLS0ten80QfHw8PB08zRBtbS0NGxjNUGIh4eHD881QbW0tDQXOTZB4uHh4WejNkGIh4cHKBA3QaalpaWPgDdBxMPDQzX1N0HT0tJS5mw4QbW0tDRB5ThBxMPDw2pcOUEPDw+P/Mw5QQ==",
          "dtype": "f8"
         }
        },
        {
         "hovertemplate": "Estado: Brasil<br>Ano: %{x}<br>Razão: %{y:.2f}<extra></extra>",
         "line": {
          "dash": "dash"
         },
         "mode": "lines+markers",
         "name": "Brasil (Previsão)",
         "type": "scatter",
         "x": {
          "bdata": "5QfmBw==",
          "dtype": "i2"
         },
         "y": {
          "bdata": "oEh7JWYyOkFA3tVOEKM6QQ==",
          "dtype": "f8"
         }
        },
        {
         "hovertemplate": "Estado: Minas Gerais<br>Ano: %{x}<br>Razão: %{y:.2f}<extra></extra>",
         "mode": "lines+markers",
         "name": "Minas Gerais (Histórico)",
         "type": "scatter",
         "x": {
          "bdata": "1wfYB9kH2gfbB9wH3QfeB98H4AfhB+IH4wfkBw==",
          "dtype": "i2"
         },
         "y": {
          "bdata": "Hh4eHnKFAUHx8PDw4N8BQQ8PDw+/NQJBLS0tLf2FAkEeHh4ertACQdPS0tICGQNB09LS0nZgA0EPDw8Py6gDQaalpaX58gNBHh4eHqY/BEEtLS0tJY4EQeLh4eEB3QRBiIeHh8cqBUE8PDw8GHQFQQ==",
          "dtype": "f8"
         }
        },
        {
         "hovertemplate": "Estado: Minas Gerais<br>Ano: %{x}<br>Razão: %{y:.2f}<extra></extra>",
         "line": {
          "dash": "dash"
         },
         "mode": "lines+markers",
         "name": "Minas Gerais (Previsão)",
         "type": "scatter",
         "x": {
          "bdata": "5QfmBw==",
          "dtype": "i2"
         },
         "y": {
          "bdata": "4KpF8U7BBUHAe0O/gw0GQQ==",
          "dtype": "f8"
         }
        },
        {
         "hovertemplate": "Estado: Acre<br>Ano: %{x}<br>Razão: %{y:.2f}<extra></extra>",
         "mode": "lines+markers",
         "name": "Acre (Histórico)",
         "type": "scatter",
         "x": {
          "bdata": "1wfYB9kH2gfbB9wH3QfeB98H4AfhB+IH4wfkBw==",
          "dtype": "i2"
         },
         "y": {
          "bdata": "PDw8PDxUq0BpaWlpaYCsQMTDw8PDsq1AxMPDw8PmrkB4eHh4+A2wQGlpaWnpqrBAHh4eHp5LsUDEw8PDQ/GxQOLh4eFhm7JAHh4eHp5Ks0APDw8Pj/yzQGlpaWnpq7RADw8PDw9YtUCXlpaWFgC2QA==",
          "dtype": "f8"
         }
        },
        {
         "hovertemplate": "Estado: Acre<br>Ano: %{x}<br>Razão: %{y:.2f}<extra></extra>",
         "line": {
          "dash": "dash"
         },
         "mode": "lines+markers",
         "name": "Acre (Previsão)",
         "type": "scatter",
         "x": {
          "bdata": "5QfmBw==",
          "dtype": "i2"
         },
         "y": {
          "bdata": "wPRLv3SNtkDA6gbJajK3QA==",
          "dtype": "f8"
         }
        },
        {
         "hovertemplate": "Estado: São Paulo<br>Ano: %{x}<br>Razão: %{y:.2f}<extra></extra>",
         "mode": "lines+markers",
         "name": "São Paulo (Histórico)",
         "type": "scatter",
         "x": {
          "bdata": "1wfYB9kH2gfbB9wH3QfeB98H4AfhB+IH4wfkBw==",
          "dtype": "i2"
         },
         "y": {
          "bdata": "Hh4eHnbcEkHi4eHhi0UTQXh4eHicqhNBl5aWlsIKFEFpaWlp22UUQTw8PDwAvhRBLS0tLakUFUHi4eHh+WsVQWlpaWknxRVBDw8PD/cgFkHx8PDwoH4WQR4eHh7y2xZBHh4eHo43F0Hx8PDwpI0XQQ==",
          "dtype": "f8"
         }
        },
        {
         "hovertemplate": "Estado: São Paulo<br>Ano: %{x}<br>Razão: %{y:.2f}<extra></extra>",
         "line": {
          "dash": "dash"
         },
         "mode": "lines+markers",
         "name": "São Paulo (Previsão)",
         "type": "scatter",
         "x": {
          "bdata": "5QfmBw==",
          "dtype": "i2"
         },
         "y": {
          "bdata": "wM9I2FPtF0HgjaQMsEgYQQ==",
          "dtype": "f8"
         }
        },
        {
         "hovertemplate": "Estado: Ceará<br>Ano: %{x}<br>Razão: %{y:.2f}<extra></extra>",
         "mode": "lines+markers",
         "name": "Ceará (Histórico)",
         "type": "scatter",
         "x": {
          "bdata": "1wfYB9kH2gfbB9wH3QfeB98H4AfhB+IH4wfkBw==",
          "dtype": "i2"
         },
         "y": {
          "bdata": "09LS0lIg6UBLS0tLm8XpQGlpaWnZaupAeHh4eMgO60Di4eHhUa/rQJeWlpaWT+xA09LS0jLz7EDi4eHh4ZztQMTDw8NDT+5AeHh4eBgK70BaWlpaCsnvQLW0tLSUQ/BAHh4eHvag8EBLS0tLK/nwQA==",
          "dtype": "f8"
         }
        },
        {
         "hovertemplate": "Estado: Ceará<br>Ano: %{x}<br>Razão: %{y:.2f}<extra></extra>",
         "line": {
          "dash": "dash"
         },
         "mode": "lines+markers",
         "name": "Ceará (Previsão)",
         "type": "scatter",
         "x": {
          "bdata": "5QfmBw==",
          "dtype": "i2"
         },
         "y": {
          "bdata": "oNiJnfg/8UDgkz/5w5bxQA==",
          "dtype": "f8"
         }
        },
        {
         "hovertemplate": "Estado: Santa Catarina<br>Ano: %{x}<br>Razão: %{y:.2f}<extra></extra>",
         "mode": "lines+markers",
         "name": "Santa Catarina (Histórico)",
         "type": "scatter",
         "x": {
          "bdata": "1wfYB9kH2gfbB9wH3QfeB98H4AfhB+IH4wfkBw==",
          "dtype": "i2"
         },
         "y": {
          "bdata": "iIeHh5fX5kCIh4eHR3PnQDw8PDwsCehAxMPDwxOa6EB4eHh4mCbpQAAAAADwselALS0tLZ0+6kDT0tLSMtDqQEtLS0traetAaWlpaSkL7EDx8PDwULTsQDw8PDyMZO1APDw8PHwZ7kAeHh4evszuQA==",
          "dtype": "f8"
         }
        },
        {
         "hovertemplate": "Estado: Santa Catarina<br>Ano: %{x}<br>Razão: %{y:.2f}<extra></extra>",
         "line": {
          "dash": "dash"
         },
         "mode": "lines+markers",
         "name": "Santa Catarina (Previsão)",
         "type": "scatter",
         "x": {
          "bdata": "5QfmBw==",
          "dtype": "i2"
         },
         "y": {
          "bdata": "wNMA0cMs70DAEv/DwsbvQA==",
          "dtype": "f8"
         }
        },
        {
         "hovertemplate": "Estado: Alagoas<br>Ano: %{x}<br>Razão: %{y:.2f}<extra></extra>",
         "mode": "lines+markers",
         "name": "Alagoas (Histórico)",
         "type": "scatter",
         "x": {
          "bdata": "1wfYB9kH2gfbB9wH3QfeB98H4AfhB+IH4wfkBw==",
          "dtype": "i2"
         },
         "y": {
          "bdata": "09LS0rKv0UDT0tLSUibSQLW0tLTUm9JAWlpaWvoO00BLS0tL637TQPHw8PAw7tNApqWlpUVf1ECXlpaWFtTUQB4eHh5eTdVAiIeHhwfL1UBpaWlpqUvWQAAAAACgy9ZAeHh4eFhI10CIh4eHB7zXQA==",
          "dtype": "f8"
         }
        },
        {
         "hovertemplate": "Estado: Alagoas<br>Ano: %{x}<br>Razão: %{y:.2f}<extra></extra>",
         "line": {
          "dash": "dash"
         },
         "mode": "lines+markers",
         "name": "Alagoas (Previsão)",
         "type": "scatter",
         "x": {
          "bdata": "5QfmBw==",
          "dtype": "i2"
         },
         "y": {
          "bdata": "oHenpBcn2EAA1X0KFZ7YQA==",
          "dtype": "f8"
         }
        },
        {
         "hovertemplate": "Estado: Paraíba<br>Ano: %{x}<br>Razão: %{y:.2f}<extra></extra>",
         "mode": "lines+markers",
         "name": "Paraíba (Histórico)",
         "type": "scatter",
         "x": {
          "bdata": "1wfYB9kH2gfbB9wH3QfeB98H4AfhB+IH4wfkBw==",
          "dtype": "i2"
         },
         "y": {
          "bdata": "AAAAAOAV10AeHh4efqDXQNPS0tISLNhAS0tLS2u52EA8PDw8vEfZQLW0tLT02NlA09LS0lJv2kAAAAAAgAzbQDw8PDx8sdtA8fDw8LBe3EB4eHh4+BDdQKalpaUlw91AeHh4eFhx3kCXlpaWdhTfQA==",
          "dtype": "f8"
         }
        },
        {
         "hovertemplate": "Estado: Paraíba<br>Ano: %{x}<br>Razão: %{y:.2f}<extra></extra>",
         "line": {
          "dash": "dash"
         },
         "mode": "lines+markers",
         "name": "Paraíba (Previsão)",
         "type": "scatter",
         "x": {
          "bdata": "5QfmBw==",
          "dtype": "i2"
         },
         "y": {
          "bdata": "wGqu5qqJ30BgIfdT8RPgQA==",
          "dtype": "f8"
         }
        },
        {
         "hovertemplate": "Estado: Maranhão<br>Ano: %{x}<br>Razão: %{y:.2f}<extra></extra>",
         "mode": "lines+markers",
         "name": "Maranhão (Histórico)",
         "type": "scatter",
         "x": {
          "bdata": "1wfYB9kH2gfbB9wH3QfeB98H4AfhB+IH4wfkBw==",
          "dtype": "i2"
         },
         "y": {
          "bdata": "LS0tLf2v4EAeHh4ezh7hQHh4eHh4jeFAPDw8PEz64UDx8PDwYGTiQA8PDw+Pz+JAl5aWluY/40BLS0tL27jjQHh4eHiIPORApqWlpUXL5ECIh4eHN2PlQKalpaVFAeZAeHh4eMij5kB4eHh4yEXnQA==",
          "dtype": "f8"
         }
        },
        {
         "hovertemplate": "Estado: Maranhão<br>Ano: %{x}<br>Razão: %{y:.2f}<extra></extra>",
         "line": {
          "dash": "dash"
         },
         "mode": "lines+markers",
         "name": "Maranhão (Previsão)",
         "type": "scatter",
         "x": {
          "bdata": "5QfmBw==",
          "dtype": "i2"
         },
         "y": {
          "bdata": "oG3btg1y50CAaB+NyPHnQA==",
          "dtype": "f8"
         }
        },
        {
         "hovertemplate": "Estado: Roraima<br>Ano: %{x}<br>Razão: %{y:.2f}<extra></extra>",
         "mode": "lines+markers",
         "name": "Roraima (Histórico)",
         "type": "scatter",
         "x": {
          "bdata": "1wfYB9kH2gfbB9wH3QfeB98H4AfhB+IH4wfkBw==",
          "dtype": "i2"
         },
         "y": {
          "bdata": "aWlpaWlwoUAPDw8PDzWiQDw8PDw8+aJAS0tLS0vDo0AAAAAAAJmkQPHw8PDweKVAWlpaWlplpkBLS0tLS2CnQC0tLS0tbKhA8fDw8PCIqUB4eHh4eMmqQEtLS0tLbKxA4uHh4eFjrkDT0tLSUgSwQA==",
          "dtype": "f8"
         }
        },
        {
         "hovertemplate": "Estado: Roraima<br>Ano: %{x}<br>Razão: %{y:.2f}<extra></extra>",
         "line": {
          "dash": "dash"
         },
         "mode": "lines+markers",
         "name": "Roraima (Previsão)",
         "type": "scatter",
         "x": {
          "bdata": "5QfmBw==",
          "dtype": "i2"
         },
         "y": {
          "bdata": "gA4PDw+tr0AAkiRJEmGwQA==",
          "dtype": "f8"
         }
        },
        {
         "hovertemplate": "Estado: Sergipe<br>Ano: %{x}<br>Razão: %{y:.2f}<extra></extra>",
         "mode": "lines+markers",
         "name": "Sergipe (Histórico)",
         "type": "scatter",
         "x": {
          "bdata": "1wfYB9kH2gfbB9wH3QfeB98H4AfhB+IH4wfkBw==",
          "dtype": "i2"
         },
         "y": {
          "bdata": "Hh4eHp4XyECIh4eHR+fIQMTDw8MDtslAHh4eHp6BykAPDw8Pj0jLQA8PDw/PDMxAaWlpaWnSzEDT0tLSUpzNQC0tLS1tbM5ADw8PDw9Dz0BaWlpa2g7QQB4eHh6ee9BALS0tLS3m0EC1tLS01ErRQA==",
          "dtype": "f8"
         }
        },
        {
         "hovertemplate": "Estado: Sergipe<br>Ano: %{x}<br>Razão: %{y:.2f}<extra></extra>",
         "line": {
          "dash": "dash"
         },
         "mode": "lines+markers",
         "name": "Sergipe (Previsão)",
         "type": "scatter",
         "x": {
          "bdata": "5QfmBw==",
          "dtype": "i2"
         },
         "y": {
          "bdata": "YAAXf0Cr0UCAwjibYhLSQA==",
          "dtype": "f8"
         }
        },
        {
         "hovertemplate": "Estado: Amazonas<br>Ano: %{x}<br>Razão: %{y:.2f}<extra></extra>",
         "mode": "lines+markers",
         "name": "Amazonas (Histórico)",
         "type": "scatter",
         "x": {
          "bdata": "1wfYB9kH2gfbB9wH3QfeB98H4AfhB+IH4wfkBw==",
          "dtype": "i2"
         },
         "y": {
          "bdata": "eHh4eHiB0EAtLS0tTS3RQIiHh4cH3dFAPDw8PHyQ0kAAAAAA4EbTQKalpaWFAdRA4uHh4WHC1ECIh4eHx4nVQDw8PDy8V9ZAS0tLS2ss10Dx8PDw0AfYQC0tLS3t6dhAxMPDw+PQ2UB4eHh4mKvaQA==",
          "dtype": "f8"
         }
        },
        {
         "hovertemplate": "Estado: Amazonas<br>Ano: %{x}<br>Razão: %{y:.2f}<extra></extra>",
         "line": {
          "dash": "dash"
         },
         "mode": "lines+markers",
         "name": "Amazonas (Previsão)",
         "type": "scatter",
         "x": {
          "bdata": "5QfmBw==",
          "dtype": "i2"
         },
         "y": {
          "bdata": "ABUjBLUz20AAmEYtGPzbQA==",
          "dtype": "f8"
         }
        },
        {
         "hovertemplate": "Estado: Amapá<br>Ano: %{x}<br>Razão: %{y:.2f}<extra></extra>",
         "mode": "lines+markers",
         "name": "Amapá (Histórico)",
         "type": "scatter",
         "x": {
          "bdata": "1wfYB9kH2gfbB9wH3QfeB98H4AfhB+IH4wfkBw==",
          "dtype": "i2"
         },
         "y": {
          "bdata": "PDw8PDyCp0AeHh4eHsuoQGlpaWlpF6pALS0tLS1gq0C1tLS0tKOsQPHw8PDw6K1ADw8PDw8yr0Di4eHhYT+wQMTDw8ND5rBAxMPDw0ONsUDEw8PDQzSyQPHw8PDw17JAiIeHh4d5s0Di4eHhYRe0QA==",
          "dtype": "f8"
         }
        },
        {
         "hovertemplate": "Estado: Amapá<br>Ano: %{x}<br>Razão: %{y:.2f}<extra></extra>",
         "line": {
          "dash": "dash"
         },
         "mode": "lines+markers",
         "name": "Amapá (Previsão)",
         "type": "scatter",
         "x": {
          "bdata": "5QfmBw==",
          "dtype": "i2"
         },
         "y": {
          "bdata": "gAX9dQXCtEBAMdc2sWa1QA==",
          "dtype": "f8"
         }
        },
        {
         "hovertemplate": "Estado: Mato Grosso<br>Ano: %{x}<br>Razão: %{y:.2f}<extra></extra>",
         "mode": "lines+markers",
         "name": "Mato Grosso (Histórico)",
         "type": "scatter",
         "x": {
          "bdata": "1wfYB9kH2gfbB9wH3QfeB98H4AfhB+IH4wfkBw==",
          "dtype": "i2"
         },
         "y": {
          "bdata": "AAAAAAAAAAAAAAAAAAAAAAAAAAAAAAAAAAAAAAAAAAAAAAAAAAAAAAAAAAAAAAAAAAAAAAAAAAAAAAAAAAAAAAAAAAAAAAAAAAAAAAAAAAAAAAAAAAAAAAAAAAAAAAAAAAAAAAAAAAAAAAAAAAAAAA==",
          "dtype": "f8"
         }
        },
        {
         "hovertemplate": "Estado: Mato Grosso<br>Ano: %{x}<br>Razão: %{y:.2f}<extra></extra>",
         "line": {
          "dash": "dash"
         },
         "mode": "lines+markers",
         "name": "Mato Grosso (Previsão)",
         "type": "scatter",
         "x": {
          "bdata": "5QfmBw==",
          "dtype": "i2"
         },
         "y": {
          "bdata": "AAAAAAAAAAAAAAAAAAAAAA==",
          "dtype": "f8"
         }
        },
        {
         "hovertemplate": "Estado: Rondônia<br>Ano: %{x}<br>Razão: %{y:.2f}<extra></extra>",
         "mode": "lines+markers",
         "name": "Rondônia (Histórico)",
         "type": "scatter",
         "x": {
          "bdata": "1wfYB9kH2gfbB9wH3QfeB98H4AfhB+IH4wfkBw==",
          "dtype": "i2"
         },
         "y": {
          "bdata": "aWlpaSmIwkDEw8PDgzPDQPHw8PCw3MNAPDw8PDx/xECmpaWlJRvFQPHw8PAwtsVAPDw8PHxQxkDi4eHh4erGQEtLS0uLhcdAaWlpaekfyEDi4eHhYbjIQB4eHh7eSslAeHh4eHjYyUBLS0tLi17KQA==",
          "dtype": "f8"
         }
        },
        {
         "hovertemplate": "Estado: Rondônia<br>Ano: %{x}<br>Razão: %{y:.2f}<extra></extra>",
         "line": {
          "dash": "dash"
         },
         "mode": "lines+markers",
         "name": "Rondônia (Previsão)",
         "type": "scatter",
         "x": {
          "bdata": "5QfmBw==",
          "dtype": "i2"
         },
         "y": {
          "bdata": "wI6Dzw4Zy0DAhQG+hbPLQA==",
          "dtype": "f8"
         }
        },
        {
         "hovertemplate": "Estado: Paraná<br>Ano: %{x}<br>Razão: %{y:.2f}<extra></extra>",
         "mode": "lines+markers",
         "name": "Paraná (Histórico)",
         "type": "scatter",
         "x": {
          "bdata": "1wfYB9kH2gfbB9wH3QfeB98H4AfhB+IH4wfkBw==",
          "dtype": "i2"
         },
         "y": {
          "bdata": "09LS0irn8kCXlpaWzlnzQA8PDw8fxvNAeHh4eEgq9EB4eHh4WIb0QJeWlpZ23fRA4uHh4XEx9UDT0tLSKoX1QMTDw8Mr2vVAaWlpaXkx9kCIh4eH/4n2QC0tLS2l4fZAPDw8PCw290APDw8P/4L3QA==",
          "dtype": "f8"
         }
        },
        {
         "hovertemplate": "Estado: Paraná<br>Ano: %{x}<br>Razão: %{y:.2f}<extra></extra>",
         "line": {
          "dash": "dash"
         },
         "mode": "lines+markers",
         "name": "Paraná (Previsão)",
         "type": "scatter",
         "x": {
          "bdata": "5QfmBw==",
          "dtype": "i2"
         },
         "y": {
          "bdata": "IJyTDETv90DAh+Sxf0j4QA==",
          "dtype": "f8"
         }
        },
        {
         "hovertemplate": "Estado: Goiás<br>Ano: %{x}<br>Razão: %{y:.2f}<extra></extra>",
         "mode": "lines+markers",
         "name": "Goiás (Histórico)",
         "type": "scatter",
         "x": {
          "bdata": "1wfYB9kH2gfbB9wH3QfeB98H4AfhB+IH4wfkBw==",
          "dtype": "i2"
         },
         "y": {
          "bdata": "AAAAAAAAAAAAAAAAAAAAAAAAAAAAAAAAAAAAAAAAAAAAAAAAAAAAAAAAAAAAAAAAAAAAAAAAAAAAAAAAAAAAAAAAAAAAAAAAAAAAAAAAAAAAAAAAAAAAAAAAAAAAAAAAAAAAAAAAAAAAAAAAAAAAAA==",
          "dtype": "f8"
         }
        },
        {
         "hovertemplate": "Estado: Goiás<br>Ano: %{x}<br>Razão: %{y:.2f}<extra></extra>",
         "line": {
          "dash": "dash"
         },
         "mode": "lines+markers",
         "name": "Goiás (Previsão)",
         "type": "scatter",
         "x": {
          "bdata": "5QfmBw==",
          "dtype": "i2"
         },
         "y": {
          "bdata": "AAAAAAAAAAAAAAAAAAAAAA==",
          "dtype": "f8"
         }
        }
       ],
       "layout": {
        "height": 600,
        "hovermode": "closest",
        "legend": {
         "title": {
          "text": "Estados"
         }
        },
        "template": {
         "data": {
          "bar": [
           {
            "error_x": {
             "color": "#2a3f5f"
            },
            "error_y": {
             "color": "#2a3f5f"
            },
            "marker": {
             "line": {
              "color": "white",
              "width": 0.5
             },
             "pattern": {
              "fillmode": "overlay",
              "size": 10,
              "solidity": 0.2
             }
            },
            "type": "bar"
           }
          ],
          "barpolar": [
           {
            "marker": {
             "line": {
              "color": "white",
              "width": 0.5
             },
             "pattern": {
              "fillmode": "overlay",
              "size": 10,
              "solidity": 0.2
             }
            },
            "type": "barpolar"
           }
          ],
          "carpet": [
           {
            "aaxis": {
             "endlinecolor": "#2a3f5f",
             "gridcolor": "#C8D4E3",
             "linecolor": "#C8D4E3",
             "minorgridcolor": "#C8D4E3",
             "startlinecolor": "#2a3f5f"
            },
            "baxis": {
             "endlinecolor": "#2a3f5f",
             "gridcolor": "#C8D4E3",
             "linecolor": "#C8D4E3",
             "minorgridcolor": "#C8D4E3",
             "startlinecolor": "#2a3f5f"
            },
            "type": "carpet"
           }
          ],
          "choropleth": [
           {
            "colorbar": {
             "outlinewidth": 0,
             "ticks": ""
            },
            "type": "choropleth"
           }
          ],
          "contour": [
           {
            "colorbar": {
             "outlinewidth": 0,
             "ticks": ""
            },
            "colorscale": [
             [
              0,
              "#0d0887"
             ],
             [
              0.1111111111111111,
              "#46039f"
             ],
             [
              0.2222222222222222,
              "#7201a8"
             ],
             [
              0.3333333333333333,
              "#9c179e"
             ],
             [
              0.4444444444444444,
              "#bd3786"
             ],
             [
              0.5555555555555556,
              "#d8576b"
             ],
             [
              0.6666666666666666,
              "#ed7953"
             ],
             [
              0.7777777777777778,
              "#fb9f3a"
             ],
             [
              0.8888888888888888,
              "#fdca26"
             ],
             [
              1,
              "#f0f921"
             ]
            ],
            "type": "contour"
           }
          ],
          "contourcarpet": [
           {
            "colorbar": {
             "outlinewidth": 0,
             "ticks": ""
            },
            "type": "contourcarpet"
           }
          ],
          "heatmap": [
           {
            "colorbar": {
             "outlinewidth": 0,
             "ticks": ""
            },
            "colorscale": [
             [
              0,
              "#0d0887"
             ],
             [
              0.1111111111111111,
              "#46039f"
             ],
             [
              0.2222222222222222,
              "#7201a8"
             ],
             [
              0.3333333333333333,
              "#9c179e"
             ],
             [
              0.4444444444444444,
              "#bd3786"
             ],
             [
              0.5555555555555556,
              "#d8576b"
             ],
             [
              0.6666666666666666,
              "#ed7953"
             ],
             [
              0.7777777777777778,
              "#fb9f3a"
             ],
             [
              0.8888888888888888,
              "#fdca26"
             ],
             [
              1,
              "#f0f921"
             ]
            ],
            "type": "heatmap"
           }
          ],
          "histogram": [
           {
            "marker": {
             "pattern": {
              "fillmode": "overlay",
              "size": 10,
              "solidity": 0.2
             }
            },
            "type": "histogram"
           }
          ],
          "histogram2d": [
           {
            "colorbar": {
             "outlinewidth": 0,
             "ticks": ""
            },
            "colorscale": [
             [
              0,
              "#0d0887"
             ],
             [
              0.1111111111111111,
              "#46039f"
             ],
             [
              0.2222222222222222,
              "#7201a8"
             ],
             [
              0.3333333333333333,
              "#9c179e"
             ],
             [
              0.4444444444444444,
              "#bd3786"
             ],
             [
              0.5555555555555556,
              "#d8576b"
             ],
             [
              0.6666666666666666,
              "#ed7953"
             ],
             [
              0.7777777777777778,
              "#fb9f3a"
             ],
             [
              0.8888888888888888,
              "#fdca26"
             ],
             [
              1,
              "#f0f921"
             ]
            ],
            "type": "histogram2d"
           }
          ],
          "histogram2dcontour": [
           {
            "colorbar": {
             "outlinewidth": 0,
             "ticks": ""
            },
            "colorscale": [
             [
              0,
              "#0d0887"
             ],
             [
              0.1111111111111111,
              "#46039f"
             ],
             [
              0.2222222222222222,
              "#7201a8"
             ],
             [
              0.3333333333333333,
              "#9c179e"
             ],
             [
              0.4444444444444444,
              "#bd3786"
             ],
             [
              0.5555555555555556,
              "#d8576b"
             ],
             [
              0.6666666666666666,
              "#ed7953"
             ],
             [
              0.7777777777777778,
              "#fb9f3a"
             ],
             [
              0.8888888888888888,
              "#fdca26"
             ],
             [
              1,
              "#f0f921"
             ]
            ],
            "type": "histogram2dcontour"
           }
          ],
          "mesh3d": [
           {
            "colorbar": {
             "outlinewidth": 0,
             "ticks": ""
            },
            "type": "mesh3d"
           }
          ],
          "parcoords": [
           {
            "line": {
             "colorbar": {
              "outlinewidth": 0,
              "ticks": ""
             }
            },
            "type": "parcoords"
           }
          ],
          "pie": [
           {
            "automargin": true,
            "type": "pie"
           }
          ],
          "scatter": [
           {
            "fillpattern": {
             "fillmode": "overlay",
             "size": 10,
             "solidity": 0.2
            },
            "type": "scatter"
           }
          ],
          "scatter3d": [
           {
            "line": {
             "colorbar": {
              "outlinewidth": 0,
              "ticks": ""
             }
            },
            "marker": {
             "colorbar": {
              "outlinewidth": 0,
              "ticks": ""
             }
            },
            "type": "scatter3d"
           }
          ],
          "scattercarpet": [
           {
            "marker": {
             "colorbar": {
              "outlinewidth": 0,
              "ticks": ""
             }
            },
            "type": "scattercarpet"
           }
          ],
          "scattergeo": [
           {
            "marker": {
             "colorbar": {
              "outlinewidth": 0,
              "ticks": ""
             }
            },
            "type": "scattergeo"
           }
          ],
          "scattergl": [
           {
            "marker": {
             "colorbar": {
              "outlinewidth": 0,
              "ticks": ""
             }
            },
            "type": "scattergl"
           }
          ],
          "scattermap": [
           {
            "marker": {
             "colorbar": {
              "outlinewidth": 0,
              "ticks": ""
             }
            },
            "type": "scattermap"
           }
          ],
          "scattermapbox": [
           {
            "marker": {
             "colorbar": {
              "outlinewidth": 0,
              "ticks": ""
             }
            },
            "type": "scattermapbox"
           }
          ],
          "scatterpolar": [
           {
            "marker": {
             "colorbar": {
              "outlinewidth": 0,
              "ticks": ""
             }
            },
            "type": "scatterpolar"
           }
          ],
          "scatterpolargl": [
           {
            "marker": {
             "colorbar": {
              "outlinewidth": 0,
              "ticks": ""
             }
            },
            "type": "scatterpolargl"
           }
          ],
          "scatterternary": [
           {
            "marker": {
             "colorbar": {
              "outlinewidth": 0,
              "ticks": ""
             }
            },
            "type": "scatterternary"
           }
          ],
          "surface": [
           {
            "colorbar": {
             "outlinewidth": 0,
             "ticks": ""
            },
            "colorscale": [
             [
              0,
              "#0d0887"
             ],
             [
              0.1111111111111111,
              "#46039f"
             ],
             [
              0.2222222222222222,
              "#7201a8"
             ],
             [
              0.3333333333333333,
              "#9c179e"
             ],
             [
              0.4444444444444444,
              "#bd3786"
             ],
             [
              0.5555555555555556,
              "#d8576b"
             ],
             [
              0.6666666666666666,
              "#ed7953"
             ],
             [
              0.7777777777777778,
              "#fb9f3a"
             ],
             [
              0.8888888888888888,
              "#fdca26"
             ],
             [
              1,
              "#f0f921"
             ]
            ],
            "type": "surface"
           }
          ],
          "table": [
           {
            "cells": {
             "fill": {
              "color": "#EBF0F8"
             },
             "line": {
              "color": "white"
             }
            },
            "header": {
             "fill": {
              "color": "#C8D4E3"
             },
             "line": {
              "color": "white"
             }
            },
            "type": "table"
           }
          ]
         },
         "layout": {
          "annotationdefaults": {
           "arrowcolor": "#2a3f5f",
           "arrowhead": 0,
           "arrowwidth": 1
          },
          "autotypenumbers": "strict",
          "coloraxis": {
           "colorbar": {
            "outlinewidth": 0,
            "ticks": ""
           }
          },
          "colorscale": {
           "diverging": [
            [
             0,
             "#8e0152"
            ],
            [
             0.1,
             "#c51b7d"
            ],
            [
             0.2,
             "#de77ae"
            ],
            [
             0.3,
             "#f1b6da"
            ],
            [
             0.4,
             "#fde0ef"
            ],
            [
             0.5,
             "#f7f7f7"
            ],
            [
             0.6,
             "#e6f5d0"
            ],
            [
             0.7,
             "#b8e186"
            ],
            [
             0.8,
             "#7fbc41"
            ],
            [
             0.9,
             "#4d9221"
            ],
            [
             1,
             "#276419"
            ]
           ],
           "sequential": [
            [
             0,
             "#0d0887"
            ],
            [
             0.1111111111111111,
             "#46039f"
            ],
            [
             0.2222222222222222,
             "#7201a8"
            ],
            [
             0.3333333333333333,
             "#9c179e"
            ],
            [
             0.4444444444444444,
             "#bd3786"
            ],
            [
             0.5555555555555556,
             "#d8576b"
            ],
            [
             0.6666666666666666,
             "#ed7953"
            ],
            [
             0.7777777777777778,
             "#fb9f3a"
            ],
            [
             0.8888888888888888,
             "#fdca26"
            ],
            [
             1,
             "#f0f921"
            ]
           ],
           "sequentialminus": [
            [
             0,
             "#0d0887"
            ],
            [
             0.1111111111111111,
             "#46039f"
            ],
            [
             0.2222222222222222,
             "#7201a8"
            ],
            [
             0.3333333333333333,
             "#9c179e"
            ],
            [
             0.4444444444444444,
             "#bd3786"
            ],
            [
             0.5555555555555556,
             "#d8576b"
            ],
            [
             0.6666666666666666,
             "#ed7953"
            ],
            [
             0.7777777777777778,
             "#fb9f3a"
            ],
            [
             0.8888888888888888,
             "#fdca26"
            ],
            [
             1,
             "#f0f921"
            ]
           ]
          },
          "colorway": [
           "#636efa",
           "#EF553B",
           "#00cc96",
           "#ab63fa",
           "#FFA15A",
           "#19d3f3",
           "#FF6692",
           "#B6E880",
           "#FF97FF",
           "#FECB52"
          ],
          "font": {
           "color": "#2a3f5f"
          },
          "geo": {
           "bgcolor": "white",
           "lakecolor": "white",
           "landcolor": "white",
           "showlakes": true,
           "showland": true,
           "subunitcolor": "#C8D4E3"
          },
          "hoverlabel": {
           "align": "left"
          },
          "hovermode": "closest",
          "mapbox": {
           "style": "light"
          },
          "paper_bgcolor": "white",
          "plot_bgcolor": "white",
          "polar": {
           "angularaxis": {
            "gridcolor": "#EBF0F8",
            "linecolor": "#EBF0F8",
            "ticks": ""
           },
           "bgcolor": "white",
           "radialaxis": {
            "gridcolor": "#EBF0F8",
            "linecolor": "#EBF0F8",
            "ticks": ""
           }
          },
          "scene": {
           "xaxis": {
            "backgroundcolor": "white",
            "gridcolor": "#DFE8F3",
            "gridwidth": 2,
            "linecolor": "#EBF0F8",
            "showbackground": true,
            "ticks": "",
            "zerolinecolor": "#EBF0F8"
           },
           "yaxis": {
            "backgroundcolor": "white",
            "gridcolor": "#DFE8F3",
            "gridwidth": 2,
            "linecolor": "#EBF0F8",
            "showbackground": true,
            "ticks": "",
            "zerolinecolor": "#EBF0F8"
           },
           "zaxis": {
            "backgroundcolor": "white",
            "gridcolor": "#DFE8F3",
            "gridwidth": 2,
            "linecolor": "#EBF0F8",
            "showbackground": true,
            "ticks": "",
            "zerolinecolor": "#EBF0F8"
           }
          },
          "shapedefaults": {
           "line": {
            "color": "#2a3f5f"
           }
          },
          "ternary": {
           "aaxis": {
            "gridcolor": "#DFE8F3",
            "linecolor": "#A2B1C6",
            "ticks": ""
           },
           "baxis": {
            "gridcolor": "#DFE8F3",
            "linecolor": "#A2B1C6",
            "ticks": ""
           },
           "bgcolor": "white",
           "caxis": {
            "gridcolor": "#DFE8F3",
            "linecolor": "#A2B1C6",
            "ticks": ""
           }
          },
          "title": {
           "x": 0.05
          },
          "xaxis": {
           "automargin": true,
           "gridcolor": "#EBF0F8",
           "linecolor": "#EBF0F8",
           "ticks": "",
           "title": {
            "standoff": 15
           },
           "zerolinecolor": "#EBF0F8",
           "zerolinewidth": 2
          },
          "yaxis": {
           "automargin": true,
           "gridcolor": "#EBF0F8",
           "linecolor": "#EBF0F8",
           "ticks": "",
           "title": {
            "standoff": 15
           },
           "zerolinecolor": "#EBF0F8",
           "zerolinewidth": 2
          }
         }
        },
        "title": {
         "text": "Evolução Temporal da Razão População (38-58 anos) / Empresas por Estado (2007-2022)"
        },
        "xaxis": {
         "title": {
          "text": "Ano"
         }
        },
        "yaxis": {
         "title": {
          "text": "Razão População/Empresas"
         }
        }
       }
      }
     },
     "metadata": {},
     "output_type": "display_data"
    }
   ],
   "source": [
    "fig = go.Figure()\n",
    "\n",
    "# Adicionando dados históricos e previsões para cada estado\n",
    "for estado in razao_populacao_empresa_corrigida.columns:\n",
    "    # Dados históricos\n",
    "    fig.add_trace(\n",
    "        go.Scatter(\n",
    "            x=razao_populacao_empresa_corrigida.index,\n",
    "            y=razao_populacao_empresa_corrigida[estado],\n",
    "            mode=\"lines+markers\",\n",
    "            name=f\"{estado} (Histórico)\",\n",
    "            hovertemplate=\"Estado: \"\n",
    "            + estado\n",
    "            + \"<br>Ano: %{x}<br>Razão: %{y:.2f}<extra></extra>\",\n",
    "        )\n",
    "    )\n",
    "\n",
    "    # Dados de previsão\n",
    "    fig.add_trace(\n",
    "        go.Scatter(\n",
    "            x=previsao_2021_2022.index,\n",
    "            y=previsao_2021_2022[estado],\n",
    "            mode=\"lines+markers\",\n",
    "            line=dict(dash=\"dash\"),\n",
    "            name=f\"{estado} (Previsão)\",\n",
    "            hovertemplate=\"Estado: \"\n",
    "            + estado\n",
    "            + \"<br>Ano: %{x}<br>Razão: %{y:.2f}<extra></extra>\",\n",
    "        )\n",
    "    )\n",
    "\n",
    "# Configurando o layout\n",
    "fig.update_layout(\n",
    "    title=\"Evolução Temporal da Razão População (38-58 anos) / Empresas por Estado (2007-2022)\",\n",
    "    xaxis_title=\"Ano\",\n",
    "    yaxis_title=\"Razão População/Empresas\",\n",
    "    legend_title=\"Estados\",\n",
    "    hovermode=\"closest\",\n",
    "    template=\"plotly_white\",\n",
    "    height=600,\n",
    ")\n",
    "\n",
    "\n",
    "fig.show()"
   ]
  },
  {
   "cell_type": "markdown",
   "metadata": {},
   "source": [
    "Observações:\n",
    "* Minas Gerais, Rio de Janeiro, Bahia e Paraná continuam com uma razão alta e crescimento estável, reforçando sinais de possível saturação.\n",
    "* Acre e Amazonas apresentam crescimento mais modesto, sugerindo oportunidades de expansão."
   ]
  },
  {
   "cell_type": "code",
   "execution_count": 70,
   "metadata": {},
   "outputs": [
    {
     "data": {
      "application/vnd.plotly.v1+json": {
       "config": {
        "plotlyServerURL": "https://plot.ly"
       },
       "data": [
        {
         "hovertemplate": "Região: Centro-Oeste<br>Ano: %{x}<br>Razão Média: %{y:.2f}<extra></extra>",
         "mode": "lines+markers",
         "name": "Centro-Oeste (Histórico)",
         "type": "scatter",
         "x": {
          "bdata": "1wfYB9kH2gfbB9wH3QfeB98H4AfhB+IH4wfkBw==",
          "dtype": "i2"
         },
         "y": {
          "bdata": "LS0tLY0psEAeHh4e/pywQA8PDw8vDLFADw8PD891sUBLS0tLK9qxQHh4eHi4O7JAHh4eHl6cskAeHh4efv6yQA8PDw9PY7NAxMPDw6PLs0AeHh4enja0QAAAAABAorRAHh4eHp4MtUAeHh4evnG1QA==",
          "dtype": "f8"
         }
        },
        {
         "hovertemplate": "Região: Centro-Oeste<br>Ano: %{x}<br>Razão Média: %{y:.2f}<extra></extra>",
         "line": {
          "dash": "dash"
         },
         "mode": "lines+markers",
         "name": "Centro-Oeste (Previsão)",
         "type": "scatter",
         "x": {
          "bdata": "5QfmBw==",
          "dtype": "i2"
         },
         "y": {
          "bdata": "IMu/C6vUtUAgJDITZDu2QA==",
          "dtype": "f8"
         }
        },
        {
         "hovertemplate": "Região: Sul<br>Ano: %{x}<br>Razão Média: %{y:.2f}<extra></extra>",
         "mode": "lines+markers",
         "name": "Sul (Histórico)",
         "type": "scatter",
         "x": {
          "bdata": "1wfYB9kH2gfbB9wH3QfeB98H4AfhB+IH4wfkBw==",
          "dtype": "i2"
         },
         "y": {
          "bdata": "IyMjI0Mq8UDT0tLSCn7xQMPDw8Ojy/FA6+vr67MS8kBQUFBQYFPyQNjX19cPkPJA4uHh4bHK8kBqaWlp8QXzQB4eHh6OQ/NANzc3N1+E80DY19fXj8fzQLq5ubm5C/RAtbS0tERP9EAfHh4epo70QA==",
          "dtype": "f8"
         }
        },
        {
         "hovertemplate": "Região: Sul<br>Ano: %{x}<br>Razão Média: %{y:.2f}<extra></extra>",
         "line": {
          "dash": "dash"
         },
         "mode": "lines+markers",
         "name": "Sul (Previsão)",
         "type": "scatter",
         "x": {
          "bdata": "5QfmBw==",
          "dtype": "i2"
         },
         "y": {
          "bdata": "YLUoXv3P9ECzFGmvBBH1QA==",
          "dtype": "f8"
         }
        },
        {
         "hovertemplate": "Região: Sudeste<br>Ano: %{x}<br>Razão Média: %{y:.2f}<extra></extra>",
         "mode": "lines+markers",
         "name": "Sudeste (Histórico)",
         "type": "scatter",
         "x": {
          "bdata": "1wfYB9kH2gfbB9wH3QfeB98H4AfhB+IH4wfkBw==",
          "dtype": "i2"
         },
         "y": {
          "bdata": "4uHh4et1AkEAAAAA3dQCQVpaWlpoLwNBpqWlpcuEA0FMS0tL/9QDQQAAAABvIgRB8fDw8JpuBEEPDw8PbrsEQS0tLS3qCQVBLi0tLcVaBUFMS0tLTq0FQVpaWlqS/wVB4uHh4SpQBkHEw8PDDpsGQQ==",
          "dtype": "f8"
         }
        },
        {
         "hovertemplate": "Região: Sudeste<br>Ano: %{x}<br>Razão Média: %{y:.2f}<extra></extra>",
         "line": {
          "dash": "dash"
         },
         "mode": "lines+markers",
         "name": "Sudeste (Previsão)",
         "type": "scatter",
         "x": {
          "bdata": "5QfmBw==",
          "dtype": "i2"
         },
         "y": {
          "bdata": "9CzQAszwBkHilG33YkEHQQ==",
          "dtype": "f8"
         }
        },
        {
         "hovertemplate": "Região: Norte<br>Ano: %{x}<br>Razão Média: %{y:.2f}<extra></extra>",
         "mode": "lines+markers",
         "name": "Norte (Histórico)",
         "type": "scatter",
         "x": {
          "bdata": "1wfYB9kH2gfbB9wH3QfeB98H4AfhB+IH4wfkBw==",
          "dtype": "i2"
         },
         "y": {
          "bdata": "PvViPjXxxkAzWKEzWM3HQFihM1ghrMhAcU0Ecg2LyUBYoTNY4WnKQGX3G2W3TMtASpIkSdI1zEARyDURSCbNQDURyDURHs5A51Mv5hMdz0B/o+x+YxHQQDNYoTM4l9BAkWsikIsf0UC/UXa/EaPRQA==",
          "dtype": "f8"
         }
        },
        {
         "hovertemplate": "Região: Norte<br>Ano: %{x}<br>Razão Média: %{y:.2f}<extra></extra>",
         "line": {
          "dash": "dash"
         },
         "mode": "lines+markers",
         "name": "Norte (Previsão)",
         "type": "scatter",
         "x": {
          "bdata": "5QfmBw==",
          "dtype": "i2"
         },
         "y": {
          "bdata": "+2EQ96H70UB7Am/J1HTSQA==",
          "dtype": "f8"
         }
        },
        {
         "hovertemplate": "Região: Nordeste<br>Ano: %{x}<br>Razão Média: %{y:.2f}<extra></extra>",
         "mode": "lines+markers",
         "name": "Nordeste (Histórico)",
         "type": "scatter",
         "x": {
          "bdata": "1wfYB9kH2gfbB9wH3QfeB98H4AfhB+IH4wfkBw==",
          "dtype": "i2"
         },
         "y": {
          "bdata": "vWcSvYd24UAYwmwXIufhQDXgijVgWOJAUqf8UZfJ4kAIs10IoznjQHNzc3ODquNAOY7jOE4e5EDlOI7j2JbkQOxCmO1SFeVA5ubm5uaZ5UCSkZGRkSLmQMofdcofrOZAH3XKH1U050CRkZGRAbbnQA==",
          "dtype": "f8"
         }
        },
        {
         "hovertemplate": "Região: Nordeste<br>Ano: %{x}<br>Razão Média: %{y:.2f}<extra></extra>",
         "line": {
          "dash": "dash"
         },
         "mode": "lines+markers",
         "name": "Nordeste (Previsão)",
         "type": "scatter",
         "x": {
          "bdata": "5QfmBw==",
          "dtype": "i2"
         },
         "y": {
          "bdata": "BY05Ag0R6ECnr0Wm/4voQA==",
          "dtype": "f8"
         }
        }
       ],
       "layout": {
        "height": 600,
        "hovermode": "closest",
        "legend": {
         "title": {
          "text": "Regiões"
         }
        },
        "template": {
         "data": {
          "bar": [
           {
            "error_x": {
             "color": "#2a3f5f"
            },
            "error_y": {
             "color": "#2a3f5f"
            },
            "marker": {
             "line": {
              "color": "white",
              "width": 0.5
             },
             "pattern": {
              "fillmode": "overlay",
              "size": 10,
              "solidity": 0.2
             }
            },
            "type": "bar"
           }
          ],
          "barpolar": [
           {
            "marker": {
             "line": {
              "color": "white",
              "width": 0.5
             },
             "pattern": {
              "fillmode": "overlay",
              "size": 10,
              "solidity": 0.2
             }
            },
            "type": "barpolar"
           }
          ],
          "carpet": [
           {
            "aaxis": {
             "endlinecolor": "#2a3f5f",
             "gridcolor": "#C8D4E3",
             "linecolor": "#C8D4E3",
             "minorgridcolor": "#C8D4E3",
             "startlinecolor": "#2a3f5f"
            },
            "baxis": {
             "endlinecolor": "#2a3f5f",
             "gridcolor": "#C8D4E3",
             "linecolor": "#C8D4E3",
             "minorgridcolor": "#C8D4E3",
             "startlinecolor": "#2a3f5f"
            },
            "type": "carpet"
           }
          ],
          "choropleth": [
           {
            "colorbar": {
             "outlinewidth": 0,
             "ticks": ""
            },
            "type": "choropleth"
           }
          ],
          "contour": [
           {
            "colorbar": {
             "outlinewidth": 0,
             "ticks": ""
            },
            "colorscale": [
             [
              0,
              "#0d0887"
             ],
             [
              0.1111111111111111,
              "#46039f"
             ],
             [
              0.2222222222222222,
              "#7201a8"
             ],
             [
              0.3333333333333333,
              "#9c179e"
             ],
             [
              0.4444444444444444,
              "#bd3786"
             ],
             [
              0.5555555555555556,
              "#d8576b"
             ],
             [
              0.6666666666666666,
              "#ed7953"
             ],
             [
              0.7777777777777778,
              "#fb9f3a"
             ],
             [
              0.8888888888888888,
              "#fdca26"
             ],
             [
              1,
              "#f0f921"
             ]
            ],
            "type": "contour"
           }
          ],
          "contourcarpet": [
           {
            "colorbar": {
             "outlinewidth": 0,
             "ticks": ""
            },
            "type": "contourcarpet"
           }
          ],
          "heatmap": [
           {
            "colorbar": {
             "outlinewidth": 0,
             "ticks": ""
            },
            "colorscale": [
             [
              0,
              "#0d0887"
             ],
             [
              0.1111111111111111,
              "#46039f"
             ],
             [
              0.2222222222222222,
              "#7201a8"
             ],
             [
              0.3333333333333333,
              "#9c179e"
             ],
             [
              0.4444444444444444,
              "#bd3786"
             ],
             [
              0.5555555555555556,
              "#d8576b"
             ],
             [
              0.6666666666666666,
              "#ed7953"
             ],
             [
              0.7777777777777778,
              "#fb9f3a"
             ],
             [
              0.8888888888888888,
              "#fdca26"
             ],
             [
              1,
              "#f0f921"
             ]
            ],
            "type": "heatmap"
           }
          ],
          "histogram": [
           {
            "marker": {
             "pattern": {
              "fillmode": "overlay",
              "size": 10,
              "solidity": 0.2
             }
            },
            "type": "histogram"
           }
          ],
          "histogram2d": [
           {
            "colorbar": {
             "outlinewidth": 0,
             "ticks": ""
            },
            "colorscale": [
             [
              0,
              "#0d0887"
             ],
             [
              0.1111111111111111,
              "#46039f"
             ],
             [
              0.2222222222222222,
              "#7201a8"
             ],
             [
              0.3333333333333333,
              "#9c179e"
             ],
             [
              0.4444444444444444,
              "#bd3786"
             ],
             [
              0.5555555555555556,
              "#d8576b"
             ],
             [
              0.6666666666666666,
              "#ed7953"
             ],
             [
              0.7777777777777778,
              "#fb9f3a"
             ],
             [
              0.8888888888888888,
              "#fdca26"
             ],
             [
              1,
              "#f0f921"
             ]
            ],
            "type": "histogram2d"
           }
          ],
          "histogram2dcontour": [
           {
            "colorbar": {
             "outlinewidth": 0,
             "ticks": ""
            },
            "colorscale": [
             [
              0,
              "#0d0887"
             ],
             [
              0.1111111111111111,
              "#46039f"
             ],
             [
              0.2222222222222222,
              "#7201a8"
             ],
             [
              0.3333333333333333,
              "#9c179e"
             ],
             [
              0.4444444444444444,
              "#bd3786"
             ],
             [
              0.5555555555555556,
              "#d8576b"
             ],
             [
              0.6666666666666666,
              "#ed7953"
             ],
             [
              0.7777777777777778,
              "#fb9f3a"
             ],
             [
              0.8888888888888888,
              "#fdca26"
             ],
             [
              1,
              "#f0f921"
             ]
            ],
            "type": "histogram2dcontour"
           }
          ],
          "mesh3d": [
           {
            "colorbar": {
             "outlinewidth": 0,
             "ticks": ""
            },
            "type": "mesh3d"
           }
          ],
          "parcoords": [
           {
            "line": {
             "colorbar": {
              "outlinewidth": 0,
              "ticks": ""
             }
            },
            "type": "parcoords"
           }
          ],
          "pie": [
           {
            "automargin": true,
            "type": "pie"
           }
          ],
          "scatter": [
           {
            "fillpattern": {
             "fillmode": "overlay",
             "size": 10,
             "solidity": 0.2
            },
            "type": "scatter"
           }
          ],
          "scatter3d": [
           {
            "line": {
             "colorbar": {
              "outlinewidth": 0,
              "ticks": ""
             }
            },
            "marker": {
             "colorbar": {
              "outlinewidth": 0,
              "ticks": ""
             }
            },
            "type": "scatter3d"
           }
          ],
          "scattercarpet": [
           {
            "marker": {
             "colorbar": {
              "outlinewidth": 0,
              "ticks": ""
             }
            },
            "type": "scattercarpet"
           }
          ],
          "scattergeo": [
           {
            "marker": {
             "colorbar": {
              "outlinewidth": 0,
              "ticks": ""
             }
            },
            "type": "scattergeo"
           }
          ],
          "scattergl": [
           {
            "marker": {
             "colorbar": {
              "outlinewidth": 0,
              "ticks": ""
             }
            },
            "type": "scattergl"
           }
          ],
          "scattermap": [
           {
            "marker": {
             "colorbar": {
              "outlinewidth": 0,
              "ticks": ""
             }
            },
            "type": "scattermap"
           }
          ],
          "scattermapbox": [
           {
            "marker": {
             "colorbar": {
              "outlinewidth": 0,
              "ticks": ""
             }
            },
            "type": "scattermapbox"
           }
          ],
          "scatterpolar": [
           {
            "marker": {
             "colorbar": {
              "outlinewidth": 0,
              "ticks": ""
             }
            },
            "type": "scatterpolar"
           }
          ],
          "scatterpolargl": [
           {
            "marker": {
             "colorbar": {
              "outlinewidth": 0,
              "ticks": ""
             }
            },
            "type": "scatterpolargl"
           }
          ],
          "scatterternary": [
           {
            "marker": {
             "colorbar": {
              "outlinewidth": 0,
              "ticks": ""
             }
            },
            "type": "scatterternary"
           }
          ],
          "surface": [
           {
            "colorbar": {
             "outlinewidth": 0,
             "ticks": ""
            },
            "colorscale": [
             [
              0,
              "#0d0887"
             ],
             [
              0.1111111111111111,
              "#46039f"
             ],
             [
              0.2222222222222222,
              "#7201a8"
             ],
             [
              0.3333333333333333,
              "#9c179e"
             ],
             [
              0.4444444444444444,
              "#bd3786"
             ],
             [
              0.5555555555555556,
              "#d8576b"
             ],
             [
              0.6666666666666666,
              "#ed7953"
             ],
             [
              0.7777777777777778,
              "#fb9f3a"
             ],
             [
              0.8888888888888888,
              "#fdca26"
             ],
             [
              1,
              "#f0f921"
             ]
            ],
            "type": "surface"
           }
          ],
          "table": [
           {
            "cells": {
             "fill": {
              "color": "#EBF0F8"
             },
             "line": {
              "color": "white"
             }
            },
            "header": {
             "fill": {
              "color": "#C8D4E3"
             },
             "line": {
              "color": "white"
             }
            },
            "type": "table"
           }
          ]
         },
         "layout": {
          "annotationdefaults": {
           "arrowcolor": "#2a3f5f",
           "arrowhead": 0,
           "arrowwidth": 1
          },
          "autotypenumbers": "strict",
          "coloraxis": {
           "colorbar": {
            "outlinewidth": 0,
            "ticks": ""
           }
          },
          "colorscale": {
           "diverging": [
            [
             0,
             "#8e0152"
            ],
            [
             0.1,
             "#c51b7d"
            ],
            [
             0.2,
             "#de77ae"
            ],
            [
             0.3,
             "#f1b6da"
            ],
            [
             0.4,
             "#fde0ef"
            ],
            [
             0.5,
             "#f7f7f7"
            ],
            [
             0.6,
             "#e6f5d0"
            ],
            [
             0.7,
             "#b8e186"
            ],
            [
             0.8,
             "#7fbc41"
            ],
            [
             0.9,
             "#4d9221"
            ],
            [
             1,
             "#276419"
            ]
           ],
           "sequential": [
            [
             0,
             "#0d0887"
            ],
            [
             0.1111111111111111,
             "#46039f"
            ],
            [
             0.2222222222222222,
             "#7201a8"
            ],
            [
             0.3333333333333333,
             "#9c179e"
            ],
            [
             0.4444444444444444,
             "#bd3786"
            ],
            [
             0.5555555555555556,
             "#d8576b"
            ],
            [
             0.6666666666666666,
             "#ed7953"
            ],
            [
             0.7777777777777778,
             "#fb9f3a"
            ],
            [
             0.8888888888888888,
             "#fdca26"
            ],
            [
             1,
             "#f0f921"
            ]
           ],
           "sequentialminus": [
            [
             0,
             "#0d0887"
            ],
            [
             0.1111111111111111,
             "#46039f"
            ],
            [
             0.2222222222222222,
             "#7201a8"
            ],
            [
             0.3333333333333333,
             "#9c179e"
            ],
            [
             0.4444444444444444,
             "#bd3786"
            ],
            [
             0.5555555555555556,
             "#d8576b"
            ],
            [
             0.6666666666666666,
             "#ed7953"
            ],
            [
             0.7777777777777778,
             "#fb9f3a"
            ],
            [
             0.8888888888888888,
             "#fdca26"
            ],
            [
             1,
             "#f0f921"
            ]
           ]
          },
          "colorway": [
           "#636efa",
           "#EF553B",
           "#00cc96",
           "#ab63fa",
           "#FFA15A",
           "#19d3f3",
           "#FF6692",
           "#B6E880",
           "#FF97FF",
           "#FECB52"
          ],
          "font": {
           "color": "#2a3f5f"
          },
          "geo": {
           "bgcolor": "white",
           "lakecolor": "white",
           "landcolor": "white",
           "showlakes": true,
           "showland": true,
           "subunitcolor": "#C8D4E3"
          },
          "hoverlabel": {
           "align": "left"
          },
          "hovermode": "closest",
          "mapbox": {
           "style": "light"
          },
          "paper_bgcolor": "white",
          "plot_bgcolor": "white",
          "polar": {
           "angularaxis": {
            "gridcolor": "#EBF0F8",
            "linecolor": "#EBF0F8",
            "ticks": ""
           },
           "bgcolor": "white",
           "radialaxis": {
            "gridcolor": "#EBF0F8",
            "linecolor": "#EBF0F8",
            "ticks": ""
           }
          },
          "scene": {
           "xaxis": {
            "backgroundcolor": "white",
            "gridcolor": "#DFE8F3",
            "gridwidth": 2,
            "linecolor": "#EBF0F8",
            "showbackground": true,
            "ticks": "",
            "zerolinecolor": "#EBF0F8"
           },
           "yaxis": {
            "backgroundcolor": "white",
            "gridcolor": "#DFE8F3",
            "gridwidth": 2,
            "linecolor": "#EBF0F8",
            "showbackground": true,
            "ticks": "",
            "zerolinecolor": "#EBF0F8"
           },
           "zaxis": {
            "backgroundcolor": "white",
            "gridcolor": "#DFE8F3",
            "gridwidth": 2,
            "linecolor": "#EBF0F8",
            "showbackground": true,
            "ticks": "",
            "zerolinecolor": "#EBF0F8"
           }
          },
          "shapedefaults": {
           "line": {
            "color": "#2a3f5f"
           }
          },
          "ternary": {
           "aaxis": {
            "gridcolor": "#DFE8F3",
            "linecolor": "#A2B1C6",
            "ticks": ""
           },
           "baxis": {
            "gridcolor": "#DFE8F3",
            "linecolor": "#A2B1C6",
            "ticks": ""
           },
           "bgcolor": "white",
           "caxis": {
            "gridcolor": "#DFE8F3",
            "linecolor": "#A2B1C6",
            "ticks": ""
           }
          },
          "title": {
           "x": 0.05
          },
          "xaxis": {
           "automargin": true,
           "gridcolor": "#EBF0F8",
           "linecolor": "#EBF0F8",
           "ticks": "",
           "title": {
            "standoff": 15
           },
           "zerolinecolor": "#EBF0F8",
           "zerolinewidth": 2
          },
          "yaxis": {
           "automargin": true,
           "gridcolor": "#EBF0F8",
           "linecolor": "#EBF0F8",
           "ticks": "",
           "title": {
            "standoff": 15
           },
           "zerolinecolor": "#EBF0F8",
           "zerolinewidth": 2
          }
         }
        },
        "title": {
         "text": "Evolução Temporal da Razão População (38-58 anos) / Empresas por Região (2007-2022)"
        },
        "xaxis": {
         "title": {
          "text": "Ano"
         }
        },
        "yaxis": {
         "title": {
          "text": "Razão Média População/Empresas"
         }
        }
       }
      }
     },
     "metadata": {},
     "output_type": "display_data"
    }
   ],
   "source": [
    "# Dicionário de regiões\n",
    "regioes = {\n",
    "    \"Acre\": \"Norte\",\n",
    "    \"Alagoas\": \"Nordeste\",\n",
    "    \"Amapá\": \"Norte\",\n",
    "    \"Amazonas\": \"Norte\",\n",
    "    \"Bahia\": \"Nordeste\",\n",
    "    \"Ceará\": \"Nordeste\",\n",
    "    \"Distrito Federal\": \"Centro-Oeste\",\n",
    "    \"Espírito Santo\": \"Sudeste\",\n",
    "    \"Goiás\": \"Centro-Oeste\",\n",
    "    \"Maranhão\": \"Nordeste\",\n",
    "    \"Mato Grosso\": \"Centro-Oeste\",\n",
    "    \"Mato Grosso do Sul\": \"Centro-Oeste\",\n",
    "    \"Minas Gerais\": \"Sudeste\",\n",
    "    \"Pará\": \"Norte\",\n",
    "    \"Paraíba\": \"Nordeste\",\n",
    "    \"Paraná\": \"Sul\",\n",
    "    \"Pernambuco\": \"Nordeste\",\n",
    "    \"Piauí\": \"Nordeste\",\n",
    "    \"Rio de Janeiro\": \"Sudeste\",\n",
    "    \"Rio Grande do Norte\": \"Nordeste\",\n",
    "    \"Rio Grande do Sul\": \"Sul\",\n",
    "    \"Rondônia\": \"Norte\",\n",
    "    \"Roraima\": \"Norte\",\n",
    "    \"Santa Catarina\": \"Sul\",\n",
    "    \"São Paulo\": \"Sudeste\",\n",
    "    \"Sergipe\": \"Nordeste\",\n",
    "    \"Tocantins\": \"Norte\",\n",
    "}\n",
    "\n",
    "# Criando um novo DataFrame para armazenar a média da razão por região\n",
    "razao_por_regiao = pd.DataFrame(index=razao_populacao_empresa_corrigida.index)\n",
    "\n",
    "for regiao in set(regioes.values()):\n",
    "    estados_da_regiao = [estado for estado, reg in regioes.items() if reg == regiao]\n",
    "    razao_por_regiao[regiao] = razao_populacao_empresa_corrigida[\n",
    "        estados_da_regiao\n",
    "    ].mean(axis=1)\n",
    "\n",
    "# Adicionando as previsões para 2021 e 2022\n",
    "previsao_por_regiao = pd.DataFrame(index=previsao_2021_2022.index)\n",
    "\n",
    "for regiao in set(regioes.values()):\n",
    "    estados_da_regiao = [estado for estado, reg in regioes.items() if reg == regiao]\n",
    "    previsao_por_regiao[regiao] = previsao_2021_2022[estados_da_regiao].mean(axis=1)\n",
    "\n",
    "# Criando o gráfico interativo\n",
    "fig = go.Figure()\n",
    "\n",
    "# Adicionando as linhas para cada região\n",
    "for regiao in razao_por_regiao.columns:\n",
    "    # Dados históricos\n",
    "    fig.add_trace(\n",
    "        go.Scatter(\n",
    "            x=razao_por_regiao.index,\n",
    "            y=razao_por_regiao[regiao],\n",
    "            mode=\"lines+markers\",\n",
    "            name=f\"{regiao} (Histórico)\",\n",
    "            hovertemplate=\"Região: \"\n",
    "            + regiao\n",
    "            + \"<br>Ano: %{x}<br>Razão Média: %{y:.2f}<extra></extra>\",\n",
    "        )\n",
    "    )\n",
    "\n",
    "    # Dados de previsão\n",
    "    fig.add_trace(\n",
    "        go.Scatter(\n",
    "            x=previsao_por_regiao.index,\n",
    "            y=previsao_por_regiao[regiao],\n",
    "            mode=\"lines+markers\",\n",
    "            line=dict(dash=\"dash\"),\n",
    "            name=f\"{regiao} (Previsão)\",\n",
    "            hovertemplate=\"Região: \"\n",
    "            + regiao\n",
    "            + \"<br>Ano: %{x}<br>Razão Média: %{y:.2f}<extra></extra>\",\n",
    "        )\n",
    "    )\n",
    "\n",
    "# Configurando o layout\n",
    "fig.update_layout(\n",
    "    title=\"Evolução Temporal da Razão População (38-58 anos) / Empresas por Região (2007-2022)\",\n",
    "    xaxis_title=\"Ano\",\n",
    "    yaxis_title=\"Razão Média População/Empresas\",\n",
    "    legend_title=\"Regiões\",\n",
    "    hovermode=\"closest\",\n",
    "    template=\"plotly_white\",\n",
    "    height=600,\n",
    ")\n",
    "\n",
    "# Mostrando o gráfico interativo\n",
    "fig.show()"
   ]
  },
  {
   "cell_type": "markdown",
   "metadata": {},
   "source": [
    "**Identificação das Regiões com Maiores Oportunidades:**\n",
    "As regiões com razão mais baixa e crescimento constante ou acelerado são as que oferecem maiores oportunidades.\n",
    "\n",
    "* Norte: Apresenta a menor razão, com crescimento visível ao longo do tempo.\n",
    "    * Conclusão: Ainda é um mercado menos saturado, com maior potencial de expansão, especialmente em estados como Acre, Rondônia e Amapá.\n",
    "\n",
    "* Centro-Oeste: Também apresenta uma razão relativamente baixa, mas com um crescimento estável e oportunidades em áreas específicas.\n",
    "    * Conclusão: Oferece boas oportunidades, especialmente em estados como Mato Grosso e Goiás.\n",
    "\n",
    "**Resumo das Oportunidades e Saturação:**\n",
    "* Regiões Saturadas: Sudeste e Nordeste.\n",
    "* Regiões com Oportunidades Futuras: Norte e Centro-Oeste."
   ]
  },
  {
   "cell_type": "markdown",
   "metadata": {},
   "source": [
    "# Análise de saturação e oportunidades futuras"
   ]
  },
  {
   "cell_type": "code",
   "execution_count": 74,
   "metadata": {},
   "outputs": [
    {
     "data": {
      "text/plain": [
       "(['Rio de Janeiro',\n",
       "  'Espírito Santo',\n",
       "  'Piauí',\n",
       "  'Mato Grosso do Sul',\n",
       "  'Pernambuco',\n",
       "  'Tocantins',\n",
       "  'Bahia',\n",
       "  'Pará',\n",
       "  'Rio Grande do Sul',\n",
       "  'Rio Grande do Norte',\n",
       "  'Brasil',\n",
       "  'Minas Gerais',\n",
       "  'São Paulo',\n",
       "  'Ceará',\n",
       "  'Santa Catarina',\n",
       "  'Alagoas',\n",
       "  'Paraíba',\n",
       "  'Maranhão',\n",
       "  'Roraima',\n",
       "  'Sergipe',\n",
       "  'Amazonas',\n",
       "  'Paraná'],\n",
       " [])"
      ]
     },
     "execution_count": 74,
     "metadata": {},
     "output_type": "execute_result"
    }
   ],
   "source": [
    "# Calculo da taxa de crescimento entre 2020 e 2022\n",
    "taxa_crescimento = (\n",
    "    previsao_2021_2022.loc[2022] - razao_populacao_empresa_corrigida.loc[2020]\n",
    ") / razao_populacao_empresa_corrigida.loc[2020]\n",
    "\n",
    "# Classificando estados em saturados e com oportunidades futuras\n",
    "estados_saturados = taxa_crescimento[\n",
    "    taxa_crescimento < 0.05\n",
    "].index.tolist()  # Crescimento < 5%\n",
    "estados_oportunidades = taxa_crescimento[\n",
    "    taxa_crescimento > 0.15\n",
    "].index.tolist()  # Crescimento > 15%\n",
    "\n",
    "\n",
    "estados_saturados, estados_oportunidades"
   ]
  },
  {
   "cell_type": "code",
   "execution_count": 73,
   "metadata": {},
   "outputs": [
    {
     "data": {
      "application/vnd.plotly.v1+json": {
       "config": {
        "plotlyServerURL": "https://plot.ly"
       },
       "data": [
        {
         "hovertemplate": "Estado: Rio de Janeiro<br>Ano: %{x}<br>Razão: %{y:.2f}<extra></extra>",
         "mode": "lines+markers",
         "name": "Rio de Janeiro (Histórico)",
         "type": "scatter",
         "x": {
          "bdata": "1wfYB9kH2gfbB9wH3QfeB98H4AfhB+IH4wfkBw==",
          "dtype": "i2"
         },
         "y": {
          "bdata": "iIeHh8f+/kA8PDw8VHP/QHh4eHjQ3/9AaWlpaTUiAEGXlpaWllAAQdPS0tK2fABBiIeHh8+nAEGIh4eHB9MAQVpaWlrG/gBBpqWlpaErAUFaWlpaJlkBQbW0tLTAhQFBiIeHhyuwAUG1tLS0BNQBQQ==",
          "dtype": "f8"
         }
        },
        {
         "hovertemplate": "Estado: Rio de Janeiro<br>Ano: %{x}<br>Razão: %{y:.2f}<extra></extra>",
         "line": {
          "dash": "dash"
         },
         "mode": "lines+markers",
         "name": "Rio de Janeiro (Previsão)",
         "type": "scatter",
         "x": {
          "bdata": "5QfmBw==",
          "dtype": "i2"
         },
         "y": {
          "bdata": "MIpXLXINAkHgmzbizzoCQQ==",
          "dtype": "f8"
         }
        },
        {
         "hovertemplate": "Estado: Espírito Santo<br>Ano: %{x}<br>Razão: %{y:.2f}<extra></extra>",
         "mode": "lines+markers",
         "name": "Espírito Santo (Histórico)",
         "type": "scatter",
         "x": {
          "bdata": "1wfYB9kH2gfbB9wH3QfeB98H4AfhB+IH4wfkBw==",
          "dtype": "i2"
         },
         "y": {
          "bdata": "S0tLS2vP2EBpaWlpiXbZQGlpaWkJFtpAl5aWlrar2kAtLS0tDTjbQA8PDw8PwNtAeHh4eJhG3EAPDw8Pj8/cQA8PDw/PXN1Al5aWlvbu3UAeHh4eXoXeQLW0tLQUHd9A4uHh4eG030Dx8PDwUCPgQA==",
          "dtype": "f8"
         }
        },
        {
         "hovertemplate": "Estado: Espírito Santo<br>Ano: %{x}<br>Razão: %{y:.2f}<extra></extra>",
         "line": {
          "dash": "dash"
         },
         "mode": "lines+markers",
         "name": "Espírito Santo (Previsão)",
         "type": "scatter",
         "x": {
          "bdata": "5QfmBw==",
          "dtype": "i2"
         },
         "y": {
          "bdata": "AH1H8Bxn4ECggMyLYK/gQA==",
          "dtype": "f8"
         }
        },
        {
         "hovertemplate": "Estado: Piauí<br>Ano: %{x}<br>Razão: %{y:.2f}<extra></extra>",
         "mode": "lines+markers",
         "name": "Piauí (Histórico)",
         "type": "scatter",
         "x": {
          "bdata": "1wfYB9kH2gfbB9wH3QfeB98H4AfhB+IH4wfkBw==",
          "dtype": "i2"
         },
         "y": {
          "bdata": "AAAAAICi0kAeHh4efgvTQGlpaWlJddNAtbS0tNTg00DEw8PDQ03UQPHw8PCwu9RAHh4eHl4u1UBpaWlpaafVQJeWlpZWKNZA4uHh4UGx1kDx8PDwkD/XQLW0tLT0z9dA8fDw8LBf2EAPDw8Pr+nYQA==",
          "dtype": "f8"
         }
        },
        {
         "hovertemplate": "Estado: Piauí<br>Ano: %{x}<br>Razão: %{y:.2f}<extra></extra>",
         "line": {
          "dash": "dash"
         },
         "mode": "lines+markers",
         "name": "Piauí (Previsão)",
         "type": "scatter",
         "x": {
          "bdata": "5QfmBw==",
          "dtype": "i2"
         },
         "y": {
          "bdata": "4O9lyO8y2UDATcy1ja7ZQA==",
          "dtype": "f8"
         }
        },
        {
         "hovertemplate": "Estado: Mato Grosso do Sul<br>Ano: %{x}<br>Razão: %{y:.2f}<extra></extra>",
         "mode": "lines+markers",
         "name": "Mato Grosso do Sul (Histórico)",
         "type": "scatter",
         "x": {
          "bdata": "1wfYB9kH2gfbB9wH3QfeB98H4AfhB+IH4wfkBw==",
          "dtype": "i2"
         },
         "y": {
          "bdata": "LS0tLY0p0EAeHh4e/pzQQA8PDw8vDNFADw8PD8910UBLS0tLK9rRQHh4eHi4O9JAHh4eHl6c0kAeHh4efv7SQA8PDw9PY9NAxMPDw6PL00AeHh4enjbUQAAAAABAotRAHh4eHp4M1UAeHh4evnHVQA==",
          "dtype": "f8"
         }
        },
        {
         "hovertemplate": "Estado: Mato Grosso do Sul<br>Ano: %{x}<br>Razão: %{y:.2f}<extra></extra>",
         "line": {
          "dash": "dash"
         },
         "mode": "lines+markers",
         "name": "Mato Grosso do Sul (Previsão)",
         "type": "scatter",
         "x": {
          "bdata": "5QfmBw==",
          "dtype": "i2"
         },
         "y": {
          "bdata": "IMu/C6vU1UAgJDITZDvWQA==",
          "dtype": "f8"
         }
        },
        {
         "hovertemplate": "Estado: Pernambuco<br>Ano: %{x}<br>Razão: %{y:.2f}<extra></extra>",
         "mode": "lines+markers",
         "name": "Pernambuco (Histórico)",
         "type": "scatter",
         "x": {
          "bdata": "1wfYB9kH2gfbB9wH3QfeB98H4AfhB+IH4wfkBw==",
          "dtype": "i2"
         },
         "y": {
          "bdata": "Dw8PDw8y60CXlpaWltrrQB4eHh6uhexA4uHh4SEy7UCIh4eHV97tQDw8PDy8jO5AeHh4eIg+70BpaWlpKfTvQIiHh4evVvBAiIeHhw+18EBLS0tLGxTxQNPS0tL6cfFA8fDw8JDN8UC1tLS0DCPyQA==",
          "dtype": "f8"
         }
        },
        {
         "hovertemplate": "Estado: Pernambuco<br>Ano: %{x}<br>Razão: %{y:.2f}<extra></extra>",
         "line": {
          "dash": "dash"
         },
         "mode": "lines+markers",
         "name": "Pernambuco (Previsão)",
         "type": "scatter",
         "x": {
          "bdata": "5QfmBw==",
          "dtype": "i2"
         },
         "y": {
          "bdata": "wOZqrnZ58kCgb1ORh9PyQA==",
          "dtype": "f8"
         }
        },
        {
         "hovertemplate": "Estado: Tocantins<br>Ano: %{x}<br>Razão: %{y:.2f}<extra></extra>",
         "mode": "lines+markers",
         "name": "Tocantins (Histórico)",
         "type": "scatter",
         "x": {
          "bdata": "1wfYB9kH2gfbB9wH3QfeB98H4AfhB+IH4wfkBw==",
          "dtype": "i2"
         },
         "y": {
          "bdata": "PDw8PLx8vkDT0tLS0oC/QNPS0tJSQ8BAtbS0tDTFwEDx8PDwMEfBQMTDw8ODzMFALS0tLe1VwkCXlpaWVuTCQFpaWlrad8NAiIeHhwcQxEDi4eHhYavEQPHw8PDwRsVAiIeHhwfhxUCXlpaWFnbGQA==",
          "dtype": "f8"
         }
        },
        {
         "hovertemplate": "Estado: Tocantins<br>Ano: %{x}<br>Razão: %{y:.2f}<extra></extra>",
         "line": {
          "dash": "dash"
         },
         "mode": "lines+markers",
         "name": "Tocantins (Previsão)",
         "type": "scatter",
         "x": {
          "bdata": "5QfmBw==",
          "dtype": "i2"
         },
         "y": {
          "bdata": "QI4PJs7lxkAAu3QPO3THQA==",
          "dtype": "f8"
         }
        },
        {
         "hovertemplate": "Estado: Bahia<br>Ano: %{x}<br>Razão: %{y:.2f}<extra></extra>",
         "mode": "lines+markers",
         "name": "Bahia (Histórico)",
         "type": "scatter",
         "x": {
          "bdata": "1wfYB9kH2gfbB9wH3QfeB98H4AfhB+IH4wfkBw==",
          "dtype": "i2"
         },
         "y": {
          "bdata": "Dw8PD/dX9UAtLS0tFd31QJeWlpa2Y/ZAiIeHhy/r9kA8PDw8BHL3QB4eHh6W+vdAAAAAAFCH+EDEw8PDAxv5QAAAAABYt/lAiIeHh9dc+kAPDw8Pdwn7QC0tLS1tuftAWlpaWgJp/EDEw8PD8xD9QA==",
          "dtype": "f8"
         }
        },
        {
         "hovertemplate": "Estado: Bahia<br>Ano: %{x}<br>Razão: %{y:.2f}<extra></extra>",
         "line": {
          "dash": "dash"
         },
         "mode": "lines+markers",
         "name": "Bahia (Previsão)",
         "type": "scatter",
         "x": {
          "bdata": "5QfmBw==",
          "dtype": "i2"
         },
         "y": {
          "bdata": "gAYrdL5v/UDAOV6ncQf+QA==",
          "dtype": "f8"
         }
        },
        {
         "hovertemplate": "Estado: Pará<br>Ano: %{x}<br>Razão: %{y:.2f}<extra></extra>",
         "mode": "lines+markers",
         "name": "Pará (Histórico)",
         "type": "scatter",
         "x": {
          "bdata": "1wfYB9kH2gfbB9wH3QfeB98H4AfhB+IH4wfkBw==",
          "dtype": "i2"
         },
         "y": {
          "bdata": "8fDw8FAv40APDw8Pr9vjQA8PDw9/iuRAaWlpaVk55UBaWlpauuflQKalpaVVmeZAWlpaWnpQ50DT0tLSMg7oQA8PDw9v0uhApqWlpSWd6UDx8PDwUG3qQFpaWlqaQOtApqWlpSUX7EAAAAAAUOzsQA==",
          "dtype": "f8"
         }
        },
        {
         "hovertemplate": "Estado: Pará<br>Ano: %{x}<br>Razão: %{y:.2f}<extra></extra>",
         "line": {
          "dash": "dash"
         },
         "mode": "lines+markers",
         "name": "Pará (Previsão)",
         "type": "scatter",
         "x": {
          "bdata": "5QfmBw==",
          "dtype": "i2"
         },
         "y": {
          "bdata": "APWo6WRy7UDAVuOtpjHuQA==",
          "dtype": "f8"
         }
        },
        {
         "hovertemplate": "Estado: Rio Grande do Sul<br>Ano: %{x}<br>Razão: %{y:.2f}<extra></extra>",
         "mode": "lines+markers",
         "name": "Rio Grande do Sul (Histórico)",
         "type": "scatter",
         "x": {
          "bdata": "1wfYB9kH2gfbB9wH3QfeB98H4AfhB+IH4wfkBw==",
          "dtype": "i2"
         },
         "y": {
          "bdata": "09LS0tIr9UAeHh4ermb1QB4eHh42mPVAaWlpacnA9UA8PDw8fOD1QPHw8PDA+fVALS0tLVUP9kAAAAAAkCT2QPHw8PDIO/ZAiIeHhw9W9kCIh4eHh3L2QOLh4eFBj/ZAxMPDw+Oq9kA8PDw8lML2QA==",
          "dtype": "f8"
         }
        },
        {
         "hovertemplate": "Estado: Rio Grande do Sul<br>Ano: %{x}<br>Razão: %{y:.2f}<extra></extra>",
         "line": {
          "dash": "dash"
         },
         "mode": "lines+markers",
         "name": "Rio Grande do Sul (Previsão)",
         "type": "scatter",
         "x": {
          "bdata": "5QfmBw==",
          "dtype": "i2"
         },
         "y": {
          "bdata": "IBpmJVLq9kD4LFf6LAf3QA==",
          "dtype": "f8"
         }
        },
        {
         "hovertemplate": "Estado: Rio Grande do Norte<br>Ano: %{x}<br>Razão: %{y:.2f}<extra></extra>",
         "mode": "lines+markers",
         "name": "Rio Grande do Norte (Histórico)",
         "type": "scatter",
         "x": {
          "bdata": "1wfYB9kH2gfbB9wH3QfeB98H4AfhB+IH4wfkBw==",
          "dtype": "i2"
         },
         "y": {
          "bdata": "Dw8PDw9900AeHh4eHgjUQJeWlpa2k9RADw8PD28f1UAeHh4eHqnVQMTDw8PjMdZA8fDw8NC61kBaWlpaOkXXQJeWlpa20tdA4uHh4WFj2EDi4eHhYfTYQKalpaVlgdlAl5aWlrYI2kBaWlpa2obaQA==",
          "dtype": "f8"
         }
        },
        {
         "hovertemplate": "Estado: Rio Grande do Norte<br>Ano: %{x}<br>Razão: %{y:.2f}<extra></extra>",
         "line": {
          "dash": "dash"
         },
         "mode": "lines+markers",
         "name": "Rio Grande do Norte (Previsão)",
         "type": "scatter",
         "x": {
          "bdata": "5QfmBw==",
          "dtype": "i2"
         },
         "y": {
          "bdata": "ACUD5yQb20DAa3HLi6bbQA==",
          "dtype": "f8"
         }
        },
        {
         "hovertemplate": "Estado: Brasil<br>Ano: %{x}<br>Razão: %{y:.2f}<extra></extra>",
         "mode": "lines+markers",
         "name": "Brasil (Histórico)",
         "type": "scatter",
         "x": {
          "bdata": "1wfYB9kH2gfbB9wH3QfeB98H4AfhB+IH4wfkBw==",
          "dtype": "i2"
         },
         "y": {
          "bdata": "WlpaWmUINEEtLS0ten80QfHw8PB08zRBtbS0NGxjNUGIh4eHD881QbW0tDQXOTZB4uHh4WejNkGIh4cHKBA3QaalpaWPgDdBxMPDQzX1N0HT0tJS5mw4QbW0tDRB5ThBxMPDw2pcOUEPDw+P/Mw5QQ==",
          "dtype": "f8"
         }
        },
        {
         "hovertemplate": "Estado: Brasil<br>Ano: %{x}<br>Razão: %{y:.2f}<extra></extra>",
         "line": {
          "dash": "dash"
         },
         "mode": "lines+markers",
         "name": "Brasil (Previsão)",
         "type": "scatter",
         "x": {
          "bdata": "5QfmBw==",
          "dtype": "i2"
         },
         "y": {
          "bdata": "oEh7JWYyOkFA3tVOEKM6QQ==",
          "dtype": "f8"
         }
        },
        {
         "hovertemplate": "Estado: Minas Gerais<br>Ano: %{x}<br>Razão: %{y:.2f}<extra></extra>",
         "mode": "lines+markers",
         "name": "Minas Gerais (Histórico)",
         "type": "scatter",
         "x": {
          "bdata": "1wfYB9kH2gfbB9wH3QfeB98H4AfhB+IH4wfkBw==",
          "dtype": "i2"
         },
         "y": {
          "bdata": "Hh4eHnKFAUHx8PDw4N8BQQ8PDw+/NQJBLS0tLf2FAkEeHh4ertACQdPS0tICGQNB09LS0nZgA0EPDw8Py6gDQaalpaX58gNBHh4eHqY/BEEtLS0tJY4EQeLh4eEB3QRBiIeHh8cqBUE8PDw8GHQFQQ==",
          "dtype": "f8"
         }
        },
        {
         "hovertemplate": "Estado: Minas Gerais<br>Ano: %{x}<br>Razão: %{y:.2f}<extra></extra>",
         "line": {
          "dash": "dash"
         },
         "mode": "lines+markers",
         "name": "Minas Gerais (Previsão)",
         "type": "scatter",
         "x": {
          "bdata": "5QfmBw==",
          "dtype": "i2"
         },
         "y": {
          "bdata": "4KpF8U7BBUHAe0O/gw0GQQ==",
          "dtype": "f8"
         }
        },
        {
         "hovertemplate": "Estado: São Paulo<br>Ano: %{x}<br>Razão: %{y:.2f}<extra></extra>",
         "mode": "lines+markers",
         "name": "São Paulo (Histórico)",
         "type": "scatter",
         "x": {
          "bdata": "1wfYB9kH2gfbB9wH3QfeB98H4AfhB+IH4wfkBw==",
          "dtype": "i2"
         },
         "y": {
          "bdata": "Hh4eHnbcEkHi4eHhi0UTQXh4eHicqhNBl5aWlsIKFEFpaWlp22UUQTw8PDwAvhRBLS0tLakUFUHi4eHh+WsVQWlpaWknxRVBDw8PD/cgFkHx8PDwoH4WQR4eHh7y2xZBHh4eHo43F0Hx8PDwpI0XQQ==",
          "dtype": "f8"
         }
        },
        {
         "hovertemplate": "Estado: São Paulo<br>Ano: %{x}<br>Razão: %{y:.2f}<extra></extra>",
         "line": {
          "dash": "dash"
         },
         "mode": "lines+markers",
         "name": "São Paulo (Previsão)",
         "type": "scatter",
         "x": {
          "bdata": "5QfmBw==",
          "dtype": "i2"
         },
         "y": {
          "bdata": "wM9I2FPtF0HgjaQMsEgYQQ==",
          "dtype": "f8"
         }
        },
        {
         "hovertemplate": "Estado: Ceará<br>Ano: %{x}<br>Razão: %{y:.2f}<extra></extra>",
         "mode": "lines+markers",
         "name": "Ceará (Histórico)",
         "type": "scatter",
         "x": {
          "bdata": "1wfYB9kH2gfbB9wH3QfeB98H4AfhB+IH4wfkBw==",
          "dtype": "i2"
         },
         "y": {
          "bdata": "09LS0lIg6UBLS0tLm8XpQGlpaWnZaupAeHh4eMgO60Di4eHhUa/rQJeWlpaWT+xA09LS0jLz7EDi4eHh4ZztQMTDw8NDT+5AeHh4eBgK70BaWlpaCsnvQLW0tLSUQ/BAHh4eHvag8EBLS0tLK/nwQA==",
          "dtype": "f8"
         }
        },
        {
         "hovertemplate": "Estado: Ceará<br>Ano: %{x}<br>Razão: %{y:.2f}<extra></extra>",
         "line": {
          "dash": "dash"
         },
         "mode": "lines+markers",
         "name": "Ceará (Previsão)",
         "type": "scatter",
         "x": {
          "bdata": "5QfmBw==",
          "dtype": "i2"
         },
         "y": {
          "bdata": "oNiJnfg/8UDgkz/5w5bxQA==",
          "dtype": "f8"
         }
        },
        {
         "hovertemplate": "Estado: Santa Catarina<br>Ano: %{x}<br>Razão: %{y:.2f}<extra></extra>",
         "mode": "lines+markers",
         "name": "Santa Catarina (Histórico)",
         "type": "scatter",
         "x": {
          "bdata": "1wfYB9kH2gfbB9wH3QfeB98H4AfhB+IH4wfkBw==",
          "dtype": "i2"
         },
         "y": {
          "bdata": "iIeHh5fX5kCIh4eHR3PnQDw8PDwsCehAxMPDwxOa6EB4eHh4mCbpQAAAAADwselALS0tLZ0+6kDT0tLSMtDqQEtLS0traetAaWlpaSkL7EDx8PDwULTsQDw8PDyMZO1APDw8PHwZ7kAeHh4evszuQA==",
          "dtype": "f8"
         }
        },
        {
         "hovertemplate": "Estado: Santa Catarina<br>Ano: %{x}<br>Razão: %{y:.2f}<extra></extra>",
         "line": {
          "dash": "dash"
         },
         "mode": "lines+markers",
         "name": "Santa Catarina (Previsão)",
         "type": "scatter",
         "x": {
          "bdata": "5QfmBw==",
          "dtype": "i2"
         },
         "y": {
          "bdata": "wNMA0cMs70DAEv/DwsbvQA==",
          "dtype": "f8"
         }
        },
        {
         "hovertemplate": "Estado: Alagoas<br>Ano: %{x}<br>Razão: %{y:.2f}<extra></extra>",
         "mode": "lines+markers",
         "name": "Alagoas (Histórico)",
         "type": "scatter",
         "x": {
          "bdata": "1wfYB9kH2gfbB9wH3QfeB98H4AfhB+IH4wfkBw==",
          "dtype": "i2"
         },
         "y": {
          "bdata": "09LS0rKv0UDT0tLSUibSQLW0tLTUm9JAWlpaWvoO00BLS0tL637TQPHw8PAw7tNApqWlpUVf1ECXlpaWFtTUQB4eHh5eTdVAiIeHhwfL1UBpaWlpqUvWQAAAAACgy9ZAeHh4eFhI10CIh4eHB7zXQA==",
          "dtype": "f8"
         }
        },
        {
         "hovertemplate": "Estado: Alagoas<br>Ano: %{x}<br>Razão: %{y:.2f}<extra></extra>",
         "line": {
          "dash": "dash"
         },
         "mode": "lines+markers",
         "name": "Alagoas (Previsão)",
         "type": "scatter",
         "x": {
          "bdata": "5QfmBw==",
          "dtype": "i2"
         },
         "y": {
          "bdata": "oHenpBcn2EAA1X0KFZ7YQA==",
          "dtype": "f8"
         }
        },
        {
         "hovertemplate": "Estado: Paraíba<br>Ano: %{x}<br>Razão: %{y:.2f}<extra></extra>",
         "mode": "lines+markers",
         "name": "Paraíba (Histórico)",
         "type": "scatter",
         "x": {
          "bdata": "1wfYB9kH2gfbB9wH3QfeB98H4AfhB+IH4wfkBw==",
          "dtype": "i2"
         },
         "y": {
          "bdata": "AAAAAOAV10AeHh4efqDXQNPS0tISLNhAS0tLS2u52EA8PDw8vEfZQLW0tLT02NlA09LS0lJv2kAAAAAAgAzbQDw8PDx8sdtA8fDw8LBe3EB4eHh4+BDdQKalpaUlw91AeHh4eFhx3kCXlpaWdhTfQA==",
          "dtype": "f8"
         }
        },
        {
         "hovertemplate": "Estado: Paraíba<br>Ano: %{x}<br>Razão: %{y:.2f}<extra></extra>",
         "line": {
          "dash": "dash"
         },
         "mode": "lines+markers",
         "name": "Paraíba (Previsão)",
         "type": "scatter",
         "x": {
          "bdata": "5QfmBw==",
          "dtype": "i2"
         },
         "y": {
          "bdata": "wGqu5qqJ30BgIfdT8RPgQA==",
          "dtype": "f8"
         }
        },
        {
         "hovertemplate": "Estado: Maranhão<br>Ano: %{x}<br>Razão: %{y:.2f}<extra></extra>",
         "mode": "lines+markers",
         "name": "Maranhão (Histórico)",
         "type": "scatter",
         "x": {
          "bdata": "1wfYB9kH2gfbB9wH3QfeB98H4AfhB+IH4wfkBw==",
          "dtype": "i2"
         },
         "y": {
          "bdata": "LS0tLf2v4EAeHh4ezh7hQHh4eHh4jeFAPDw8PEz64UDx8PDwYGTiQA8PDw+Pz+JAl5aWluY/40BLS0tL27jjQHh4eHiIPORApqWlpUXL5ECIh4eHN2PlQKalpaVFAeZAeHh4eMij5kB4eHh4yEXnQA==",
          "dtype": "f8"
         }
        },
        {
         "hovertemplate": "Estado: Maranhão<br>Ano: %{x}<br>Razão: %{y:.2f}<extra></extra>",
         "line": {
          "dash": "dash"
         },
         "mode": "lines+markers",
         "name": "Maranhão (Previsão)",
         "type": "scatter",
         "x": {
          "bdata": "5QfmBw==",
          "dtype": "i2"
         },
         "y": {
          "bdata": "oG3btg1y50CAaB+NyPHnQA==",
          "dtype": "f8"
         }
        },
        {
         "hovertemplate": "Estado: Roraima<br>Ano: %{x}<br>Razão: %{y:.2f}<extra></extra>",
         "mode": "lines+markers",
         "name": "Roraima (Histórico)",
         "type": "scatter",
         "x": {
          "bdata": "1wfYB9kH2gfbB9wH3QfeB98H4AfhB+IH4wfkBw==",
          "dtype": "i2"
         },
         "y": {
          "bdata": "aWlpaWlwoUAPDw8PDzWiQDw8PDw8+aJAS0tLS0vDo0AAAAAAAJmkQPHw8PDweKVAWlpaWlplpkBLS0tLS2CnQC0tLS0tbKhA8fDw8PCIqUB4eHh4eMmqQEtLS0tLbKxA4uHh4eFjrkDT0tLSUgSwQA==",
          "dtype": "f8"
         }
        },
        {
         "hovertemplate": "Estado: Roraima<br>Ano: %{x}<br>Razão: %{y:.2f}<extra></extra>",
         "line": {
          "dash": "dash"
         },
         "mode": "lines+markers",
         "name": "Roraima (Previsão)",
         "type": "scatter",
         "x": {
          "bdata": "5QfmBw==",
          "dtype": "i2"
         },
         "y": {
          "bdata": "gA4PDw+tr0AAkiRJEmGwQA==",
          "dtype": "f8"
         }
        },
        {
         "hovertemplate": "Estado: Sergipe<br>Ano: %{x}<br>Razão: %{y:.2f}<extra></extra>",
         "mode": "lines+markers",
         "name": "Sergipe (Histórico)",
         "type": "scatter",
         "x": {
          "bdata": "1wfYB9kH2gfbB9wH3QfeB98H4AfhB+IH4wfkBw==",
          "dtype": "i2"
         },
         "y": {
          "bdata": "Hh4eHp4XyECIh4eHR+fIQMTDw8MDtslAHh4eHp6BykAPDw8Pj0jLQA8PDw/PDMxAaWlpaWnSzEDT0tLSUpzNQC0tLS1tbM5ADw8PDw9Dz0BaWlpa2g7QQB4eHh6ee9BALS0tLS3m0EC1tLS01ErRQA==",
          "dtype": "f8"
         }
        },
        {
         "hovertemplate": "Estado: Sergipe<br>Ano: %{x}<br>Razão: %{y:.2f}<extra></extra>",
         "line": {
          "dash": "dash"
         },
         "mode": "lines+markers",
         "name": "Sergipe (Previsão)",
         "type": "scatter",
         "x": {
          "bdata": "5QfmBw==",
          "dtype": "i2"
         },
         "y": {
          "bdata": "YAAXf0Cr0UCAwjibYhLSQA==",
          "dtype": "f8"
         }
        },
        {
         "hovertemplate": "Estado: Amazonas<br>Ano: %{x}<br>Razão: %{y:.2f}<extra></extra>",
         "mode": "lines+markers",
         "name": "Amazonas (Histórico)",
         "type": "scatter",
         "x": {
          "bdata": "1wfYB9kH2gfbB9wH3QfeB98H4AfhB+IH4wfkBw==",
          "dtype": "i2"
         },
         "y": {
          "bdata": "eHh4eHiB0EAtLS0tTS3RQIiHh4cH3dFAPDw8PHyQ0kAAAAAA4EbTQKalpaWFAdRA4uHh4WHC1ECIh4eHx4nVQDw8PDy8V9ZAS0tLS2ss10Dx8PDw0AfYQC0tLS3t6dhAxMPDw+PQ2UB4eHh4mKvaQA==",
          "dtype": "f8"
         }
        },
        {
         "hovertemplate": "Estado: Amazonas<br>Ano: %{x}<br>Razão: %{y:.2f}<extra></extra>",
         "line": {
          "dash": "dash"
         },
         "mode": "lines+markers",
         "name": "Amazonas (Previsão)",
         "type": "scatter",
         "x": {
          "bdata": "5QfmBw==",
          "dtype": "i2"
         },
         "y": {
          "bdata": "ABUjBLUz20AAmEYtGPzbQA==",
          "dtype": "f8"
         }
        },
        {
         "hovertemplate": "Estado: Paraná<br>Ano: %{x}<br>Razão: %{y:.2f}<extra></extra>",
         "mode": "lines+markers",
         "name": "Paraná (Histórico)",
         "type": "scatter",
         "x": {
          "bdata": "1wfYB9kH2gfbB9wH3QfeB98H4AfhB+IH4wfkBw==",
          "dtype": "i2"
         },
         "y": {
          "bdata": "09LS0irn8kCXlpaWzlnzQA8PDw8fxvNAeHh4eEgq9EB4eHh4WIb0QJeWlpZ23fRA4uHh4XEx9UDT0tLSKoX1QMTDw8Mr2vVAaWlpaXkx9kCIh4eH/4n2QC0tLS2l4fZAPDw8PCw290APDw8P/4L3QA==",
          "dtype": "f8"
         }
        },
        {
         "hovertemplate": "Estado: Paraná<br>Ano: %{x}<br>Razão: %{y:.2f}<extra></extra>",
         "line": {
          "dash": "dash"
         },
         "mode": "lines+markers",
         "name": "Paraná (Previsão)",
         "type": "scatter",
         "x": {
          "bdata": "5QfmBw==",
          "dtype": "i2"
         },
         "y": {
          "bdata": "IJyTDETv90DAh+Sxf0j4QA==",
          "dtype": "f8"
         }
        }
       ],
       "layout": {
        "height": 600,
        "hovermode": "closest",
        "legend": {
         "title": {
          "text": "Estados"
         }
        },
        "template": {
         "data": {
          "bar": [
           {
            "error_x": {
             "color": "#2a3f5f"
            },
            "error_y": {
             "color": "#2a3f5f"
            },
            "marker": {
             "line": {
              "color": "white",
              "width": 0.5
             },
             "pattern": {
              "fillmode": "overlay",
              "size": 10,
              "solidity": 0.2
             }
            },
            "type": "bar"
           }
          ],
          "barpolar": [
           {
            "marker": {
             "line": {
              "color": "white",
              "width": 0.5
             },
             "pattern": {
              "fillmode": "overlay",
              "size": 10,
              "solidity": 0.2
             }
            },
            "type": "barpolar"
           }
          ],
          "carpet": [
           {
            "aaxis": {
             "endlinecolor": "#2a3f5f",
             "gridcolor": "#C8D4E3",
             "linecolor": "#C8D4E3",
             "minorgridcolor": "#C8D4E3",
             "startlinecolor": "#2a3f5f"
            },
            "baxis": {
             "endlinecolor": "#2a3f5f",
             "gridcolor": "#C8D4E3",
             "linecolor": "#C8D4E3",
             "minorgridcolor": "#C8D4E3",
             "startlinecolor": "#2a3f5f"
            },
            "type": "carpet"
           }
          ],
          "choropleth": [
           {
            "colorbar": {
             "outlinewidth": 0,
             "ticks": ""
            },
            "type": "choropleth"
           }
          ],
          "contour": [
           {
            "colorbar": {
             "outlinewidth": 0,
             "ticks": ""
            },
            "colorscale": [
             [
              0,
              "#0d0887"
             ],
             [
              0.1111111111111111,
              "#46039f"
             ],
             [
              0.2222222222222222,
              "#7201a8"
             ],
             [
              0.3333333333333333,
              "#9c179e"
             ],
             [
              0.4444444444444444,
              "#bd3786"
             ],
             [
              0.5555555555555556,
              "#d8576b"
             ],
             [
              0.6666666666666666,
              "#ed7953"
             ],
             [
              0.7777777777777778,
              "#fb9f3a"
             ],
             [
              0.8888888888888888,
              "#fdca26"
             ],
             [
              1,
              "#f0f921"
             ]
            ],
            "type": "contour"
           }
          ],
          "contourcarpet": [
           {
            "colorbar": {
             "outlinewidth": 0,
             "ticks": ""
            },
            "type": "contourcarpet"
           }
          ],
          "heatmap": [
           {
            "colorbar": {
             "outlinewidth": 0,
             "ticks": ""
            },
            "colorscale": [
             [
              0,
              "#0d0887"
             ],
             [
              0.1111111111111111,
              "#46039f"
             ],
             [
              0.2222222222222222,
              "#7201a8"
             ],
             [
              0.3333333333333333,
              "#9c179e"
             ],
             [
              0.4444444444444444,
              "#bd3786"
             ],
             [
              0.5555555555555556,
              "#d8576b"
             ],
             [
              0.6666666666666666,
              "#ed7953"
             ],
             [
              0.7777777777777778,
              "#fb9f3a"
             ],
             [
              0.8888888888888888,
              "#fdca26"
             ],
             [
              1,
              "#f0f921"
             ]
            ],
            "type": "heatmap"
           }
          ],
          "histogram": [
           {
            "marker": {
             "pattern": {
              "fillmode": "overlay",
              "size": 10,
              "solidity": 0.2
             }
            },
            "type": "histogram"
           }
          ],
          "histogram2d": [
           {
            "colorbar": {
             "outlinewidth": 0,
             "ticks": ""
            },
            "colorscale": [
             [
              0,
              "#0d0887"
             ],
             [
              0.1111111111111111,
              "#46039f"
             ],
             [
              0.2222222222222222,
              "#7201a8"
             ],
             [
              0.3333333333333333,
              "#9c179e"
             ],
             [
              0.4444444444444444,
              "#bd3786"
             ],
             [
              0.5555555555555556,
              "#d8576b"
             ],
             [
              0.6666666666666666,
              "#ed7953"
             ],
             [
              0.7777777777777778,
              "#fb9f3a"
             ],
             [
              0.8888888888888888,
              "#fdca26"
             ],
             [
              1,
              "#f0f921"
             ]
            ],
            "type": "histogram2d"
           }
          ],
          "histogram2dcontour": [
           {
            "colorbar": {
             "outlinewidth": 0,
             "ticks": ""
            },
            "colorscale": [
             [
              0,
              "#0d0887"
             ],
             [
              0.1111111111111111,
              "#46039f"
             ],
             [
              0.2222222222222222,
              "#7201a8"
             ],
             [
              0.3333333333333333,
              "#9c179e"
             ],
             [
              0.4444444444444444,
              "#bd3786"
             ],
             [
              0.5555555555555556,
              "#d8576b"
             ],
             [
              0.6666666666666666,
              "#ed7953"
             ],
             [
              0.7777777777777778,
              "#fb9f3a"
             ],
             [
              0.8888888888888888,
              "#fdca26"
             ],
             [
              1,
              "#f0f921"
             ]
            ],
            "type": "histogram2dcontour"
           }
          ],
          "mesh3d": [
           {
            "colorbar": {
             "outlinewidth": 0,
             "ticks": ""
            },
            "type": "mesh3d"
           }
          ],
          "parcoords": [
           {
            "line": {
             "colorbar": {
              "outlinewidth": 0,
              "ticks": ""
             }
            },
            "type": "parcoords"
           }
          ],
          "pie": [
           {
            "automargin": true,
            "type": "pie"
           }
          ],
          "scatter": [
           {
            "fillpattern": {
             "fillmode": "overlay",
             "size": 10,
             "solidity": 0.2
            },
            "type": "scatter"
           }
          ],
          "scatter3d": [
           {
            "line": {
             "colorbar": {
              "outlinewidth": 0,
              "ticks": ""
             }
            },
            "marker": {
             "colorbar": {
              "outlinewidth": 0,
              "ticks": ""
             }
            },
            "type": "scatter3d"
           }
          ],
          "scattercarpet": [
           {
            "marker": {
             "colorbar": {
              "outlinewidth": 0,
              "ticks": ""
             }
            },
            "type": "scattercarpet"
           }
          ],
          "scattergeo": [
           {
            "marker": {
             "colorbar": {
              "outlinewidth": 0,
              "ticks": ""
             }
            },
            "type": "scattergeo"
           }
          ],
          "scattergl": [
           {
            "marker": {
             "colorbar": {
              "outlinewidth": 0,
              "ticks": ""
             }
            },
            "type": "scattergl"
           }
          ],
          "scattermap": [
           {
            "marker": {
             "colorbar": {
              "outlinewidth": 0,
              "ticks": ""
             }
            },
            "type": "scattermap"
           }
          ],
          "scattermapbox": [
           {
            "marker": {
             "colorbar": {
              "outlinewidth": 0,
              "ticks": ""
             }
            },
            "type": "scattermapbox"
           }
          ],
          "scatterpolar": [
           {
            "marker": {
             "colorbar": {
              "outlinewidth": 0,
              "ticks": ""
             }
            },
            "type": "scatterpolar"
           }
          ],
          "scatterpolargl": [
           {
            "marker": {
             "colorbar": {
              "outlinewidth": 0,
              "ticks": ""
             }
            },
            "type": "scatterpolargl"
           }
          ],
          "scatterternary": [
           {
            "marker": {
             "colorbar": {
              "outlinewidth": 0,
              "ticks": ""
             }
            },
            "type": "scatterternary"
           }
          ],
          "surface": [
           {
            "colorbar": {
             "outlinewidth": 0,
             "ticks": ""
            },
            "colorscale": [
             [
              0,
              "#0d0887"
             ],
             [
              0.1111111111111111,
              "#46039f"
             ],
             [
              0.2222222222222222,
              "#7201a8"
             ],
             [
              0.3333333333333333,
              "#9c179e"
             ],
             [
              0.4444444444444444,
              "#bd3786"
             ],
             [
              0.5555555555555556,
              "#d8576b"
             ],
             [
              0.6666666666666666,
              "#ed7953"
             ],
             [
              0.7777777777777778,
              "#fb9f3a"
             ],
             [
              0.8888888888888888,
              "#fdca26"
             ],
             [
              1,
              "#f0f921"
             ]
            ],
            "type": "surface"
           }
          ],
          "table": [
           {
            "cells": {
             "fill": {
              "color": "#EBF0F8"
             },
             "line": {
              "color": "white"
             }
            },
            "header": {
             "fill": {
              "color": "#C8D4E3"
             },
             "line": {
              "color": "white"
             }
            },
            "type": "table"
           }
          ]
         },
         "layout": {
          "annotationdefaults": {
           "arrowcolor": "#2a3f5f",
           "arrowhead": 0,
           "arrowwidth": 1
          },
          "autotypenumbers": "strict",
          "coloraxis": {
           "colorbar": {
            "outlinewidth": 0,
            "ticks": ""
           }
          },
          "colorscale": {
           "diverging": [
            [
             0,
             "#8e0152"
            ],
            [
             0.1,
             "#c51b7d"
            ],
            [
             0.2,
             "#de77ae"
            ],
            [
             0.3,
             "#f1b6da"
            ],
            [
             0.4,
             "#fde0ef"
            ],
            [
             0.5,
             "#f7f7f7"
            ],
            [
             0.6,
             "#e6f5d0"
            ],
            [
             0.7,
             "#b8e186"
            ],
            [
             0.8,
             "#7fbc41"
            ],
            [
             0.9,
             "#4d9221"
            ],
            [
             1,
             "#276419"
            ]
           ],
           "sequential": [
            [
             0,
             "#0d0887"
            ],
            [
             0.1111111111111111,
             "#46039f"
            ],
            [
             0.2222222222222222,
             "#7201a8"
            ],
            [
             0.3333333333333333,
             "#9c179e"
            ],
            [
             0.4444444444444444,
             "#bd3786"
            ],
            [
             0.5555555555555556,
             "#d8576b"
            ],
            [
             0.6666666666666666,
             "#ed7953"
            ],
            [
             0.7777777777777778,
             "#fb9f3a"
            ],
            [
             0.8888888888888888,
             "#fdca26"
            ],
            [
             1,
             "#f0f921"
            ]
           ],
           "sequentialminus": [
            [
             0,
             "#0d0887"
            ],
            [
             0.1111111111111111,
             "#46039f"
            ],
            [
             0.2222222222222222,
             "#7201a8"
            ],
            [
             0.3333333333333333,
             "#9c179e"
            ],
            [
             0.4444444444444444,
             "#bd3786"
            ],
            [
             0.5555555555555556,
             "#d8576b"
            ],
            [
             0.6666666666666666,
             "#ed7953"
            ],
            [
             0.7777777777777778,
             "#fb9f3a"
            ],
            [
             0.8888888888888888,
             "#fdca26"
            ],
            [
             1,
             "#f0f921"
            ]
           ]
          },
          "colorway": [
           "#636efa",
           "#EF553B",
           "#00cc96",
           "#ab63fa",
           "#FFA15A",
           "#19d3f3",
           "#FF6692",
           "#B6E880",
           "#FF97FF",
           "#FECB52"
          ],
          "font": {
           "color": "#2a3f5f"
          },
          "geo": {
           "bgcolor": "white",
           "lakecolor": "white",
           "landcolor": "white",
           "showlakes": true,
           "showland": true,
           "subunitcolor": "#C8D4E3"
          },
          "hoverlabel": {
           "align": "left"
          },
          "hovermode": "closest",
          "mapbox": {
           "style": "light"
          },
          "paper_bgcolor": "white",
          "plot_bgcolor": "white",
          "polar": {
           "angularaxis": {
            "gridcolor": "#EBF0F8",
            "linecolor": "#EBF0F8",
            "ticks": ""
           },
           "bgcolor": "white",
           "radialaxis": {
            "gridcolor": "#EBF0F8",
            "linecolor": "#EBF0F8",
            "ticks": ""
           }
          },
          "scene": {
           "xaxis": {
            "backgroundcolor": "white",
            "gridcolor": "#DFE8F3",
            "gridwidth": 2,
            "linecolor": "#EBF0F8",
            "showbackground": true,
            "ticks": "",
            "zerolinecolor": "#EBF0F8"
           },
           "yaxis": {
            "backgroundcolor": "white",
            "gridcolor": "#DFE8F3",
            "gridwidth": 2,
            "linecolor": "#EBF0F8",
            "showbackground": true,
            "ticks": "",
            "zerolinecolor": "#EBF0F8"
           },
           "zaxis": {
            "backgroundcolor": "white",
            "gridcolor": "#DFE8F3",
            "gridwidth": 2,
            "linecolor": "#EBF0F8",
            "showbackground": true,
            "ticks": "",
            "zerolinecolor": "#EBF0F8"
           }
          },
          "shapedefaults": {
           "line": {
            "color": "#2a3f5f"
           }
          },
          "ternary": {
           "aaxis": {
            "gridcolor": "#DFE8F3",
            "linecolor": "#A2B1C6",
            "ticks": ""
           },
           "baxis": {
            "gridcolor": "#DFE8F3",
            "linecolor": "#A2B1C6",
            "ticks": ""
           },
           "bgcolor": "white",
           "caxis": {
            "gridcolor": "#DFE8F3",
            "linecolor": "#A2B1C6",
            "ticks": ""
           }
          },
          "title": {
           "x": 0.05
          },
          "xaxis": {
           "automargin": true,
           "gridcolor": "#EBF0F8",
           "linecolor": "#EBF0F8",
           "ticks": "",
           "title": {
            "standoff": 15
           },
           "zerolinecolor": "#EBF0F8",
           "zerolinewidth": 2
          },
          "yaxis": {
           "automargin": true,
           "gridcolor": "#EBF0F8",
           "linecolor": "#EBF0F8",
           "ticks": "",
           "title": {
            "standoff": 15
           },
           "zerolinecolor": "#EBF0F8",
           "zerolinewidth": 2
          }
         }
        },
        "title": {
         "text": "Estados Saturados: Evolução da Razão População (38-58 anos) / Empresas (2007-2022)"
        },
        "xaxis": {
         "title": {
          "text": "Ano"
         }
        },
        "yaxis": {
         "title": {
          "text": "Razão População/Empresas"
         }
        }
       }
      }
     },
     "metadata": {},
     "output_type": "display_data"
    }
   ],
   "source": [
    "fig = go.Figure()\n",
    "\n",
    "# Adicionando dados históricos e previsões\n",
    "for estado in estados_saturados:\n",
    "    # Dados históricos\n",
    "    fig.add_trace(\n",
    "        go.Scatter(\n",
    "            x=razao_populacao_empresa_corrigida.index,\n",
    "            y=razao_populacao_empresa_corrigida[estado],\n",
    "            mode=\"lines+markers\",\n",
    "            name=f\"{estado} (Histórico)\",\n",
    "            hovertemplate=\"Estado: \"\n",
    "            + estado\n",
    "            + \"<br>Ano: %{x}<br>Razão: %{y:.2f}<extra></extra>\",\n",
    "        )\n",
    "    )\n",
    "\n",
    "    # Dados de previsão\n",
    "    fig.add_trace(\n",
    "        go.Scatter(\n",
    "            x=previsao_2021_2022.index,\n",
    "            y=previsao_2021_2022[estado],\n",
    "            mode=\"lines+markers\",\n",
    "            line=dict(dash=\"dash\"),\n",
    "            name=f\"{estado} (Previsão)\",\n",
    "            hovertemplate=\"Estado: \"\n",
    "            + estado\n",
    "            + \"<br>Ano: %{x}<br>Razão: %{y:.2f}<extra></extra>\",\n",
    "        )\n",
    "    )\n",
    "\n",
    "# Configurando o layout\n",
    "fig.update_layout(\n",
    "    title=\"Estados Saturados: Evolução da Razão População (38-58 anos) / Empresas (2007-2022)\",\n",
    "    xaxis_title=\"Ano\",\n",
    "    yaxis_title=\"Razão População/Empresas\",\n",
    "    legend_title=\"Estados\",\n",
    "    hovermode=\"closest\",  # Mostra o valor mais próximo quando o mouse passa\n",
    "    template=\"plotly_white\",\n",
    "    height=600,\n",
    ")\n",
    "\n",
    "\n",
    "fig.show()"
   ]
  },
  {
   "cell_type": "markdown",
   "metadata": {},
   "source": [
    "**Resultados da análise:**\n",
    "* Estados Saturados (Crescimento inferior a 5%):\n",
    "    * Minas Gerais \n",
    "    * Brasil\n",
    "    * Piauí \n",
    "    * Pernambuco \n",
    "    * Bahia \n",
    "    * Sergipe \n",
    "    * São Paulo \n",
    "    * Alagoas \n",
    "    * Espírito Santo \n",
    "    * Maranhão \n",
    "    * Ceará \n",
    "    * Tocantins \n",
    "    * Paraná \n",
    "    * Pará \n",
    "    * Amazonas \n",
    "    * Rio Grande do Sul \n",
    "    * Paraíba \n",
    "    * Rio Grande do Norte \n",
    "    * Roraima \n",
    "    * Santa Catarina \n",
    "    * Rio de Janeiro.\n",
    "\n",
    "**Nenhum estado foi classificado como tendo oportunidades futuras (crescimento > 15%).**\n",
    "\n"
   ]
  },
  {
   "cell_type": "markdown",
   "metadata": {},
   "source": [
    "Como nenhum estado foi identificado como uma grande oportunidade (crescimento > 15%), isso indica um mercado com maturidade em quase todas as regiões."
   ]
  },
  {
   "cell_type": "markdown",
   "metadata": {},
   "source": [
    "# Análise refinada"
   ]
  },
  {
   "cell_type": "code",
   "execution_count": 76,
   "metadata": {},
   "outputs": [
    {
     "data": {
      "text/plain": [
       "['Acre', 'Amapá', 'Rondônia']"
      ]
     },
     "execution_count": 76,
     "metadata": {},
     "output_type": "execute_result"
    }
   ],
   "source": [
    "# Refinando a análise para estados com crescimento moderado (entre 5% e 15%)\n",
    "estados_crescimento_moderado = taxa_crescimento[\n",
    "    (taxa_crescimento >= 0.05) & (taxa_crescimento <= 0.15)\n",
    "].index.tolist()\n",
    "\n",
    "\n",
    "estados_crescimento_moderado"
   ]
  },
  {
   "cell_type": "code",
   "execution_count": 77,
   "metadata": {},
   "outputs": [
    {
     "data": {
      "application/vnd.plotly.v1+json": {
       "config": {
        "plotlyServerURL": "https://plot.ly"
       },
       "data": [
        {
         "hovertemplate": "Estado: Acre<br>Ano: %{x}<br>Razão: %{y:.2f}<extra></extra>",
         "mode": "lines+markers",
         "name": "Acre (Histórico)",
         "type": "scatter",
         "x": {
          "bdata": "1wfYB9kH2gfbB9wH3QfeB98H4AfhB+IH4wfkBw==",
          "dtype": "i2"
         },
         "y": {
          "bdata": "PDw8PDxUq0BpaWlpaYCsQMTDw8PDsq1AxMPDw8PmrkB4eHh4+A2wQGlpaWnpqrBAHh4eHp5LsUDEw8PDQ/GxQOLh4eFhm7JAHh4eHp5Ks0APDw8Pj/yzQGlpaWnpq7RADw8PDw9YtUCXlpaWFgC2QA==",
          "dtype": "f8"
         }
        },
        {
         "hovertemplate": "Estado: Acre<br>Ano: %{x}<br>Razão: %{y:.2f}<extra></extra>",
         "line": {
          "dash": "dash"
         },
         "mode": "lines+markers",
         "name": "Acre (Previsão)",
         "type": "scatter",
         "x": {
          "bdata": "5QfmBw==",
          "dtype": "i2"
         },
         "y": {
          "bdata": "wPRLv3SNtkDA6gbJajK3QA==",
          "dtype": "f8"
         }
        },
        {
         "hovertemplate": "Estado: Amapá<br>Ano: %{x}<br>Razão: %{y:.2f}<extra></extra>",
         "mode": "lines+markers",
         "name": "Amapá (Histórico)",
         "type": "scatter",
         "x": {
          "bdata": "1wfYB9kH2gfbB9wH3QfeB98H4AfhB+IH4wfkBw==",
          "dtype": "i2"
         },
         "y": {
          "bdata": "PDw8PDyCp0AeHh4eHsuoQGlpaWlpF6pALS0tLS1gq0C1tLS0tKOsQPHw8PDw6K1ADw8PDw8yr0Di4eHhYT+wQMTDw8ND5rBAxMPDw0ONsUDEw8PDQzSyQPHw8PDw17JAiIeHh4d5s0Di4eHhYRe0QA==",
          "dtype": "f8"
         }
        },
        {
         "hovertemplate": "Estado: Amapá<br>Ano: %{x}<br>Razão: %{y:.2f}<extra></extra>",
         "line": {
          "dash": "dash"
         },
         "mode": "lines+markers",
         "name": "Amapá (Previsão)",
         "type": "scatter",
         "x": {
          "bdata": "5QfmBw==",
          "dtype": "i2"
         },
         "y": {
          "bdata": "gAX9dQXCtEBAMdc2sWa1QA==",
          "dtype": "f8"
         }
        },
        {
         "hovertemplate": "Estado: Rondônia<br>Ano: %{x}<br>Razão: %{y:.2f}<extra></extra>",
         "mode": "lines+markers",
         "name": "Rondônia (Histórico)",
         "type": "scatter",
         "x": {
          "bdata": "1wfYB9kH2gfbB9wH3QfeB98H4AfhB+IH4wfkBw==",
          "dtype": "i2"
         },
         "y": {
          "bdata": "aWlpaSmIwkDEw8PDgzPDQPHw8PCw3MNAPDw8PDx/xECmpaWlJRvFQPHw8PAwtsVAPDw8PHxQxkDi4eHh4erGQEtLS0uLhcdAaWlpaekfyEDi4eHhYbjIQB4eHh7eSslAeHh4eHjYyUBLS0tLi17KQA==",
          "dtype": "f8"
         }
        },
        {
         "hovertemplate": "Estado: Rondônia<br>Ano: %{x}<br>Razão: %{y:.2f}<extra></extra>",
         "line": {
          "dash": "dash"
         },
         "mode": "lines+markers",
         "name": "Rondônia (Previsão)",
         "type": "scatter",
         "x": {
          "bdata": "5QfmBw==",
          "dtype": "i2"
         },
         "y": {
          "bdata": "wI6Dzw4Zy0DAhQG+hbPLQA==",
          "dtype": "f8"
         }
        }
       ],
       "layout": {
        "height": 600,
        "hovermode": "closest",
        "legend": {
         "title": {
          "text": "Estados"
         }
        },
        "template": {
         "data": {
          "bar": [
           {
            "error_x": {
             "color": "#2a3f5f"
            },
            "error_y": {
             "color": "#2a3f5f"
            },
            "marker": {
             "line": {
              "color": "white",
              "width": 0.5
             },
             "pattern": {
              "fillmode": "overlay",
              "size": 10,
              "solidity": 0.2
             }
            },
            "type": "bar"
           }
          ],
          "barpolar": [
           {
            "marker": {
             "line": {
              "color": "white",
              "width": 0.5
             },
             "pattern": {
              "fillmode": "overlay",
              "size": 10,
              "solidity": 0.2
             }
            },
            "type": "barpolar"
           }
          ],
          "carpet": [
           {
            "aaxis": {
             "endlinecolor": "#2a3f5f",
             "gridcolor": "#C8D4E3",
             "linecolor": "#C8D4E3",
             "minorgridcolor": "#C8D4E3",
             "startlinecolor": "#2a3f5f"
            },
            "baxis": {
             "endlinecolor": "#2a3f5f",
             "gridcolor": "#C8D4E3",
             "linecolor": "#C8D4E3",
             "minorgridcolor": "#C8D4E3",
             "startlinecolor": "#2a3f5f"
            },
            "type": "carpet"
           }
          ],
          "choropleth": [
           {
            "colorbar": {
             "outlinewidth": 0,
             "ticks": ""
            },
            "type": "choropleth"
           }
          ],
          "contour": [
           {
            "colorbar": {
             "outlinewidth": 0,
             "ticks": ""
            },
            "colorscale": [
             [
              0,
              "#0d0887"
             ],
             [
              0.1111111111111111,
              "#46039f"
             ],
             [
              0.2222222222222222,
              "#7201a8"
             ],
             [
              0.3333333333333333,
              "#9c179e"
             ],
             [
              0.4444444444444444,
              "#bd3786"
             ],
             [
              0.5555555555555556,
              "#d8576b"
             ],
             [
              0.6666666666666666,
              "#ed7953"
             ],
             [
              0.7777777777777778,
              "#fb9f3a"
             ],
             [
              0.8888888888888888,
              "#fdca26"
             ],
             [
              1,
              "#f0f921"
             ]
            ],
            "type": "contour"
           }
          ],
          "contourcarpet": [
           {
            "colorbar": {
             "outlinewidth": 0,
             "ticks": ""
            },
            "type": "contourcarpet"
           }
          ],
          "heatmap": [
           {
            "colorbar": {
             "outlinewidth": 0,
             "ticks": ""
            },
            "colorscale": [
             [
              0,
              "#0d0887"
             ],
             [
              0.1111111111111111,
              "#46039f"
             ],
             [
              0.2222222222222222,
              "#7201a8"
             ],
             [
              0.3333333333333333,
              "#9c179e"
             ],
             [
              0.4444444444444444,
              "#bd3786"
             ],
             [
              0.5555555555555556,
              "#d8576b"
             ],
             [
              0.6666666666666666,
              "#ed7953"
             ],
             [
              0.7777777777777778,
              "#fb9f3a"
             ],
             [
              0.8888888888888888,
              "#fdca26"
             ],
             [
              1,
              "#f0f921"
             ]
            ],
            "type": "heatmap"
           }
          ],
          "histogram": [
           {
            "marker": {
             "pattern": {
              "fillmode": "overlay",
              "size": 10,
              "solidity": 0.2
             }
            },
            "type": "histogram"
           }
          ],
          "histogram2d": [
           {
            "colorbar": {
             "outlinewidth": 0,
             "ticks": ""
            },
            "colorscale": [
             [
              0,
              "#0d0887"
             ],
             [
              0.1111111111111111,
              "#46039f"
             ],
             [
              0.2222222222222222,
              "#7201a8"
             ],
             [
              0.3333333333333333,
              "#9c179e"
             ],
             [
              0.4444444444444444,
              "#bd3786"
             ],
             [
              0.5555555555555556,
              "#d8576b"
             ],
             [
              0.6666666666666666,
              "#ed7953"
             ],
             [
              0.7777777777777778,
              "#fb9f3a"
             ],
             [
              0.8888888888888888,
              "#fdca26"
             ],
             [
              1,
              "#f0f921"
             ]
            ],
            "type": "histogram2d"
           }
          ],
          "histogram2dcontour": [
           {
            "colorbar": {
             "outlinewidth": 0,
             "ticks": ""
            },
            "colorscale": [
             [
              0,
              "#0d0887"
             ],
             [
              0.1111111111111111,
              "#46039f"
             ],
             [
              0.2222222222222222,
              "#7201a8"
             ],
             [
              0.3333333333333333,
              "#9c179e"
             ],
             [
              0.4444444444444444,
              "#bd3786"
             ],
             [
              0.5555555555555556,
              "#d8576b"
             ],
             [
              0.6666666666666666,
              "#ed7953"
             ],
             [
              0.7777777777777778,
              "#fb9f3a"
             ],
             [
              0.8888888888888888,
              "#fdca26"
             ],
             [
              1,
              "#f0f921"
             ]
            ],
            "type": "histogram2dcontour"
           }
          ],
          "mesh3d": [
           {
            "colorbar": {
             "outlinewidth": 0,
             "ticks": ""
            },
            "type": "mesh3d"
           }
          ],
          "parcoords": [
           {
            "line": {
             "colorbar": {
              "outlinewidth": 0,
              "ticks": ""
             }
            },
            "type": "parcoords"
           }
          ],
          "pie": [
           {
            "automargin": true,
            "type": "pie"
           }
          ],
          "scatter": [
           {
            "fillpattern": {
             "fillmode": "overlay",
             "size": 10,
             "solidity": 0.2
            },
            "type": "scatter"
           }
          ],
          "scatter3d": [
           {
            "line": {
             "colorbar": {
              "outlinewidth": 0,
              "ticks": ""
             }
            },
            "marker": {
             "colorbar": {
              "outlinewidth": 0,
              "ticks": ""
             }
            },
            "type": "scatter3d"
           }
          ],
          "scattercarpet": [
           {
            "marker": {
             "colorbar": {
              "outlinewidth": 0,
              "ticks": ""
             }
            },
            "type": "scattercarpet"
           }
          ],
          "scattergeo": [
           {
            "marker": {
             "colorbar": {
              "outlinewidth": 0,
              "ticks": ""
             }
            },
            "type": "scattergeo"
           }
          ],
          "scattergl": [
           {
            "marker": {
             "colorbar": {
              "outlinewidth": 0,
              "ticks": ""
             }
            },
            "type": "scattergl"
           }
          ],
          "scattermap": [
           {
            "marker": {
             "colorbar": {
              "outlinewidth": 0,
              "ticks": ""
             }
            },
            "type": "scattermap"
           }
          ],
          "scattermapbox": [
           {
            "marker": {
             "colorbar": {
              "outlinewidth": 0,
              "ticks": ""
             }
            },
            "type": "scattermapbox"
           }
          ],
          "scatterpolar": [
           {
            "marker": {
             "colorbar": {
              "outlinewidth": 0,
              "ticks": ""
             }
            },
            "type": "scatterpolar"
           }
          ],
          "scatterpolargl": [
           {
            "marker": {
             "colorbar": {
              "outlinewidth": 0,
              "ticks": ""
             }
            },
            "type": "scatterpolargl"
           }
          ],
          "scatterternary": [
           {
            "marker": {
             "colorbar": {
              "outlinewidth": 0,
              "ticks": ""
             }
            },
            "type": "scatterternary"
           }
          ],
          "surface": [
           {
            "colorbar": {
             "outlinewidth": 0,
             "ticks": ""
            },
            "colorscale": [
             [
              0,
              "#0d0887"
             ],
             [
              0.1111111111111111,
              "#46039f"
             ],
             [
              0.2222222222222222,
              "#7201a8"
             ],
             [
              0.3333333333333333,
              "#9c179e"
             ],
             [
              0.4444444444444444,
              "#bd3786"
             ],
             [
              0.5555555555555556,
              "#d8576b"
             ],
             [
              0.6666666666666666,
              "#ed7953"
             ],
             [
              0.7777777777777778,
              "#fb9f3a"
             ],
             [
              0.8888888888888888,
              "#fdca26"
             ],
             [
              1,
              "#f0f921"
             ]
            ],
            "type": "surface"
           }
          ],
          "table": [
           {
            "cells": {
             "fill": {
              "color": "#EBF0F8"
             },
             "line": {
              "color": "white"
             }
            },
            "header": {
             "fill": {
              "color": "#C8D4E3"
             },
             "line": {
              "color": "white"
             }
            },
            "type": "table"
           }
          ]
         },
         "layout": {
          "annotationdefaults": {
           "arrowcolor": "#2a3f5f",
           "arrowhead": 0,
           "arrowwidth": 1
          },
          "autotypenumbers": "strict",
          "coloraxis": {
           "colorbar": {
            "outlinewidth": 0,
            "ticks": ""
           }
          },
          "colorscale": {
           "diverging": [
            [
             0,
             "#8e0152"
            ],
            [
             0.1,
             "#c51b7d"
            ],
            [
             0.2,
             "#de77ae"
            ],
            [
             0.3,
             "#f1b6da"
            ],
            [
             0.4,
             "#fde0ef"
            ],
            [
             0.5,
             "#f7f7f7"
            ],
            [
             0.6,
             "#e6f5d0"
            ],
            [
             0.7,
             "#b8e186"
            ],
            [
             0.8,
             "#7fbc41"
            ],
            [
             0.9,
             "#4d9221"
            ],
            [
             1,
             "#276419"
            ]
           ],
           "sequential": [
            [
             0,
             "#0d0887"
            ],
            [
             0.1111111111111111,
             "#46039f"
            ],
            [
             0.2222222222222222,
             "#7201a8"
            ],
            [
             0.3333333333333333,
             "#9c179e"
            ],
            [
             0.4444444444444444,
             "#bd3786"
            ],
            [
             0.5555555555555556,
             "#d8576b"
            ],
            [
             0.6666666666666666,
             "#ed7953"
            ],
            [
             0.7777777777777778,
             "#fb9f3a"
            ],
            [
             0.8888888888888888,
             "#fdca26"
            ],
            [
             1,
             "#f0f921"
            ]
           ],
           "sequentialminus": [
            [
             0,
             "#0d0887"
            ],
            [
             0.1111111111111111,
             "#46039f"
            ],
            [
             0.2222222222222222,
             "#7201a8"
            ],
            [
             0.3333333333333333,
             "#9c179e"
            ],
            [
             0.4444444444444444,
             "#bd3786"
            ],
            [
             0.5555555555555556,
             "#d8576b"
            ],
            [
             0.6666666666666666,
             "#ed7953"
            ],
            [
             0.7777777777777778,
             "#fb9f3a"
            ],
            [
             0.8888888888888888,
             "#fdca26"
            ],
            [
             1,
             "#f0f921"
            ]
           ]
          },
          "colorway": [
           "#636efa",
           "#EF553B",
           "#00cc96",
           "#ab63fa",
           "#FFA15A",
           "#19d3f3",
           "#FF6692",
           "#B6E880",
           "#FF97FF",
           "#FECB52"
          ],
          "font": {
           "color": "#2a3f5f"
          },
          "geo": {
           "bgcolor": "white",
           "lakecolor": "white",
           "landcolor": "white",
           "showlakes": true,
           "showland": true,
           "subunitcolor": "#C8D4E3"
          },
          "hoverlabel": {
           "align": "left"
          },
          "hovermode": "closest",
          "mapbox": {
           "style": "light"
          },
          "paper_bgcolor": "white",
          "plot_bgcolor": "white",
          "polar": {
           "angularaxis": {
            "gridcolor": "#EBF0F8",
            "linecolor": "#EBF0F8",
            "ticks": ""
           },
           "bgcolor": "white",
           "radialaxis": {
            "gridcolor": "#EBF0F8",
            "linecolor": "#EBF0F8",
            "ticks": ""
           }
          },
          "scene": {
           "xaxis": {
            "backgroundcolor": "white",
            "gridcolor": "#DFE8F3",
            "gridwidth": 2,
            "linecolor": "#EBF0F8",
            "showbackground": true,
            "ticks": "",
            "zerolinecolor": "#EBF0F8"
           },
           "yaxis": {
            "backgroundcolor": "white",
            "gridcolor": "#DFE8F3",
            "gridwidth": 2,
            "linecolor": "#EBF0F8",
            "showbackground": true,
            "ticks": "",
            "zerolinecolor": "#EBF0F8"
           },
           "zaxis": {
            "backgroundcolor": "white",
            "gridcolor": "#DFE8F3",
            "gridwidth": 2,
            "linecolor": "#EBF0F8",
            "showbackground": true,
            "ticks": "",
            "zerolinecolor": "#EBF0F8"
           }
          },
          "shapedefaults": {
           "line": {
            "color": "#2a3f5f"
           }
          },
          "ternary": {
           "aaxis": {
            "gridcolor": "#DFE8F3",
            "linecolor": "#A2B1C6",
            "ticks": ""
           },
           "baxis": {
            "gridcolor": "#DFE8F3",
            "linecolor": "#A2B1C6",
            "ticks": ""
           },
           "bgcolor": "white",
           "caxis": {
            "gridcolor": "#DFE8F3",
            "linecolor": "#A2B1C6",
            "ticks": ""
           }
          },
          "title": {
           "x": 0.05
          },
          "xaxis": {
           "automargin": true,
           "gridcolor": "#EBF0F8",
           "linecolor": "#EBF0F8",
           "ticks": "",
           "title": {
            "standoff": 15
           },
           "zerolinecolor": "#EBF0F8",
           "zerolinewidth": 2
          },
          "yaxis": {
           "automargin": true,
           "gridcolor": "#EBF0F8",
           "linecolor": "#EBF0F8",
           "ticks": "",
           "title": {
            "standoff": 15
           },
           "zerolinecolor": "#EBF0F8",
           "zerolinewidth": 2
          }
         }
        },
        "title": {
         "text": "Estados com Crescimento Moderado: Evolução da Razão População (38-58 anos) / Empresas (2007-2022)"
        },
        "xaxis": {
         "title": {
          "text": "Ano"
         }
        },
        "yaxis": {
         "title": {
          "text": "Razão População/Empresas"
         }
        }
       }
      }
     },
     "metadata": {},
     "output_type": "display_data"
    }
   ],
   "source": [
    "fig = go.Figure()\n",
    "\n",
    "# Adicionando dados históricos e previsões para cada estado com crescimento moderado\n",
    "for estado in estados_crescimento_moderado:\n",
    "    # Dados históricos\n",
    "    fig.add_trace(\n",
    "        go.Scatter(\n",
    "            x=razao_populacao_empresa_corrigida.index,\n",
    "            y=razao_populacao_empresa_corrigida[estado],\n",
    "            mode=\"lines+markers\",\n",
    "            name=f\"{estado} (Histórico)\",\n",
    "            hovertemplate=\"Estado: \"\n",
    "            + estado\n",
    "            + \"<br>Ano: %{x}<br>Razão: %{y:.2f}<extra></extra>\",\n",
    "        )\n",
    "    )\n",
    "\n",
    "    # Dados de previsão\n",
    "    fig.add_trace(\n",
    "        go.Scatter(\n",
    "            x=previsao_2021_2022.index,\n",
    "            y=previsao_2021_2022[estado],\n",
    "            mode=\"lines+markers\",\n",
    "            line=dict(dash=\"dash\"),\n",
    "            name=f\"{estado} (Previsão)\",\n",
    "            hovertemplate=\"Estado: \"\n",
    "            + estado\n",
    "            + \"<br>Ano: %{x}<br>Razão: %{y:.2f}<extra></extra>\",\n",
    "        )\n",
    "    )\n",
    "\n",
    "# Configurando o layout\n",
    "fig.update_layout(\n",
    "    title=\"Estados com Crescimento Moderado: Evolução da Razão População (38-58 anos) / Empresas (2007-2022)\",\n",
    "    xaxis_title=\"Ano\",\n",
    "    yaxis_title=\"Razão População/Empresas\",\n",
    "    legend_title=\"Estados\",\n",
    "    hovermode=\"closest\",\n",
    "    template=\"plotly_white\",\n",
    "    height=600,\n",
    ")\n",
    "\n",
    "\n",
    "fig.show()"
   ]
  },
  {
   "cell_type": "markdown",
   "metadata": {},
   "source": [
    "**Observações do Gráfico:**\n",
    "* Rondônia, Amapá e Acre apresentam um crescimento mais consistente e contínuo.\n",
    "* Esse comportamento indica um potencial de mercado maior do que em estados classificados como saturados."
   ]
  },
  {
   "cell_type": "code",
   "execution_count": 79,
   "metadata": {},
   "outputs": [
    {
     "data": {
      "application/vnd.plotly.v1+json": {
       "config": {
        "plotlyServerURL": "https://plot.ly"
       },
       "data": [
        {
         "hovertemplate": "Região=%{x}<br>Média da Taxa de Crescimento (%)=%{y}<br>text=%{text}<extra></extra>",
         "legendgroup": "",
         "marker": {
          "color": "#636efa",
          "pattern": {
           "shape": ""
          }
         },
         "name": "",
         "orientation": "v",
         "showlegend": false,
         "text": {
          "bdata": "UrgehetRBEAK16NwPQoHQArXo3A9Cg1AXI/C9ShcDUDhehSuR+ESQA==",
          "dtype": "f8"
         },
         "textposition": "outside",
         "texttemplate": "%{text:.2f}%",
         "type": "bar",
         "x": [
          "Sul",
          "Sudeste",
          "Nordeste",
          "Centro-Oeste",
          "Norte"
         ],
         "xaxis": "x",
         "y": {
          "bdata": "jFnMBW5YBEDFxZ93dxMHQD5zGCmSAw1AJQ0Gja1iDUCqpj8rad0SQA==",
          "dtype": "f8"
         },
         "yaxis": "y"
        }
       ],
       "layout": {
        "barmode": "relative",
        "height": 600,
        "hovermode": "x unified",
        "legend": {
         "tracegroupgap": 0
        },
        "template": {
         "data": {
          "bar": [
           {
            "error_x": {
             "color": "#2a3f5f"
            },
            "error_y": {
             "color": "#2a3f5f"
            },
            "marker": {
             "line": {
              "color": "white",
              "width": 0.5
             },
             "pattern": {
              "fillmode": "overlay",
              "size": 10,
              "solidity": 0.2
             }
            },
            "type": "bar"
           }
          ],
          "barpolar": [
           {
            "marker": {
             "line": {
              "color": "white",
              "width": 0.5
             },
             "pattern": {
              "fillmode": "overlay",
              "size": 10,
              "solidity": 0.2
             }
            },
            "type": "barpolar"
           }
          ],
          "carpet": [
           {
            "aaxis": {
             "endlinecolor": "#2a3f5f",
             "gridcolor": "#C8D4E3",
             "linecolor": "#C8D4E3",
             "minorgridcolor": "#C8D4E3",
             "startlinecolor": "#2a3f5f"
            },
            "baxis": {
             "endlinecolor": "#2a3f5f",
             "gridcolor": "#C8D4E3",
             "linecolor": "#C8D4E3",
             "minorgridcolor": "#C8D4E3",
             "startlinecolor": "#2a3f5f"
            },
            "type": "carpet"
           }
          ],
          "choropleth": [
           {
            "colorbar": {
             "outlinewidth": 0,
             "ticks": ""
            },
            "type": "choropleth"
           }
          ],
          "contour": [
           {
            "colorbar": {
             "outlinewidth": 0,
             "ticks": ""
            },
            "colorscale": [
             [
              0,
              "#0d0887"
             ],
             [
              0.1111111111111111,
              "#46039f"
             ],
             [
              0.2222222222222222,
              "#7201a8"
             ],
             [
              0.3333333333333333,
              "#9c179e"
             ],
             [
              0.4444444444444444,
              "#bd3786"
             ],
             [
              0.5555555555555556,
              "#d8576b"
             ],
             [
              0.6666666666666666,
              "#ed7953"
             ],
             [
              0.7777777777777778,
              "#fb9f3a"
             ],
             [
              0.8888888888888888,
              "#fdca26"
             ],
             [
              1,
              "#f0f921"
             ]
            ],
            "type": "contour"
           }
          ],
          "contourcarpet": [
           {
            "colorbar": {
             "outlinewidth": 0,
             "ticks": ""
            },
            "type": "contourcarpet"
           }
          ],
          "heatmap": [
           {
            "colorbar": {
             "outlinewidth": 0,
             "ticks": ""
            },
            "colorscale": [
             [
              0,
              "#0d0887"
             ],
             [
              0.1111111111111111,
              "#46039f"
             ],
             [
              0.2222222222222222,
              "#7201a8"
             ],
             [
              0.3333333333333333,
              "#9c179e"
             ],
             [
              0.4444444444444444,
              "#bd3786"
             ],
             [
              0.5555555555555556,
              "#d8576b"
             ],
             [
              0.6666666666666666,
              "#ed7953"
             ],
             [
              0.7777777777777778,
              "#fb9f3a"
             ],
             [
              0.8888888888888888,
              "#fdca26"
             ],
             [
              1,
              "#f0f921"
             ]
            ],
            "type": "heatmap"
           }
          ],
          "histogram": [
           {
            "marker": {
             "pattern": {
              "fillmode": "overlay",
              "size": 10,
              "solidity": 0.2
             }
            },
            "type": "histogram"
           }
          ],
          "histogram2d": [
           {
            "colorbar": {
             "outlinewidth": 0,
             "ticks": ""
            },
            "colorscale": [
             [
              0,
              "#0d0887"
             ],
             [
              0.1111111111111111,
              "#46039f"
             ],
             [
              0.2222222222222222,
              "#7201a8"
             ],
             [
              0.3333333333333333,
              "#9c179e"
             ],
             [
              0.4444444444444444,
              "#bd3786"
             ],
             [
              0.5555555555555556,
              "#d8576b"
             ],
             [
              0.6666666666666666,
              "#ed7953"
             ],
             [
              0.7777777777777778,
              "#fb9f3a"
             ],
             [
              0.8888888888888888,
              "#fdca26"
             ],
             [
              1,
              "#f0f921"
             ]
            ],
            "type": "histogram2d"
           }
          ],
          "histogram2dcontour": [
           {
            "colorbar": {
             "outlinewidth": 0,
             "ticks": ""
            },
            "colorscale": [
             [
              0,
              "#0d0887"
             ],
             [
              0.1111111111111111,
              "#46039f"
             ],
             [
              0.2222222222222222,
              "#7201a8"
             ],
             [
              0.3333333333333333,
              "#9c179e"
             ],
             [
              0.4444444444444444,
              "#bd3786"
             ],
             [
              0.5555555555555556,
              "#d8576b"
             ],
             [
              0.6666666666666666,
              "#ed7953"
             ],
             [
              0.7777777777777778,
              "#fb9f3a"
             ],
             [
              0.8888888888888888,
              "#fdca26"
             ],
             [
              1,
              "#f0f921"
             ]
            ],
            "type": "histogram2dcontour"
           }
          ],
          "mesh3d": [
           {
            "colorbar": {
             "outlinewidth": 0,
             "ticks": ""
            },
            "type": "mesh3d"
           }
          ],
          "parcoords": [
           {
            "line": {
             "colorbar": {
              "outlinewidth": 0,
              "ticks": ""
             }
            },
            "type": "parcoords"
           }
          ],
          "pie": [
           {
            "automargin": true,
            "type": "pie"
           }
          ],
          "scatter": [
           {
            "fillpattern": {
             "fillmode": "overlay",
             "size": 10,
             "solidity": 0.2
            },
            "type": "scatter"
           }
          ],
          "scatter3d": [
           {
            "line": {
             "colorbar": {
              "outlinewidth": 0,
              "ticks": ""
             }
            },
            "marker": {
             "colorbar": {
              "outlinewidth": 0,
              "ticks": ""
             }
            },
            "type": "scatter3d"
           }
          ],
          "scattercarpet": [
           {
            "marker": {
             "colorbar": {
              "outlinewidth": 0,
              "ticks": ""
             }
            },
            "type": "scattercarpet"
           }
          ],
          "scattergeo": [
           {
            "marker": {
             "colorbar": {
              "outlinewidth": 0,
              "ticks": ""
             }
            },
            "type": "scattergeo"
           }
          ],
          "scattergl": [
           {
            "marker": {
             "colorbar": {
              "outlinewidth": 0,
              "ticks": ""
             }
            },
            "type": "scattergl"
           }
          ],
          "scattermap": [
           {
            "marker": {
             "colorbar": {
              "outlinewidth": 0,
              "ticks": ""
             }
            },
            "type": "scattermap"
           }
          ],
          "scattermapbox": [
           {
            "marker": {
             "colorbar": {
              "outlinewidth": 0,
              "ticks": ""
             }
            },
            "type": "scattermapbox"
           }
          ],
          "scatterpolar": [
           {
            "marker": {
             "colorbar": {
              "outlinewidth": 0,
              "ticks": ""
             }
            },
            "type": "scatterpolar"
           }
          ],
          "scatterpolargl": [
           {
            "marker": {
             "colorbar": {
              "outlinewidth": 0,
              "ticks": ""
             }
            },
            "type": "scatterpolargl"
           }
          ],
          "scatterternary": [
           {
            "marker": {
             "colorbar": {
              "outlinewidth": 0,
              "ticks": ""
             }
            },
            "type": "scatterternary"
           }
          ],
          "surface": [
           {
            "colorbar": {
             "outlinewidth": 0,
             "ticks": ""
            },
            "colorscale": [
             [
              0,
              "#0d0887"
             ],
             [
              0.1111111111111111,
              "#46039f"
             ],
             [
              0.2222222222222222,
              "#7201a8"
             ],
             [
              0.3333333333333333,
              "#9c179e"
             ],
             [
              0.4444444444444444,
              "#bd3786"
             ],
             [
              0.5555555555555556,
              "#d8576b"
             ],
             [
              0.6666666666666666,
              "#ed7953"
             ],
             [
              0.7777777777777778,
              "#fb9f3a"
             ],
             [
              0.8888888888888888,
              "#fdca26"
             ],
             [
              1,
              "#f0f921"
             ]
            ],
            "type": "surface"
           }
          ],
          "table": [
           {
            "cells": {
             "fill": {
              "color": "#EBF0F8"
             },
             "line": {
              "color": "white"
             }
            },
            "header": {
             "fill": {
              "color": "#C8D4E3"
             },
             "line": {
              "color": "white"
             }
            },
            "type": "table"
           }
          ]
         },
         "layout": {
          "annotationdefaults": {
           "arrowcolor": "#2a3f5f",
           "arrowhead": 0,
           "arrowwidth": 1
          },
          "autotypenumbers": "strict",
          "coloraxis": {
           "colorbar": {
            "outlinewidth": 0,
            "ticks": ""
           }
          },
          "colorscale": {
           "diverging": [
            [
             0,
             "#8e0152"
            ],
            [
             0.1,
             "#c51b7d"
            ],
            [
             0.2,
             "#de77ae"
            ],
            [
             0.3,
             "#f1b6da"
            ],
            [
             0.4,
             "#fde0ef"
            ],
            [
             0.5,
             "#f7f7f7"
            ],
            [
             0.6,
             "#e6f5d0"
            ],
            [
             0.7,
             "#b8e186"
            ],
            [
             0.8,
             "#7fbc41"
            ],
            [
             0.9,
             "#4d9221"
            ],
            [
             1,
             "#276419"
            ]
           ],
           "sequential": [
            [
             0,
             "#0d0887"
            ],
            [
             0.1111111111111111,
             "#46039f"
            ],
            [
             0.2222222222222222,
             "#7201a8"
            ],
            [
             0.3333333333333333,
             "#9c179e"
            ],
            [
             0.4444444444444444,
             "#bd3786"
            ],
            [
             0.5555555555555556,
             "#d8576b"
            ],
            [
             0.6666666666666666,
             "#ed7953"
            ],
            [
             0.7777777777777778,
             "#fb9f3a"
            ],
            [
             0.8888888888888888,
             "#fdca26"
            ],
            [
             1,
             "#f0f921"
            ]
           ],
           "sequentialminus": [
            [
             0,
             "#0d0887"
            ],
            [
             0.1111111111111111,
             "#46039f"
            ],
            [
             0.2222222222222222,
             "#7201a8"
            ],
            [
             0.3333333333333333,
             "#9c179e"
            ],
            [
             0.4444444444444444,
             "#bd3786"
            ],
            [
             0.5555555555555556,
             "#d8576b"
            ],
            [
             0.6666666666666666,
             "#ed7953"
            ],
            [
             0.7777777777777778,
             "#fb9f3a"
            ],
            [
             0.8888888888888888,
             "#fdca26"
            ],
            [
             1,
             "#f0f921"
            ]
           ]
          },
          "colorway": [
           "#636efa",
           "#EF553B",
           "#00cc96",
           "#ab63fa",
           "#FFA15A",
           "#19d3f3",
           "#FF6692",
           "#B6E880",
           "#FF97FF",
           "#FECB52"
          ],
          "font": {
           "color": "#2a3f5f"
          },
          "geo": {
           "bgcolor": "white",
           "lakecolor": "white",
           "landcolor": "white",
           "showlakes": true,
           "showland": true,
           "subunitcolor": "#C8D4E3"
          },
          "hoverlabel": {
           "align": "left"
          },
          "hovermode": "closest",
          "mapbox": {
           "style": "light"
          },
          "paper_bgcolor": "white",
          "plot_bgcolor": "white",
          "polar": {
           "angularaxis": {
            "gridcolor": "#EBF0F8",
            "linecolor": "#EBF0F8",
            "ticks": ""
           },
           "bgcolor": "white",
           "radialaxis": {
            "gridcolor": "#EBF0F8",
            "linecolor": "#EBF0F8",
            "ticks": ""
           }
          },
          "scene": {
           "xaxis": {
            "backgroundcolor": "white",
            "gridcolor": "#DFE8F3",
            "gridwidth": 2,
            "linecolor": "#EBF0F8",
            "showbackground": true,
            "ticks": "",
            "zerolinecolor": "#EBF0F8"
           },
           "yaxis": {
            "backgroundcolor": "white",
            "gridcolor": "#DFE8F3",
            "gridwidth": 2,
            "linecolor": "#EBF0F8",
            "showbackground": true,
            "ticks": "",
            "zerolinecolor": "#EBF0F8"
           },
           "zaxis": {
            "backgroundcolor": "white",
            "gridcolor": "#DFE8F3",
            "gridwidth": 2,
            "linecolor": "#EBF0F8",
            "showbackground": true,
            "ticks": "",
            "zerolinecolor": "#EBF0F8"
           }
          },
          "shapedefaults": {
           "line": {
            "color": "#2a3f5f"
           }
          },
          "ternary": {
           "aaxis": {
            "gridcolor": "#DFE8F3",
            "linecolor": "#A2B1C6",
            "ticks": ""
           },
           "baxis": {
            "gridcolor": "#DFE8F3",
            "linecolor": "#A2B1C6",
            "ticks": ""
           },
           "bgcolor": "white",
           "caxis": {
            "gridcolor": "#DFE8F3",
            "linecolor": "#A2B1C6",
            "ticks": ""
           }
          },
          "title": {
           "x": 0.05
          },
          "xaxis": {
           "automargin": true,
           "gridcolor": "#EBF0F8",
           "linecolor": "#EBF0F8",
           "ticks": "",
           "title": {
            "standoff": 15
           },
           "zerolinecolor": "#EBF0F8",
           "zerolinewidth": 2
          },
          "yaxis": {
           "automargin": true,
           "gridcolor": "#EBF0F8",
           "linecolor": "#EBF0F8",
           "ticks": "",
           "title": {
            "standoff": 15
           },
           "zerolinecolor": "#EBF0F8",
           "zerolinewidth": 2
          }
         }
        },
        "title": {
         "text": "Média da Taxa de Crescimento (2020-2022) por Região (em %)"
        },
        "xaxis": {
         "anchor": "y",
         "domain": [
          0,
          1
         ],
         "title": {
          "text": "Região"
         }
        },
        "yaxis": {
         "anchor": "x",
         "domain": [
          0,
          1
         ],
         "tickformat": ".2f",
         "title": {
          "text": "Média da Taxa de Crescimento (%)"
         }
        }
       }
      }
     },
     "metadata": {},
     "output_type": "display_data"
    }
   ],
   "source": [
    "taxa_crescimento_regioes = taxa_crescimento.reset_index()\n",
    "taxa_crescimento_regioes.columns = [\"Estado\", \"Taxa_Crescimento\"]\n",
    "taxa_crescimento_regioes[\"Região\"] = taxa_crescimento_regioes[\"Estado\"].map(regioes)\n",
    "\n",
    "\n",
    "# Convertendo a taxa de crescimento para porcentagem\n",
    "taxa_crescimento_regioes[\"Taxa_Crescimento\"] = (\n",
    "    taxa_crescimento_regioes[\"Taxa_Crescimento\"] * 100\n",
    ")\n",
    "\n",
    "# Calculando a média da taxa de crescimento por região (em porcentagem)\n",
    "media_crescimento_regiao_sorted = (\n",
    "    taxa_crescimento_regioes.groupby(\"Região\")[\"Taxa_Crescimento\"].mean().sort_values()\n",
    ")\n",
    "\n",
    "# Criando o gráfico de barras interativo\n",
    "fig = px.bar(\n",
    "    media_crescimento_regiao_sorted,\n",
    "    x=media_crescimento_regiao_sorted.index,\n",
    "    y=media_crescimento_regiao_sorted.values,\n",
    "    text=media_crescimento_regiao_sorted.values.round(2),\n",
    "    labels={\"x\": \"Região\", \"y\": \"Média da Taxa de Crescimento (%)\"},\n",
    "    title=\"Média da Taxa de Crescimento (2020-2022) por Região (em %)\",\n",
    ")\n",
    "\n",
    "# Ajuste do layout para exibir as porcentagens\n",
    "fig.update_traces(texttemplate=\"%{text:.2f}%\", textposition=\"outside\")\n",
    "fig.update_layout(\n",
    "    yaxis_tickformat=\".2f\", hovermode=\"x unified\", template=\"plotly_white\", height=600\n",
    ")\n",
    "\n",
    "\n",
    "fig.show()"
   ]
  },
  {
   "cell_type": "markdown",
   "metadata": {},
   "source": [
    "# Relatório de Análise: Razão População (38-58 anos) / Empresas por Estado (2007-2022)\n",
    "\n",
    "## 1. Introdução\n",
    "Este relatório apresenta uma análise detalhada da evolução da razão entre a população na faixa etária de 38 a 58 anos e o número de empresas ativas em cada estado brasileiro. A análise abrange o período de 2007 a 2022 e busca identificar padrões de comportamento, prever tendências futuras e classificar estados por potencial de crescimento ou saturação.\n",
    "\n",
    "---\n",
    "\n",
    "## 2. Insights Obtidos\n",
    "\n",
    "### 2.1 Análise Geral da Razão População/Empresas\n",
    "- Estados como **Bahia, São Paulo e Rio de Janeiro** apresentaram uma razão alta e estável, indicando mercados maduros com **baixa margem de crescimento futuro**.\n",
    "- Estados do **Norte e Nordeste**, como **Acre, Rondônia e Amapá**, mostraram uma **trajetória de crescimento moderado**, sinalizando oportunidades de expansão.\n",
    "- Não houve nenhum estado identificado com crescimento acima de **15%**, o que sugere um mercado mais equilibrado no geral.\n",
    "\n",
    "---\n",
    "\n",
    "### 2.2 Previsões para 2021 e 2022\n",
    "- As previsões indicam **continuidade no comportamento histórico** para a maioria dos estados, sem mudanças bruscas.\n",
    "- **São Paulo e Bahia** continuarão apresentando as maiores razões, reforçando o caráter consolidado desses mercados.\n",
    "\n",
    "---\n",
    "\n",
    "### 2.3 Análise Regional\n",
    "\n",
    "#### Sul e Sudeste\n",
    "- Apresentam a **menor média de taxa de crescimento** entre 2020 e 2022, o que indica mercados já estabelecidos e próximos de saturação.\n",
    "\n",
    "#### Centro-Oeste e Nordeste\n",
    "- Apresentam a **taxa de crescimento médio, sendo as duas iguais**, sugerindo **oportunidades moderadas de expansão**.\n",
    "\n",
    "#### Norte\n",
    "- Crescimento alto, com mercados com espaços para expansões.\n",
    "\n",
    "---\n",
    "\n",
    "### 2.4 Classificação dos Estados\n",
    "\n",
    "#### Estados Saturados (Crescimento < 5%)\n",
    "- **Minas Gerais, São Paulo, Bahia, Paraná, Rio Grande do Sul, Pernambuco, Alagoas, Maranhão, Ceará, Pará, Amazonas, Santa Catarina, Rio de Janeiro**, entre outros.\n",
    "- Esses estados possuem mercados já maduros e consolidados, com baixo crescimento esperado.\n",
    "\n",
    "#### Estados com Crescimento Moderado (Entre 5% e 15%)\n",
    "- **Rondônia, Amapá e Acre**.\n",
    "- Esses estados apresentam crescimento constante e oportunidades de investimento moderadas.\n",
    "\n",
    "---\n",
    "\n",
    "## 3. Conclusão\n",
    "A análise revelou importantes diferenças regionais e destacou os estados mais promissores para expansão de negócios. Enquanto **Sul e Sudeste** se mostram mais saturados, o **Centro-Oeste, Norte e Nordeste** apresentam maior potencial de crescimento. Estados como **Rondônia, Amapá e Acre** merecem atenção especial para futuras estratégias de investimento.\n",
    "\n",
    "Recomenda-se continuar monitorando esses estados e regiões para identificar mudanças de tendência e novas oportunidades ao longo do tempo.\n",
    "\n",
    "---\n",
    "\n",
    "**Análise Realizada por:** José R. M. Gomes  \n",
    "\n",
    "\n"
   ]
  }
 ],
 "metadata": {
  "kernelspec": {
   "display_name": ".venv",
   "language": "python",
   "name": "python3"
  },
  "language_info": {
   "codemirror_mode": {
    "name": "ipython",
    "version": 3
   },
   "file_extension": ".py",
   "mimetype": "text/x-python",
   "name": "python",
   "nbconvert_exporter": "python",
   "pygments_lexer": "ipython3",
   "version": "3.12.2"
  }
 },
 "nbformat": 4,
 "nbformat_minor": 2
}
